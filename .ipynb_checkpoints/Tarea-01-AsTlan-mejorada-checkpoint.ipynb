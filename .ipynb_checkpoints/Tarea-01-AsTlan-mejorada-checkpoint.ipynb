{
 "metadata": {
  "name": ""
 },
 "nbformat": 3,
 "nbformat_minor": 0,
 "worksheets": [
  {
   "cells": [
    {
     "cell_type": "heading",
     "level": 1,
     "metadata": {},
     "source": [
      "Tarea 1: Ejercicios de calentamiento con Python"
     ]
    },
    {
     "cell_type": "markdown",
     "metadata": {},
     "source": [
      "**REGLAS:**\n",
      "\n",
      "- Usa Python para llevar a cabo las tareas. [O julia...]\n",
      "\n",
      "- S\u00ed se permite el trabajo colaborativo, y de hecho se fomenta, pero se exige el uso de las neuronas de todos los que colaboren. Se vale entregar una sola tarea por grupo de 2 o (si es necesario) 3 personas.\n",
      "\n",
      "- La tarea se entrega como un *notebook* de IPython, y debe incluir notas, comentario y **TODO** lo est\u00e9ticamente necesario, que lo haga entendible para una tercer persona no involucrada en el curso. \n",
      "\n",
      "- Se recomienda usar una versi\u00f3n nueva de este mismo notebook, reemplazando *[Respuesta aqu\u00ed] por tu discusi\u00f3n, c\u00f3digo, y resultados (en los tipos de celda que convengan, y con el n\u00famero de ellos que haga falta).\n",
      "\n",
      "- Cambia el nombre del notebook para reflejar el nombre que escojan para su grupo de trabajo, e.g. \"Tarea-01-profes\"\n",
      "\n",
      "\n"
     ]
    },
    {
     "cell_type": "markdown",
     "metadata": {},
     "source": [
      "**1.** Implementa (con Python) el llamado \"m\u00e9todo Babil\u00f3nico\" para calcular la ra\u00edz cuadrada de un \n",
      "n\u00famero dado, $y$. Este m\u00e9todo consiste en la iteraci\u00f3n \n",
      "$ x_{n+1} = \\frac{1}{2} ( x_n + \\frac{y}{x_n}). $\n",
      "\n",
      "a. \u00bfCu\u00e1ndo se deber\u00eda terminar la iteracion?\n",
      "\n",
      "b. \u00bfCu\u00e1l es la convergencia del m\u00e9todo?\n",
      "\n",
      "c. Calcula, usando este m\u00e9todo, la ra\u00edz cuadrada de los n\u00fameros $0$ hasta $10$, en pasos de $0.1$.\n",
      "\n",
      "d. \u00bfQu\u00e9 ser\u00eda bueno \"poder hacer\" --y que a\u00fan no hemos aprendido-- con este c\u00f3digo para poderlo correr muchas veces sin tener que incluirlo expl\u00edcitamente?"
     ]
    },
    {
     "cell_type": "markdown",
     "metadata": {},
     "source": [
      "**1.** Empezamos definiendo una funci\u00f3n que realice el paso iterativo, tomando como argumentos el valor $y$ al que se le sacar\u00e1 ra\u00edz cuadrada y el valor $x$ que se da como suposici\u00f3n inicial para $\\sqrt{y}$"
     ]
    },
    {
     "cell_type": "code",
     "collapsed": false,
     "input": [
      "def iteracion(x,y):\n",
      "    x=0.5*(x+(float(y)/x))\n",
      "    return x\n",
      "iteracion(1,2.5)"
     ],
     "language": "python",
     "metadata": {},
     "outputs": [
      {
       "metadata": {},
       "output_type": "pyout",
       "prompt_number": 26,
       "text": [
        "1.75"
       ]
      }
     ],
     "prompt_number": 26
    },
    {
     "cell_type": "markdown",
     "metadata": {},
     "source": [
      "Definimos una nueva funci\u00f3n que de la iteraci\u00f3n n\u00famero \"n\" del proceso babil\u00f3nico"
     ]
    },
    {
     "cell_type": "code",
     "collapsed": false,
     "input": [
      "def babilon(x,y,n):\n",
      "    for i in xrange(n):\n",
      "        x=iteracion(x,y)\n",
      "    return x"
     ],
     "language": "python",
     "metadata": {},
     "outputs": [],
     "prompt_number": 55
    },
    {
     "cell_type": "markdown",
     "metadata": {},
     "source": [
      "Observamos a froma de comprobaci\u00f3n lo siguiente"
     ]
    },
    {
     "cell_type": "code",
     "collapsed": false,
     "input": [
      "raizesperada2=babilon(1,2,110)\n",
      "print raizesperada2\n"
     ],
     "language": "python",
     "metadata": {},
     "outputs": [
      {
       "output_type": "stream",
       "stream": "stdout",
       "text": [
        "1.41421356237\n"
       ]
      }
     ],
     "prompt_number": 50
    },
    {
     "cell_type": "code",
     "collapsed": false,
     "input": [
      "1.41421356237**2"
     ],
     "language": "python",
     "metadata": {},
     "outputs": [
      {
       "metadata": {},
       "output_type": "pyout",
       "prompt_number": 48,
       "text": [
        "1.9999999999912461"
       ]
      }
     ],
     "prompt_number": 48
    },
    {
     "cell_type": "markdown",
     "metadata": {},
     "source": [
      "**1.b.** Presentamos la demostraci\u00f3n de la convergencia y dejamos **1.a.** pendiente"
     ]
    },
    {
     "cell_type": "markdown",
     "metadata": {},
     "source": [
      "Probaremos que $x_{n}\\rightarrow\\sqrt{y},$\n",
      "\n",
      "Caso 1. Si $y=a^{2}$ donde $a\\in\\mathbb{Z},$ entonces tomando a $x_{0}=a,$\n",
      "vemos que la prueba es obvia.\n",
      "\n",
      "Caso 2. Si $y$ no es el cuadrado de un n\u00famero entero.\n",
      "\n",
      "Entonces, en este caso, tomamos un entero $a$ tal que $a^{2}<y.$\n",
      "Primero demostraremos las siguientes desigualdades, las cuales las denotarmos como \"(1)\":\n",
      "\n",
      "\\begin{equation}\n",
      "\\frac{y}{x_{n}}<\\frac{y}{x_{n+1}}<\\sqrt{y}<x_{n+1}<x_{n},\n",
      "\\end{equation}\n",
      "\n",
      "\n",
      "Demostraci\u00f3n de (1).\n",
      "\n",
      "Como\n",
      "\\begin{equation}\n",
      "x_{n+1}=\\frac{1}{2}(x_{n}+\\frac{y}{x_{n}}),\n",
      "\\end{equation}\n",
      "obtenemos,\n",
      "\\begin{equation}\n",
      "x_{n+1}-\\frac{y}{x_{n+1}}=\\frac{(x_{n}-\\frac{y}{x_{n}})^{2}}{4x_{n+1}}\\text{\n",
      "}\\geq0\\text{  }\\forall n\\geq0,\n",
      "\\end{equation}\n",
      "si tuvieramos que\n",
      "\\begin{equation}\n",
      "x_{n+1}-\\frac{y}{x_{n+1}}=0,\n",
      "\\end{equation}\n",
      "por esta \u00faltima igualdad, tendr\u00edamos que\n",
      "\\begin{equation}\n",
      "x_{n}-\\frac{y}{x_{n}}=0\n",
      "\\end{equation}\n",
      "as\u00ed pues, aplicando esto mismo $n$ veces (de manera descendiente),\n",
      "tendr\u00edamos que\n",
      "\\begin{equation}\n",
      "x_{0}-\\frac{y}{x_{0}}=0,\n",
      "\\end{equation}\n",
      "una contradicci\u00f3n a que $a^{2}<y.$ Por lo tanto $x_{n+1}-\\frac{y}{x_{n+1}%\n",
      "}>0$ $\\forall n\\geq0,$ y as\u00ed entonces\n",
      "\\begin{equation}\n",
      "x_{n}>\\frac{y}{x_{n}}\\text{  }\\forall n\\geq1.\n",
      "\\end{equation}\n",
      "De esto, observamos que $x_{n}>\\sqrt{y},$ y no s\u00f3lo eso, vemos que $\\frac{\\sqrt{y}}{x_{n}}<1,$ y por lo tanto\n",
      "\\begin{equation}\n",
      "\\frac{y}{x_{n}}=\\frac{\\sqrt{y}\\sqrt{y}}{x_{n}}<1\\sqrt{y}.\n",
      "\\end{equation}\n",
      "Por lo que hemos demostrado que\n",
      "\\begin{equation}\n",
      "\\frac{y}{x_{n}}<\\sqrt{y}<x_{n}\\text{  }\\forall n\\geq1.\n",
      "\\end{equation}\n",
      "\n",
      "\n",
      "Como\n",
      "\\begin{equation}\n",
      "\\frac{y}{x_{n}}<x_{n},\n",
      "\\end{equation}\n",
      "se tiene entonces\n",
      "\\begin{equation}\n",
      "\\frac{y}{x_{n}}+x_{n}<2x_{n},\n",
      "\\end{equation}\n",
      "y por lo tanto\n",
      "\\begin{equation}\n",
      "x_{n+1}<x_{n}.\n",
      "\\end{equation}\n",
      "De esto \u00faltimo, tenemos que\n",
      "\\begin{equation}\n",
      "\\frac{1}{x_{n}}<\\frac{1}{x_{n+1}},\n",
      "\\end{equation}\n",
      "y por lo tanto\n",
      "\\begin{equation}\n",
      "\\frac{y}{x_{n}}<\\frac{y}{x_{n+1}},\n",
      "\\end{equation}\n",
      "por lo que hemos terminado la demostraci\u00f3n de (1).\n",
      "\n",
      "Observa que por (1),\n",
      "\\begin{align}\n",
      "x_{n}-\\sqrt{y}  & <x_{n}-\\frac{y}{x_{n}}<x_{n}-\\frac{y}{x_{n-1}}\\\\\n",
      "& =\\frac{1}{2}(x_{n-1}-\\frac{y}{x_{n-1}}),\n",
      "\\end{align}\n",
      "as\u00ed entonces, repitiendo este paso \"n\" veces, tenemos que,\n",
      "\\begin{equation}\n",
      "x_{n}-\\sqrt{y}<\\frac{1}{2^{n}}(a-\\frac{y}{a}),\n",
      "\\end{equation}\n",
      "y por lo tanto, cuando $n\\rightarrow\\infty,$ $x_{n}\\rightarrow\\sqrt{y}.$\n",
      "\n",
      "Nota: La prueba es an\u00e1loga si tomamos un entero $a$, tal que $a^{2}>y.$\n",
      "\n",
      "Se sigue de la prueba que la convergencia se da de manera proporcional a $\\frac{1}{2^n}$ a la iteraci\u00f3n $n$ donde la constante de proporcionalidad depende de la condici\u00f3n inicial.\n"
     ]
    },
    {
     "cell_type": "markdown",
     "metadata": {},
     "source": [
      "**1.a.** Se sigue de la prueba anterior que dado un error $e$ tomando $n>\\frac{\\log{\\frac{|a-\\frac{y}{a}|\n",
      "}{e}}}{\\log{2}}$ entonces $|x_n-\\sqrt{y}|<e$"
     ]
    },
    {
     "cell_type": "markdown",
     "metadata": {},
     "source": [
      "**1.c** Procedemos a generalizar el algoritmo"
     ]
    },
    {
     "cell_type": "code",
     "collapsed": false,
     "input": [
      "import numpy as np\n",
      "def iteracion(x,y):\n",
      "    x=0.5*(x+(y/x))\n",
      "    return x\n",
      "def babilon(x,y,n):\n",
      "    x=float(x)\n",
      "    if type(y)== np.ndarray and type(x)!= np.ndarray:\n",
      "        x=np.zeros(y.shape)+x    \n",
      "    for i in xrange(n):\n",
      "        x=iteracion(x,y)\n",
      "    return x"
     ],
     "language": "python",
     "metadata": {},
     "outputs": [],
     "prompt_number": 2
    },
    {
     "cell_type": "code",
     "collapsed": false,
     "input": [
      "array = np.arange(0.,10.1,0.1)\n",
      "babilarray=babilon(1,array,100)\n",
      "print babilarray"
     ],
     "language": "python",
     "metadata": {},
     "outputs": [
      {
       "output_type": "stream",
       "stream": "stdout",
       "text": [
        "[  7.88860905e-31   3.16227766e-01   4.47213595e-01   5.47722558e-01\n",
        "   6.32455532e-01   7.07106781e-01   7.74596669e-01   8.36660027e-01\n",
        "   8.94427191e-01   9.48683298e-01   1.00000000e+00   1.04880885e+00\n",
        "   1.09544512e+00   1.14017543e+00   1.18321596e+00   1.22474487e+00\n",
        "   1.26491106e+00   1.30384048e+00   1.34164079e+00   1.37840488e+00\n",
        "   1.41421356e+00   1.44913767e+00   1.48323970e+00   1.51657509e+00\n",
        "   1.54919334e+00   1.58113883e+00   1.61245155e+00   1.64316767e+00\n",
        "   1.67332005e+00   1.70293864e+00   1.73205081e+00   1.76068169e+00\n",
        "   1.78885438e+00   1.81659021e+00   1.84390889e+00   1.87082869e+00\n",
        "   1.89736660e+00   1.92353841e+00   1.94935887e+00   1.97484177e+00\n",
        "   2.00000000e+00   2.02484567e+00   2.04939015e+00   2.07364414e+00\n",
        "   2.09761770e+00   2.12132034e+00   2.14476106e+00   2.16794834e+00\n",
        "   2.19089023e+00   2.21359436e+00   2.23606798e+00   2.25831796e+00\n",
        "   2.28035085e+00   2.30217289e+00   2.32379001e+00   2.34520788e+00\n",
        "   2.36643191e+00   2.38746728e+00   2.40831892e+00   2.42899156e+00\n",
        "   2.44948974e+00   2.46981781e+00   2.48997992e+00   2.50998008e+00\n",
        "   2.52982213e+00   2.54950976e+00   2.56904652e+00   2.58843582e+00\n",
        "   2.60768096e+00   2.62678511e+00   2.64575131e+00   2.66458252e+00\n",
        "   2.68328157e+00   2.70185122e+00   2.72029410e+00   2.73861279e+00\n",
        "   2.75680975e+00   2.77488739e+00   2.79284801e+00   2.81069386e+00\n",
        "   2.82842712e+00   2.84604989e+00   2.86356421e+00   2.88097206e+00\n",
        "   2.89827535e+00   2.91547595e+00   2.93257566e+00   2.94957624e+00\n",
        "   2.96647939e+00   2.98328678e+00   3.00000000e+00   3.01662063e+00\n",
        "   3.03315018e+00   3.04959014e+00   3.06594194e+00   3.08220700e+00\n",
        "   3.09838668e+00   3.11448230e+00   3.13049517e+00   3.14642654e+00\n",
        "   3.16227766e+00]\n"
       ]
      }
     ],
     "prompt_number": 7
    },
    {
     "cell_type": "markdown",
     "metadata": {},
     "source": [
      "Y se verifica para los valores 1 y 9 "
     ]
    },
    {
     "cell_type": "code",
     "collapsed": false,
     "input": [
      "print array[10]\n",
      "print babilarray[10]               "
     ],
     "language": "python",
     "metadata": {},
     "outputs": [
      {
       "output_type": "stream",
       "stream": "stdout",
       "text": [
        "1.0\n",
        "1.0\n"
       ]
      }
     ],
     "prompt_number": 8
    },
    {
     "cell_type": "code",
     "collapsed": false,
     "input": [
      "print array[90]\n",
      "print babilarray[90]"
     ],
     "language": "python",
     "metadata": {},
     "outputs": [
      {
       "output_type": "stream",
       "stream": "stdout",
       "text": [
        "9.0\n",
        "3.0\n"
       ]
      }
     ],
     "prompt_number": 9
    },
    {
     "cell_type": "markdown",
     "metadata": {},
     "source": [
      "**1.d.** Ser\u00eda bueno poder saber guardar el c\u00f3digo y mandarlo llamar sin tener que escribirlo de forma expl\u00edcita en la pantalla, como una funci\u00f3n de numpy o el mismo numpy."
     ]
    },
    {
     "cell_type": "markdown",
     "metadata": {},
     "source": [
      "**2.** Considera la f\u00f3rmula de recursi\u00f3n $ x_{n+1} = x_n^2 $. \n",
      "\n",
      "a. \u00bfCu\u00e1l es el valor del iterado $x_{75}$ cuando el valor inicial es $x_0=1-10^{-20}$, calculado num\u00e9ricamente? \n",
      "\n",
      "b. Compara el resultado num\u00e9rico obtenido con el que uno esperar\u00eda al elevar al cuadrado un n\u00famero ligeramente menor que 1 un \n",
      "mont\u00f3n de veces... \u00bfCu\u00e1l resultado es el correcto? \n",
      "\n",
      "c. \u00bfQu\u00e9 necesitar\u00edas para verificar esto num\u00e9ricamente?\n",
      "\n",
      "d. Suele ser una buena idea hacer el c\u00f3digo m\u00e1s general posible, para no repetir esfuerzos despu\u00e9s. \u00bfC\u00f3mo podr\u00edas escribir c\u00f3digo para la iteraci\u00f3n general $x_{n+1} = f(x_n)$, donde $f$ es una funci\u00f3n dada (una funci\u00f3n implementada con `def` en Python)?\n",
      "\n"
     ]
    },
    {
     "cell_type": "markdown",
     "metadata": {},
     "source": [
      "**2.** Primero definimos la funci\u00f3n para el paso iterativo:"
     ]
    },
    {
     "cell_type": "code",
     "collapsed": false,
     "input": [
      " def iteracion(x):\n",
      "    x=x**2\n",
      "    return x             "
     ],
     "language": "python",
     "metadata": {},
     "outputs": [],
     "prompt_number": 10
    },
    {
     "cell_type": "markdown",
     "metadata": {},
     "source": [
      "Y se procede a definir la funci\u00f3n para la iteraci\u00f3n $n$-\u00e9sima con valor inicial $x$:"
     ]
    },
    {
     "cell_type": "code",
     "collapsed": false,
     "input": [
      "def n_iteracion(x,n):\n",
      "    for i in xrange(n):\n",
      "        x=iteracion(x)\n",
      "    return x\n",
      "    "
     ],
     "language": "python",
     "metadata": {},
     "outputs": [],
     "prompt_number": 11
    },
    {
     "cell_type": "markdown",
     "metadata": {},
     "source": [
      "Como ejemplo y verificaci\u00f3n de que est\u00e1 bien el c\u00f3digo notamos lo siguiente"
     ]
    },
    {
     "cell_type": "code",
     "collapsed": false,
     "input": [
      "p=(((3**2)**2)**2)**2\n",
      "d=n_iteracion(3,4)\n",
      "d==p"
     ],
     "language": "python",
     "metadata": {},
     "outputs": [
      {
       "metadata": {},
       "output_type": "pyout",
       "prompt_number": 12,
       "text": [
        "True"
       ]
      }
     ],
     "prompt_number": 12
    },
    {
     "cell_type": "markdown",
     "metadata": {},
     "source": [
      "**2.a.** Implementamos el c\u00f3digo para obtener la iteraci\u00f3n 75 con condici\u00f3n inicial $1-10^{-20}$"
     ]
    },
    {
     "cell_type": "code",
     "collapsed": false,
     "input": [
      "x=1-10**-20\n",
      "n_iteracion(x,75)"
     ],
     "language": "python",
     "metadata": {},
     "outputs": [
      {
       "metadata": {},
       "output_type": "pyout",
       "prompt_number": 14,
       "text": [
        "1.0"
       ]
      }
     ],
     "prompt_number": 14
    },
    {
     "cell_type": "markdown",
     "metadata": {},
     "source": [
      "**2.b.** El resultado correcto es un n\u00famero muy cercano a cero, pues se sabe que $\\lim_{n \\to \\infty }x^{2^n}=0$ para $0\\leq x <1$; siendo este el caso que nos concierne en **2.a.**"
     ]
    },
    {
     "cell_type": "markdown",
     "metadata": {},
     "source": [
      "**2.c.** Para verificar esto tendr\u00edamos que tener acceso a un mayor n\u00famero de decimales en la computadora para hacer nuestras cuentas. Esto se sigue de las siguientes observaciones"
     ]
    },
    {
     "cell_type": "code",
     "collapsed": false,
     "input": [
      "print 10**(-20)"
     ],
     "language": "python",
     "metadata": {},
     "outputs": [
      {
       "output_type": "stream",
       "stream": "stdout",
       "text": [
        "1e-20\n"
       ]
      }
     ],
     "prompt_number": 15
    },
    {
     "cell_type": "code",
     "collapsed": false,
     "input": [
      "print 1 - 10**(-20)"
     ],
     "language": "python",
     "metadata": {},
     "outputs": [
      {
       "output_type": "stream",
       "stream": "stdout",
       "text": [
        "1.0\n"
       ]
      }
     ],
     "prompt_number": 16
    },
    {
     "cell_type": "markdown",
     "metadata": {},
     "source": [
      "**2.d.** Asumiendo que se ha definido una funci\u00f3n $f(x)$ previamente"
     ]
    },
    {
     "cell_type": "code",
     "collapsed": false,
     "input": [
      "def iteracion(x):\n",
      "    x=f(x)\n",
      "    return x\n",
      "\n",
      "def n_iteracio(x,n):\n",
      "    for i in xrange(n):\n",
      "        x=iteracion(x)\n",
      "    return x"
     ],
     "language": "python",
     "metadata": {},
     "outputs": [],
     "prompt_number": 17
    },
    {
     "cell_type": "markdown",
     "metadata": {},
     "source": [
      "**3.** *\"Hace muchos muchos a\u00f1os, en un reino muy lejano...\"*, se le ocurri\u00f3 a Arqu\u00edmedes un m\u00e9todo para determinar el valor num\u00e9rico de $\\pi$. El m\u00e9todo consiste en considerar dos pol\u00edgonos regulares de $n$ lados, uno inscrito y otro circunscrito al c\u00edrculo, y ver c\u00f3mo el \u00e1rea de estos acota por abajo y arriba el \u00e1rea del c\u00edrculo. \n",
      "\n",
      "a. Da las cotas (inferior y superior) al \u00e1rea del c\u00edrculo de radio 1, *al menos* cuando $n=4$, $5$ y $6$ (o sea, las cotas que se obtienen usando los siguientes pol\u00edgonos regulares:  el cuadrado, el pent\u00e1gono y el hex\u00e1gono). \n",
      "\n",
      "[Arqu\u00edmedes seguramente hizo esto de manera emp\u00edrica, construyendo los pol\u00edgonos; para este ejercicio se \n",
      "vale utilizar lo que sabes de geometr\u00eda y trigonometr\u00eda.]\n",
      "\n",
      "b. \u00bfSe te ocurre c\u00f3mo obtener las cotas para $\\pi$ usando un pol\u00edgono regular de $n$ lados?\n",
      "\n",
      "(\u00c9ste es el **Ejercicio 1.1** del Moore-Kearfortt (2009); la soluci\u00f3n que ellos dan para $n=4$ me parece que est\u00e1 mal en la cota inferior.)"
     ]
    },
    {
     "cell_type": "markdown",
     "metadata": {},
     "source": [
      "**3.b.** Hagamos una idea de la prueba para calcular el \u00e1rea de  pol\u00edgono regular que esta inscrito en el c\u00edrculo de radio uno. Primero, observamos que el pol\u00edgono se divide en $n$ tri\u00e1ngulos rect\u00e1ngulos, cuya base mide uno y uno de sus \u00e1ngulos mide $a=\\frac{2\\pi}{n}$. Con esta informaci\u00f3n, podemos calcular la distancia de su altura, la cual va a ser $\\sin{\\frac{2\\pi}{n}}$, y en consecuencia podemos caular su \u00e1rea que resulta ser $\\frac{\\sin{\\frac{2\\pi}{n}}}{2}$ (tri\u00e1ngulo que se forma con lineas verde, roja y amarilla en la figura de abajo). Por lo tanto, sumando las areas de estos $n$ tri\u00e1ngulos, tenemos que el area del pol\u00edgono es $\\frac{n\\sin{\\frac{2\\pi}{n}}}{2}$."
     ]
    },
    {
     "cell_type": "code",
     "collapsed": false,
     "input": [
      "%matplotlib inline\n",
      "from matplotlib import pyplot as plt\n",
      "theta=np.arange(0,2*np.pi,2*np.pi/360)\n",
      "x=np.cos(theta)\n",
      "y=np.sin(theta)\n",
      "plt.figure()\n",
      "plt.axis('scaled')\n",
      "plt.plot(x,y)\n",
      "plt.xlim(-1.3,1.3)\n",
      "plt.ylim(-1.3,1.3)\n",
      "phi=(np.pi/180)*(360/5.)\n",
      "y=np.sin(phi*np.arange(0,6))\n",
      "x=np.cos(phi*np.arange(0,6))\n",
      "plt.plot(x,y,'r')\n",
      "x=0,x[1]\n",
      "y=0,y[1]\n",
      "plt.plot(x,y,'g')\n",
      "x=0,1,1,0\n",
      "y=0,0,np.tan(np.pi/5),0\n",
      "plt.plot(x,y,'y')\n",
      "r=np.cos(np.pi/5)**(-1)\n",
      "x=[]\n",
      "y=[]\n",
      "for i in xrange(0,5):\n",
      "    x.append(r*np.cos(((2*i+1)*np.pi)/5))\n",
      "    x.append(np.cos(((2*i+2)*np.pi)/5))\n",
      "    y.append(r*np.sin(((2*i+1)*np.pi)/5))\n",
      "    y.append(np.sin(((2*i+2)*np.pi)/5))\n",
      "plt.plot(x,y,'m')\n",
      "plt.annotate(\"b\",\n",
      "            xy=(0.20, 0.), xycoords='data',\n",
      "            xytext=(0.21, 0.19), textcoords='data',\n",
      "            arrowprops=dict(arrowstyle=\"-\",\n",
      "                            connectionstyle=\"angle3\"),\n",
      "            )\n",
      "plt.annotate(\"a\",\n",
      "            xy=(0.07, 0.), xycoords='data',\n",
      "            xytext=(0.09, 0.3), textcoords='data',\n",
      "            arrowprops=dict(arrowstyle=\"-\",\n",
      "                            connectionstyle=\"angle3\"),label='a'\n",
      "            )\n",
      "\n",
      "plt.show()"
     ],
     "language": "python",
     "metadata": {},
     "outputs": [
      {
       "metadata": {},
       "output_type": "display_data",
       "png": "[encoded data removed]",
       "text": [
        "<matplotlib.figure.Figure at 0x46b5ef0>"
       ]
      }
     ],
     "prompt_number": 46
    },
    {
     "cell_type": "markdown",
     "metadata": {},
     "source": [
      "Para calcular el area del pol\u00edgono circunscrito, vemos que este pol\u00edgono est\u00e1 compuesto de $n$ tri\u00e1ngulos isoceles de altura uno, y uno de sus \u00e1ngulos mide $\\frac{2\\pi}{n}$. Tomando una mitad de estos tri\u00e1ngulos is\u00f3celes (tri\u00e1ngulo amarillo de la figura de arriba), vemos que la base de este subtri\u00e1ngulo mide $\\tan{\\frac{\\pi}{n}}$, por lo que el area de los tri\u00e1ngulos is\u00f3celes son $2\\frac{\\tan{\\frac{\\pi}{n}}}{2}$=$\\tan{\\frac{\\pi}{n}}$. Por lo tanto, sumando las areas de estos $n$ tri\u00e1ngulos, tenemos que el area del pol\u00edgono circunscrito es $n\\tan{\\frac{\\pi}{n}}$."
     ]
    },
    {
     "cell_type": "markdown",
     "metadata": {},
     "source": [
      "**3.1** Calculamos el \u00e1rea de los pol\u00edgonos inscritos con $n=4,5,6$, para encontrar las cotas por abajo."
     ]
    },
    {
     "cell_type": "code",
     "collapsed": false,
     "input": [
      "grad=np.pi/180\n",
      "def cotad(n):\n",
      "    return (0.5)*n*np.sin((360*grad)/n)"
     ],
     "language": "python",
     "metadata": {},
     "outputs": [],
     "prompt_number": 120
    },
    {
     "cell_type": "code",
     "collapsed": false,
     "input": [
      "for n in xrange(4,7):\n",
      "    print 'el \u00e1rea del pol\u00edgono inscrito de %d lados es %f'%(n,cotad(n))"
     ],
     "language": "python",
     "metadata": {},
     "outputs": [
      {
       "output_type": "stream",
       "stream": "stdout",
       "text": [
        "el \u00e1rea del pol\u00edgono inscrito de 4 lados es 2.000000\n",
        "el \u00e1rea del pol\u00edgono inscrito de 5 lados es 2.377641\n",
        "el \u00e1rea del pol\u00edgono inscrito de 6 lados es 2.598076\n"
       ]
      }
     ],
     "prompt_number": 122
    },
    {
     "cell_type": "markdown",
     "metadata": {},
     "source": [
      "Por \u00faltimo, calculamos el \u00e1rea de los pol\u00edgonos circunscritos con $n=4,5,6$, para encontrar las cotas por arriba."
     ]
    },
    {
     "cell_type": "code",
     "collapsed": false,
     "input": [
      "def cotau(n):\n",
      "    return n*np.tan((360*grad)/(2*n))"
     ],
     "language": "python",
     "metadata": {},
     "outputs": [],
     "prompt_number": 125
    },
    {
     "cell_type": "code",
     "collapsed": false,
     "input": [
      "for n in xrange(4,7):\n",
      "    print 'el \u00e1rea del pol\u00edgono circunscrito de %d lados es %f'%(n,cotau(n))"
     ],
     "language": "python",
     "metadata": {},
     "outputs": [
      {
       "output_type": "stream",
       "stream": "stdout",
       "text": [
        "el \u00e1rea del pol\u00edgono circunscrito de 4 lados es 4.000000\n",
        "el \u00e1rea del pol\u00edgono circunscrito de 5 lados es 3.632713\n",
        "el \u00e1rea del pol\u00edgono circunscrito de 6 lados es 3.464102\n"
       ]
      }
     ],
     "prompt_number": 126
    },
    {
     "cell_type": "code",
     "collapsed": false,
     "input": [],
     "language": "python",
     "metadata": {},
     "outputs": []
    }
   ],
   "metadata": {}
  }
 ]
}