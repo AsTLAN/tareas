{
 "metadata": {
  "name": ""
 },
 "nbformat": 3,
 "nbformat_minor": 0,
 "worksheets": [
  {
   "cells": [
    {
     "cell_type": "markdown",
     "metadata": {},
     "source": [
      "**Ejercicio 1**"
     ]
    },
    {
     "cell_type": "code",
     "collapsed": false,
     "input": [
      "from sympy.mpmath import *"
     ],
     "language": "python",
     "metadata": {},
     "outputs": [],
     "prompt_number": 70
    },
    {
     "cell_type": "markdown",
     "metadata": {},
     "source": [
      "Primero, vamos a definir la funci\u00f3n que nos piden."
     ]
    },
    {
     "cell_type": "code",
     "collapsed": false,
     "input": [
      "def R(x,y):\n",
      "    return (mpf(33375./100))*(mpf(y)**6) + (mpf(x)**2)*((11)*(mpf(x)**2)*(mpf(y)**2) - (mpf(y)**6) - (121)*(mpf(y)**4) - 2) + (mpf(55./10))*(mpf(y)**8) + (mpf(x))/(2*(mpf(y)))"
     ],
     "language": "python",
     "metadata": {},
     "outputs": [],
     "prompt_number": 71
    },
    {
     "cell_type": "markdown",
     "metadata": {},
     "source": [
      "Ahora, evaluemos en los valores $x=77617$ y $y=33096$. "
     ]
    },
    {
     "cell_type": "code",
     "collapsed": false,
     "input": [
      "print mpf(R(77617,33096))"
     ],
     "language": "python",
     "metadata": {},
     "outputs": [
      {
       "output_type": "stream",
       "stream": "stdout",
       "text": [
        "-1.18059162071741e+21\n"
       ]
      }
     ],
     "prompt_number": 72
    },
    {
     "cell_type": "markdown",
     "metadata": {},
     "source": [
      "Observemos que el resultado que obtenemos es un n\u00famero en notaci\u00f3n decimal. Extenderemos el resultado en 30, 60 y 80 d\u00edgitos."
     ]
    },
    {
     "cell_type": "code",
     "collapsed": false,
     "input": [
      "mp.dps=30"
     ],
     "language": "python",
     "metadata": {},
     "outputs": [],
     "prompt_number": 73
    },
    {
     "cell_type": "code",
     "collapsed": false,
     "input": [
      "print mp"
     ],
     "language": "python",
     "metadata": {},
     "outputs": [
      {
       "output_type": "stream",
       "stream": "stdout",
       "text": [
        "Mpmath settings:\n",
        "  mp.prec = 103               [default: 53]\n",
        "  mp.dps = 30                 [default: 15]\n",
        "  mp.trap_complex = False     [default: False]\n"
       ]
      }
     ],
     "prompt_number": 74
    },
    {
     "cell_type": "code",
     "collapsed": false,
     "input": [
      "print mpf(R(77617,33096))"
     ],
     "language": "python",
     "metadata": {},
     "outputs": [
      {
       "output_type": "stream",
       "stream": "stdout",
       "text": [
        "1.17260394005317863185883490452\n"
       ]
      }
     ],
     "prompt_number": 75
    },
    {
     "cell_type": "code",
     "collapsed": false,
     "input": [
      "mp.dps=60"
     ],
     "language": "python",
     "metadata": {},
     "outputs": [],
     "prompt_number": 76
    },
    {
     "cell_type": "code",
     "collapsed": false,
     "input": [
      "print mpf(R(77617,33096))"
     ],
     "language": "python",
     "metadata": {},
     "outputs": [
      {
       "output_type": "stream",
       "stream": "stdout",
       "text": [
        "-0.827396059946821368141165095479816291999033115784384819917815\n"
       ]
      }
     ],
     "prompt_number": 77
    },
    {
     "cell_type": "code",
     "collapsed": false,
     "input": [
      "mp.dps=80"
     ],
     "language": "python",
     "metadata": {},
     "outputs": [],
     "prompt_number": 78
    },
    {
     "cell_type": "code",
     "collapsed": false,
     "input": [
      "b = mpf(R(77617,33096))\n",
      "print b"
     ],
     "language": "python",
     "metadata": {},
     "outputs": [
      {
       "output_type": "stream",
       "stream": "stdout",
       "text": [
        "-0.82739605994682136814116509547981629199903311578438481991781484167270969301426154\n"
       ]
      }
     ],
     "prompt_number": 79
    },
    {
     "cell_type": "markdown",
     "metadata": {},
     "source": [
      "Ahora, usando la herramienta de sympy \"Rational\", haremos los mismos c\u00e1lculos."
     ]
    },
    {
     "cell_type": "code",
     "collapsed": false,
     "input": [
      "from sympy import Rational"
     ],
     "language": "python",
     "metadata": {},
     "outputs": [],
     "prompt_number": 83
    },
    {
     "cell_type": "code",
     "collapsed": false,
     "input": [
      "a = Rational(33375,100)*(33096)**6 + ((77617)**2)*((11)*((77617)**2)*((33096)**2) - ((33096)**6) - (121)*((33096)**4) - 2) + Rational(55,10)*((33096)**8) + Rational(77617,(2*33096))"
     ],
     "language": "python",
     "metadata": {},
     "outputs": [],
     "prompt_number": 92
    },
    {
     "cell_type": "code",
     "collapsed": false,
     "input": [
      "print a"
     ],
     "language": "python",
     "metadata": {},
     "outputs": [
      {
       "output_type": "stream",
       "stream": "stdout",
       "text": [
        "-54767/66192\n"
       ]
      }
     ],
     "prompt_number": 93
    },
    {
     "cell_type": "markdown",
     "metadata": {},
     "source": [
      "La cual, podemos observar, es un n\u00famero racional como esperabamos. Veamos cual es el valor en n\u00fameros decimales de \"a\" y veamos que tan distinito es de \"b\"."
     ]
    },
    {
     "cell_type": "code",
     "collapsed": false,
     "input": [
      "print mpf(a)"
     ],
     "language": "python",
     "metadata": {},
     "outputs": [
      {
       "output_type": "stream",
       "stream": "stdout",
       "text": [
        "-0.82739605994682136814116509547981629199903311578438481991781484167270969301426154\n"
       ]
      }
     ],
     "prompt_number": 94
    },
    {
     "cell_type": "code",
     "collapsed": false,
     "input": [
      "print mpf(abs(a-b))"
     ],
     "language": "python",
     "metadata": {},
     "outputs": [
      {
       "output_type": "stream",
       "stream": "stdout",
       "text": [
        "0.0\n"
       ]
      }
     ],
     "prompt_number": 95
    },
    {
     "cell_type": "markdown",
     "metadata": {},
     "source": [
      "**Ejercicio 2**"
     ]
    },
    {
     "cell_type": "markdown",
     "metadata": {},
     "source": [
      "Primero, calcularemos la integral que nos piden con la herramienta \"Integral\" de la libreria *Sympy*"
     ]
    },
    {
     "cell_type": "code",
     "collapsed": false,
     "input": [
      "from sympy import symbols, Integral, exp, sqrt, pi\n",
      "from sympy import init_printing\n",
      "init_printing()"
     ],
     "language": "python",
     "metadata": {},
     "outputs": [],
     "prompt_number": 96
    },
    {
     "cell_type": "code",
     "collapsed": false,
     "input": [
      "x = symbols(\"x\")"
     ],
     "language": "python",
     "metadata": {},
     "outputs": [],
     "prompt_number": 97
    },
    {
     "cell_type": "code",
     "collapsed": false,
     "input": [
      "integrando = (1/sqrt(pi))*exp(-(x*x))"
     ],
     "language": "python",
     "metadata": {},
     "outputs": [],
     "prompt_number": 98
    },
    {
     "cell_type": "code",
     "collapsed": false,
     "input": [
      "integrando"
     ],
     "language": "python",
     "metadata": {},
     "outputs": [
      {
       "latex": [
        "$$\\frac{e^{- x^{2}}}{\\sqrt{\\pi}}$$"
       ],
       "metadata": {},
       "output_type": "pyout",
       "png": "[encoded data removed]",
       "prompt_number": 99,
       "text": [
        "    2\n",
        "  -x \n",
        " \u212f   \n",
        "\u2500\u2500\u2500\u2500\u2500\n",
        "  ___\n",
        "\u2572\u2571 \u03c0 "
       ]
      }
     ],
     "prompt_number": 99
    },
    {
     "cell_type": "code",
     "collapsed": false,
     "input": [
      "I = Integral(integrando,(x,0,1))"
     ],
     "language": "python",
     "metadata": {},
     "outputs": [],
     "prompt_number": 100
    },
    {
     "cell_type": "code",
     "collapsed": false,
     "input": [
      "I.doit()"
     ],
     "language": "python",
     "metadata": {},
     "outputs": [
      {
       "latex": [
        "$$\\frac{1}{2} \\operatorname{erf}{\\left (1 \\right )}$$"
       ],
       "metadata": {},
       "output_type": "pyout",
       "png": "[encoded data removed]",
       "prompt_number": 101,
       "text": [
        "erf(1)\n",
        "\u2500\u2500\u2500\u2500\u2500\u2500\n",
        "  2   "
       ]
      }
     ],
     "prompt_number": 101
    },
    {
     "cell_type": "markdown",
     "metadata": {},
     "source": [
      "En este caso, sympy nos muestra que el valor de la integral $I_1$ es *[erf(1)/2]*, que es precisamente lo que los probabilistas llaman la *\"funci\u00f3n error\"*. En este caso, podemos concluir que sympy tiene incluida la funci\u00f3n *erf* (o una aproxiamci\u00f3n a la funci\u00f3n *erf*), entonces, para queremos saber el valor que nos da sympy de esta integral, tenemos que evaluar esta funci\u00f3n *erf* en 1 y divir este valor entre 2, para esto, usamos el comando **evalf()**."
     ]
    },
    {
     "cell_type": "code",
     "collapsed": false,
     "input": [
      "from sympy import erf\n",
      "z = erf(1).evalf()"
     ],
     "language": "python",
     "metadata": {},
     "outputs": [],
     "prompt_number": 102
    },
    {
     "cell_type": "code",
     "collapsed": false,
     "input": [
      "I = z/2\n",
      "print I"
     ],
     "language": "python",
     "metadata": {},
     "outputs": [
      {
       "output_type": "stream",
       "stream": "stdout",
       "text": [
        "0.421350396474857\n"
       ]
      }
     ],
     "prompt_number": 103
    },
    {
     "cell_type": "markdown",
     "metadata": {},
     "source": [
      "Tambi\u00e9n, podemos calcular esta integral con la libreria *scipy* y compararemos los resultados.  "
     ]
    },
    {
     "cell_type": "code",
     "collapsed": false,
     "input": [
      "from scipy import exp, pi, sqrt, integrate"
     ],
     "language": "python",
     "metadata": {},
     "outputs": [],
     "prompt_number": 104
    },
    {
     "cell_type": "code",
     "collapsed": false,
     "input": [
      "f= lambda x: (1/sqrt(pi))*exp(-(x*x))"
     ],
     "language": "python",
     "metadata": {},
     "outputs": [],
     "prompt_number": 105
    },
    {
     "cell_type": "code",
     "collapsed": false,
     "input": [
      "integrate.quad(f, 0., 1.)"
     ],
     "language": "python",
     "metadata": {},
     "outputs": [
      {
       "latex": [
        "$$\\begin{pmatrix}0.421350396475, & 4.67792911601e-15\\end{pmatrix}$$"
       ],
       "metadata": {},
       "output_type": "pyout",
       "png": "[encoded data removed]",
       "prompt_number": 106,
       "text": [
        "(0.421350396475, 4.67792911601e-15)"
       ]
      }
     ],
     "prompt_number": 106
    },
    {
     "cell_type": "markdown",
     "metadata": {},
     "source": [
      "En este caso, python (scipy) nos muestra una tupla, donde la primera coordenada es el valor estimado de la integral y la segunda coordenada es una cota por arriba del error.\n",
      "\n",
      "Podemos observar que la primera coordenada de esta tupla es igual al valor $I$ hasta 8 decimales, por lo que podemos decir que $0.42135039$ es una buena aproximaci\u00f3n del valor de la integral $I_1$."
     ]
    },
    {
     "cell_type": "markdown",
     "metadata": {},
     "source": [
      "**Ejercicio 3.a**"
     ]
    },
    {
     "cell_type": "markdown",
     "metadata": {},
     "source": [
      "Primero, graficaremos la funci\u00f3n que nos piden."
     ]
    },
    {
     "cell_type": "code",
     "collapsed": false,
     "input": [
      "import numpy as np"
     ],
     "language": "python",
     "metadata": {},
     "outputs": [],
     "prompt_number": 62
    },
    {
     "cell_type": "code",
     "collapsed": false,
     "input": [
      "def f(x):\n",
      "    return (np.cos((np.log(x))/(float(x))))/(float(x))"
     ],
     "language": "python",
     "metadata": {},
     "outputs": [],
     "prompt_number": 63
    },
    {
     "cell_type": "code",
     "collapsed": false,
     "input": [
      "zgraf = np.linspace(.01,1,100)"
     ],
     "language": "python",
     "metadata": {},
     "outputs": [],
     "prompt_number": 64
    },
    {
     "cell_type": "code",
     "collapsed": false,
     "input": [
      "zgraf"
     ],
     "language": "python",
     "metadata": {},
     "outputs": [
      {
       "metadata": {},
       "output_type": "pyout",
       "prompt_number": 65,
       "text": [
        "array([ 0.01,  0.02,  0.03,  0.04,  0.05,  0.06,  0.07,  0.08,  0.09,\n",
        "        0.1 ,  0.11,  0.12,  0.13,  0.14,  0.15,  0.16,  0.17,  0.18,\n",
        "        0.19,  0.2 ,  0.21,  0.22,  0.23,  0.24,  0.25,  0.26,  0.27,\n",
        "        0.28,  0.29,  0.3 ,  0.31,  0.32,  0.33,  0.34,  0.35,  0.36,\n",
        "        0.37,  0.38,  0.39,  0.4 ,  0.41,  0.42,  0.43,  0.44,  0.45,\n",
        "        0.46,  0.47,  0.48,  0.49,  0.5 ,  0.51,  0.52,  0.53,  0.54,\n",
        "        0.55,  0.56,  0.57,  0.58,  0.59,  0.6 ,  0.61,  0.62,  0.63,\n",
        "        0.64,  0.65,  0.66,  0.67,  0.68,  0.69,  0.7 ,  0.71,  0.72,\n",
        "        0.73,  0.74,  0.75,  0.76,  0.77,  0.78,  0.79,  0.8 ,  0.81,\n",
        "        0.82,  0.83,  0.84,  0.85,  0.86,  0.87,  0.88,  0.89,  0.9 ,\n",
        "        0.91,  0.92,  0.93,  0.94,  0.95,  0.96,  0.97,  0.98,  0.99,  1.  ])"
       ]
      }
     ],
     "prompt_number": 65
    },
    {
     "cell_type": "code",
     "collapsed": false,
     "input": [
      "from matplotlib import pyplot as plt"
     ],
     "language": "python",
     "metadata": {},
     "outputs": [],
     "prompt_number": 66
    },
    {
     "cell_type": "code",
     "collapsed": false,
     "input": [
      "ygraf = [f(a) for a in zgraf]"
     ],
     "language": "python",
     "metadata": {},
     "outputs": [],
     "prompt_number": 67
    },
    {
     "cell_type": "code",
     "collapsed": false,
     "input": [
      "ygraf"
     ],
     "language": "python",
     "metadata": {},
     "outputs": [
      {
       "latex": [
        "$$\\begin{bmatrix}-27.029059477, & 34.0230140766, & -26.6098806111, & 8.83686641732, & -19.4986224272, & -16.2135603943, & 13.687901532, & 12.3488261065, & -0.57101115438, & -5.10781843937, & 3.15323432442, & 3.16903225097, & -7.69155849328, & 0.666910652919, & 6.64475683369, & 2.76380503747, & -3.18568199071, & -5.52674846074, & -4.07892685703, & -0.960040584469, & 1.95182338133, & 3.75354301632, & 4.32309506826, & 3.93247833142, & 2.95924146638, & 1.73728581061, & 0.505798476097, & -0.590430431923, & -1.48077814122, & -2.14521502083, & -2.59429153958, & -2.85449839896, & -2.95858754728, & -2.93972877719, & -2.82834471242, & -2.65067984648, & -2.42841582979, & -2.17886765879, & -1.91546379795, & -1.64833105514, & -1.38488297699, & -1.13035977769, & -0.888297544496, & -0.660921481553, & -0.449466996175, & -0.254436654986, & -0.075802473151, & 0.0868370829103, & 0.234136832751, & 0.366913949487, & 0.486080139681, & 0.592591835442, & 0.687414285828, & 0.771496273961, & 0.845752881541, & 0.911054287919, & 0.968219044432, & 1.01801062458, & 1.06113633372, & 1.09824788297, & 1.12994310386, & 1.15676841247, & 1.17922173372, & 1.19775567421, & 1.21278079109, & 1.22466884897, & 1.2337559907, & 1.24034577263, & 1.24471203361, & 1.24710158051, & 1.24773668268, & 1.24681737496, & 1.24452357338, & 1.24101701106, & 1.23644300384, & 1.23093205623, & 1.22460131899, & 1.21755590954, & 1.2098901065, & 1.20168842883, & 1.1930266099, & 1.18397247599, & 1.17458673806, & 1.16492370494, & 1.15503192563, & 1.1449547675, & 1.13473093658, & 1.12439494593, & 1.11397753702, & 1.10350605884, & 1.09300480917, & 1.08249534158, & 1.07199674173, & 1.06152587614, & 1.05109761601, & 1.0407250388, & 1.03041960971, & 1.02019134516, & 1.01004895997, & 1.0\\end{bmatrix}$$"
       ],
       "metadata": {},
       "output_type": "pyout",
       "prompt_number": 68,
       "text": [
        "[-27.029059477, 34.0230140766, -26.6098806111, 8.83686641732, -19.4986224272, \n",
        "-16.2135603943, 13.687901532, 12.3488261065, -0.57101115438, -5.10781843937, 3\n",
        ".15323432442, 3.16903225097, -7.69155849328, 0.666910652919, 6.64475683369, 2.\n",
        "76380503747, -3.18568199071, -5.52674846074, -4.07892685703, -0.960040584469, \n",
        "1.95182338133, 3.75354301632, 4.32309506826, 3.93247833142, 2.95924146638, 1.7\n",
        "3728581061, 0.505798476097, -0.590430431923, -1.48077814122, -2.14521502083, -\n",
        "2.59429153958, -2.85449839896, -2.95858754728, -2.93972877719, -2.82834471242,\n",
        " -2.65067984648, -2.42841582979, -2.17886765879, -1.91546379795, -1.6483310551\n",
        "4, -1.38488297699, -1.13035977769, -0.888297544496, -0.660921481553, -0.449466\n",
        "996175, -0.254436654986, -0.075802473151, 0.0868370829103, 0.234136832751, 0.3\n",
        "66913949487, 0.486080139681, 0.592591835442, 0.687414285828, 0.771496273961, 0\n",
        ".845752881541, 0.911054287919, 0.968219044432, 1.01801062458, 1.06113633372, 1\n",
        ".09824788297, 1.12994310386, 1.15676841247, 1.17922173372, 1.19775567421, 1.21\n",
        "278079109, 1.22466884897, 1.2337559907, 1.24034577263, 1.24471203361, 1.247101\n",
        "58051, 1.24773668268, 1.24681737496, 1.24452357338, 1.24101701106, 1.236443003\n",
        "84, 1.23093205623, 1.22460131899, 1.21755590954, 1.2098901065, 1.20168842883, \n",
        "1.1930266099, 1.18397247599, 1.17458673806, 1.16492370494, 1.15503192563, 1.14\n",
        "49547675, 1.13473093658, 1.12439494593, 1.11397753702, 1.10350605884, 1.093004\n",
        "80917, 1.08249534158, 1.07199674173, 1.06152587614, 1.05109761601, 1.040725038\n",
        "8, 1.03041960971, 1.02019134516, 1.01004895997, 1.0]"
       ]
      }
     ],
     "prompt_number": 68
    },
    {
     "cell_type": "code",
     "collapsed": false,
     "input": [
      "%matplotlib inline\n",
      "from matplotlib import pyplot as plt\n",
      "plt.figure()\n",
      "plt.plot(zgraf,ygraf)\n",
      "plt.show()"
     ],
     "language": "python",
     "metadata": {},
     "outputs": [
      {
       "metadata": {},
       "output_type": "display_data",
       "png": "[encoded data removed]",
       "text": [
        "<matplotlib.figure.Figure at 0x8342550>"
       ]
      }
     ],
     "prompt_number": 69
    },
    {
     "cell_type": "markdown",
     "metadata": {},
     "source": [
      "**Ejercicio 3.b**"
     ]
    },
    {
     "cell_type": "markdown",
     "metadata": {},
     "source": [
      "Calculemos el l\u00edmite que nos piden de cuatro formas distintas. Empezaremos usando sympy."
     ]
    },
    {
     "cell_type": "code",
     "collapsed": false,
     "input": [
      "from sympy import *\n",
      "from sympy import cos, log, ln\n",
      "from sympy import init_printing\n",
      "init_printing()"
     ],
     "language": "python",
     "metadata": {},
     "outputs": [],
     "prompt_number": 26
    },
    {
     "cell_type": "code",
     "collapsed": false,
     "input": [
      "x = symbols(\"x\")\n",
      "integrando2 = (cos((log(x))/(x)))/(x)"
     ],
     "language": "python",
     "metadata": {},
     "outputs": [],
     "prompt_number": 6
    },
    {
     "cell_type": "code",
     "collapsed": false,
     "input": [
      "integrando2"
     ],
     "language": "python",
     "metadata": {},
     "outputs": [
      {
       "latex": [
        "$$\\frac{1}{x} \\cos{\\left (\\frac{1}{x} \\log{\\left (x \\right )} \\right )}$$"
       ],
       "metadata": {},
       "output_type": "pyout",
       "png": "[encoded data removed]",
       "prompt_number": 7,
       "text": [
        "   \u239blog(x)\u239e\n",
        "cos\u239c\u2500\u2500\u2500\u2500\u2500\u2500\u239f\n",
        "   \u239d  x   \u23a0\n",
        "\u2500\u2500\u2500\u2500\u2500\u2500\u2500\u2500\u2500\u2500\u2500\n",
        "     x     "
       ]
      }
     ],
     "prompt_number": 7
    },
    {
     "cell_type": "markdown",
     "metadata": {},
     "source": [
      "Observamos que al menos simb\u00f3licamente, tenemos la funci\u00f3n correcta."
     ]
    },
    {
     "cell_type": "code",
     "collapsed": false,
     "input": [
      "def g(c):\n",
      "    return Integral(integrando2, (x,c,1))"
     ],
     "language": "python",
     "metadata": {},
     "outputs": [],
     "prompt_number": 8
    },
    {
     "cell_type": "code",
     "collapsed": false,
     "input": [
      "g(0)"
     ],
     "language": "python",
     "metadata": {},
     "outputs": [
      {
       "latex": [
        "$$\\int_{0}^{1} \\frac{1}{x} \\cos{\\left (\\frac{1}{x} \\log{\\left (x \\right )} \\right )}\\, dx$$"
       ],
       "metadata": {},
       "output_type": "pyout",
       "png": "[encoded data removed]",
       "prompt_number": 9,
       "text": [
        "1               \n",
        "\u2320               \n",
        "\u23ae    \u239blog(x)\u239e   \n",
        "\u23ae cos\u239c\u2500\u2500\u2500\u2500\u2500\u2500\u239f   \n",
        "\u23ae    \u239d  x   \u23a0   \n",
        "\u23ae \u2500\u2500\u2500\u2500\u2500\u2500\u2500\u2500\u2500\u2500\u2500 dx\n",
        "\u23ae      x        \n",
        "\u2321               \n",
        "0               "
       ]
      }
     ],
     "prompt_number": 9
    },
    {
     "cell_type": "markdown",
     "metadata": {},
     "source": [
      "Veamos que pasa si realizamos esta integral con sympy."
     ]
    },
    {
     "cell_type": "code",
     "collapsed": false,
     "input": [
      "g(0).doit()"
     ],
     "language": "python",
     "metadata": {},
     "outputs": [
      {
       "latex": [
        "$$\\int_{0}^{1} \\frac{1}{x} \\cos{\\left (\\frac{1}{x} \\log{\\left (x \\right )} \\right )}\\, dx$$"
       ],
       "metadata": {},
       "output_type": "pyout",
       "png": "[encoded data removed]",
       "prompt_number": 10,
       "text": [
        "1               \n",
        "\u2320               \n",
        "\u23ae    \u239blog(x)\u239e   \n",
        "\u23ae cos\u239c\u2500\u2500\u2500\u2500\u2500\u2500\u239f   \n",
        "\u23ae    \u239d  x   \u23a0   \n",
        "\u23ae \u2500\u2500\u2500\u2500\u2500\u2500\u2500\u2500\u2500\u2500\u2500 dx\n",
        "\u23ae      x        \n",
        "\u2321               \n",
        "0               "
       ]
      }
     ],
     "prompt_number": 10
    },
    {
     "cell_type": "markdown",
     "metadata": {},
     "source": [
      "Observamos que sympy no resuelve la integral, simplemente nos vuelve a dar el \"valor simb\u00f3lico\" de la integral."
     ]
    },
    {
     "cell_type": "code",
     "collapsed": false,
     "input": [
      "g(.5).doit()"
     ],
     "language": "python",
     "metadata": {},
     "outputs": [
      {
       "latex": [
        "$$\\int_{0.5}^{1} \\frac{1}{x} \\cos{\\left (\\frac{1}{x} \\log{\\left (x \\right )} \\right )}\\, dx$$"
       ],
       "metadata": {},
       "output_type": "pyout",
       "png": "[encoded data removed]",
       "prompt_number": 11,
       "text": [
        " 1                \n",
        " \u2320                \n",
        " \u23ae     \u239blog(x)\u239e   \n",
        " \u23ae  cos\u239c\u2500\u2500\u2500\u2500\u2500\u2500\u239f   \n",
        " \u23ae     \u239d  x   \u23a0   \n",
        " \u23ae  \u2500\u2500\u2500\u2500\u2500\u2500\u2500\u2500\u2500\u2500\u2500 dx\n",
        " \u23ae       x        \n",
        " \u2321                \n",
        "0.5               "
       ]
      }
     ],
     "prompt_number": 11
    },
    {
     "cell_type": "markdown",
     "metadata": {},
     "source": [
      "Vemos que no solo lo hace con el valor $0$, tambi\u00e9n lo hace con cualquier valor que est\u00e1 entre $0$ y $1$, donde la funci\u00f3n $f$ es continua, por lo que podemos concluir que sympy no es una buena herramienta para esta tarea. Usemos ahora scipy."
     ]
    },
    {
     "cell_type": "code",
     "collapsed": false,
     "input": [
      "from scipy import cos, log, integrate"
     ],
     "language": "python",
     "metadata": {},
     "outputs": [],
     "prompt_number": 29
    },
    {
     "cell_type": "code",
     "collapsed": false,
     "input": [
      "h = lambda x: (cos((log(x))/(x)))/(x)"
     ],
     "language": "python",
     "metadata": {},
     "outputs": [],
     "prompt_number": 13
    },
    {
     "cell_type": "code",
     "collapsed": false,
     "input": [
      "def l(n):\n",
      "    return integrate.quad(h, (1./n), 1.)"
     ],
     "language": "python",
     "metadata": {},
     "outputs": [],
     "prompt_number": 14
    },
    {
     "cell_type": "code",
     "collapsed": false,
     "input": [
      "x = [10**i for i in [1,2,3,4,5,6,7,8,9,10,15,20,50,100]]"
     ],
     "language": "python",
     "metadata": {},
     "outputs": [],
     "prompt_number": 15
    },
    {
     "cell_type": "code",
     "collapsed": false,
     "input": [
      "x"
     ],
     "language": "python",
     "metadata": {},
     "outputs": [
      {
       "latex": [
        "$$\\begin{bmatrix}10, & 100, & 1000, & 10000, & 100000, & 1000000, & 10000000, & 100000000, & 1000000000, & 10000000000, & 1000000000000000, & 100000000000000000000, & 100000000000000000000000000000000000000000000000000, & 10000000000000000000000000000000000000000000000000000000000000000000000000000000000000000000000000000\\end{bmatrix}$$"
       ],
       "metadata": {},
       "output_type": "pyout",
       "prompt_number": 16,
       "text": [
        "[10, 100, 1000, 10000, 100000, 1000000, 10000000, 100000000, 1000000000, 10000\n",
        "000000, 1000000000000000, 100000000000000000000, 10000000000000000000000000000\n",
        "0000000000000000000000, 100000000000000000000000000000000000000000000000000000\n",
        "00000000000000000000000000000000000000000000000]"
       ]
      }
     ],
     "prompt_number": 16
    },
    {
     "cell_type": "code",
     "collapsed": false,
     "input": [
      "y = [h(1./a) for a in x]"
     ],
     "language": "python",
     "metadata": {},
     "outputs": [],
     "prompt_number": 17
    },
    {
     "cell_type": "code",
     "collapsed": false,
     "input": [
      "y"
     ],
     "language": "python",
     "metadata": {},
     "outputs": [
      {
       "latex": [
        "$$\\begin{bmatrix}-5.10781843937, & -27.029059477, & -821.382173226, & -2366.35815267, & 80798.1127381, & 288861.066017, & 9697902.81834, & -94755886.1917, & 964431673.797, & 9838835248.12, & 1.91360447375e+14, & 8.86355304147e+19, & 9.25738750752e+49, & 8.78712333015e+98\\end{bmatrix}$$"
       ],
       "metadata": {},
       "output_type": "pyout",
       "prompt_number": 18,
       "text": [
        "[-5.10781843937, -27.029059477, -821.382173226, -2366.35815267, 80798.1127381,\n",
        " 288861.066017, 9697902.81834, -94755886.1917, 964431673.797, 9838835248.12, 1\n",
        ".91360447375e+14, 8.86355304147e+19, 9.25738750752e+49, 8.78712333015e+98]"
       ]
      }
     ],
     "prompt_number": 18
    },
    {
     "cell_type": "markdown",
     "metadata": {},
     "source": [
      "Observa como la funci\u00f3n $h$ tiende a infinito conforme los valores se aproximan a cero."
     ]
    },
    {
     "cell_type": "code",
     "collapsed": false,
     "input": [
      "z = [l(a) for a in x]"
     ],
     "language": "python",
     "metadata": {},
     "outputs": [
      {
       "output_type": "stream",
       "stream": "stderr",
       "text": [
        "C:\\Python27\\lib\\site-packages\\scipy\\integrate\\quadpack.py:288: UserWarning: The integral is probably divergent, or slowly convergent.\n",
        "  warnings.warn(msg)\n",
        "C:\\Python27\\lib\\site-packages\\scipy\\integrate\\quadpack.py:288: UserWarning: The maximum number of subdivisions (50) has been achieved.\n",
        "  If increasing the limit yields no improvement it is advised to analyze \n",
        "  the integrand in order to determine the difficulties.  If the position of a \n",
        "  local difficulty can be determined (singularity, discontinuity) one will \n",
        "  probably gain from splitting up the interval and calling the integrator \n",
        "  on the subranges.  Perhaps a special-purpose integrator should be used.\n",
        "  warnings.warn(msg)\n"
       ]
      }
     ],
     "prompt_number": 19
    },
    {
     "cell_type": "code",
     "collapsed": false,
     "input": [
      "z"
     ],
     "language": "python",
     "metadata": {},
     "outputs": [
      {
       "latex": [
        "$$\\begin{bmatrix}\\begin{pmatrix}0.2980218074, & 4.09686105503e-14\\end{pmatrix}, & \\begin{pmatrix}0.325086092093, & 1.22774279507e-08\\end{pmatrix}, & \\begin{pmatrix}0.3245720462, & 0.0252857215507\\end{pmatrix}, & \\begin{pmatrix}-0.0736191657721, & 0.190537571621\\end{pmatrix}, & \\begin{pmatrix}0.338099737559, & 0.501899710699\\end{pmatrix}, & \\begin{pmatrix}0.474022080699, & 6.42502178083\\end{pmatrix}, & \\begin{pmatrix}0.820476669548, & 1.708642942\\end{pmatrix}, & \\begin{pmatrix}0.841084271686, & 0.74118994203\\end{pmatrix}, & \\begin{pmatrix}0.771812226548, & 0.497108543204\\end{pmatrix}, & \\begin{pmatrix}1.07621858113, & 0.857697096353\\end{pmatrix}, & \\begin{pmatrix}1.27063607126, & 1.93250325425\\end{pmatrix}, & \\begin{pmatrix}1.27167413835, & 1.92761668794\\end{pmatrix}, & \\begin{pmatrix}1.27167413835, & 1.92761668794\\end{pmatrix}, & \\begin{pmatrix}1.27167413835, & 1.92761668794\\end{pmatrix}\\end{bmatrix}$$"
       ],
       "metadata": {},
       "output_type": "pyout",
       "prompt_number": 20,
       "text": [
        "[(0.2980218074, 4.09686105503e-14), (0.325086092093, 1.22774279507e-08), (0.32\n",
        "45720462, 0.0252857215507), (-0.0736191657721, 0.190537571621), (0.33809973755\n",
        "9, 0.501899710699), (0.474022080699, 6.42502178083), (0.820476669548, 1.708642\n",
        "942), (0.841084271686, 0.74118994203), (0.771812226548, 0.497108543204), (1.07\n",
        "621858113, 0.857697096353), (1.27063607126, 1.93250325425), (1.27167413835, 1.\n",
        "92761668794), (1.27167413835, 1.92761668794), (1.27167413835, 1.92761668794)]"
       ]
      }
     ],
     "prompt_number": 20
    },
    {
     "cell_type": "markdown",
     "metadata": {},
     "source": [
      "Notemos como scipy identific\u00f3 que hay un problema con el integrando y que la aproxiamci\u00f3n que estamos haciendo no mejora conforma $n$ tiende a infinito. Recuerda que la primera entrada de cada tupla de la lista de z es el valor aproximado de que nos da scipy, hagamos una lista con esos valores."
     ]
    },
    {
     "cell_type": "code",
     "collapsed": false,
     "input": [
      "z_1 = [0.2980218074, 0.325086092093, 0.3245720462, -0.0736191657721, 0.338099737559, 0.474022080699, 0.820476669548, 0.841084271686, 0.771812226548, 1.07621858113, 1.27063607126, 1.27167413835, 1.27167413835, 1.27167413835]"
     ],
     "language": "python",
     "metadata": {},
     "outputs": [],
     "prompt_number": 21
    },
    {
     "cell_type": "code",
     "collapsed": false,
     "input": [
      "from numpy import array,sum"
     ],
     "language": "python",
     "metadata": {},
     "outputs": [],
     "prompt_number": 22
    },
    {
     "cell_type": "code",
     "collapsed": false,
     "input": [
      "A = array([x,z_1])"
     ],
     "language": "python",
     "metadata": {},
     "outputs": [],
     "prompt_number": 25
    },
    {
     "cell_type": "code",
     "collapsed": false,
     "input": [
      "print A"
     ],
     "language": "python",
     "metadata": {},
     "outputs": [
      {
       "output_type": "stream",
       "stream": "stdout",
       "text": [
        "[[10 100 1000 10000 100000 1000000 10000000 100000000 1000000000\n",
        "  10000000000 1000000000000000 100000000000000000000L\n",
        "  100000000000000000000000000000000000000000000000000L\n",
        "  10000000000000000000000000000000000000000000000000000000000000000000000000000000000000000000000000000L]\n",
        " [0.2980218074 0.325086092093 0.3245720462 -0.0736191657721 0.338099737559\n",
        "  0.474022080699 0.820476669548 0.841084271686 0.771812226548 1.07621858113\n",
        "  1.27063607126 1.27167413835 1.27167413835 1.27167413835]]\n"
       ]
      }
     ],
     "prompt_number": 50
    },
    {
     "cell_type": "code",
     "collapsed": false,
     "input": [
      "print A.transpose()"
     ],
     "language": "python",
     "metadata": {},
     "outputs": [
      {
       "output_type": "stream",
       "stream": "stdout",
       "text": [
        "[[10 0.2980218074]\n",
        " [100 0.325086092093]\n",
        " [1000 0.3245720462]\n",
        " [10000 -0.0736191657721]\n",
        " [100000 0.338099737559]\n",
        " [1000000 0.474022080699]\n",
        " [10000000 0.820476669548]\n",
        " [100000000 0.841084271686]\n",
        " [1000000000 0.771812226548]\n",
        " [10000000000 1.07621858113]\n",
        " [1000000000000000 1.27063607126]\n",
        " [100000000000000000000L 1.27167413835]\n",
        " [100000000000000000000000000000000000000000000000000L 1.27167413835]\n",
        " [ 10000000000000000000000000000000000000000000000000000000000000000000000000000000000000000000000000000L\n",
        "  1.27167413835]]\n"
       ]
      }
     ],
     "prompt_number": 51
    },
    {
     "cell_type": "markdown",
     "metadata": {},
     "source": [
      "En la primera columna de esta matriz se encuentran los valores de \"$n$\", mientras que en la otra columna son los valores aproximados a la integral de $h$ cada vez m\u00e1s cerca de $0$. Calculemos la integral con scipy en todo el intervalo [0,1],  y veamos que el valor es el mismo que los \u00faltimos dos valores de la segunda columna."
     ]
    },
    {
     "cell_type": "code",
     "collapsed": false,
     "input": [
      "integrate.quad(h, 0., 1.)"
     ],
     "language": "python",
     "metadata": {},
     "outputs": [
      {
       "latex": [
        "$$\\begin{pmatrix}1.27167413835, & 1.92761668794\\end{pmatrix}$$"
       ],
       "metadata": {},
       "output_type": "pyout",
       "png": "[encoded data removed]",
       "prompt_number": 31,
       "text": [
        "(1.27167413835, 1.92761668794)"
       ]
      }
     ],
     "prompt_number": 31
    },
    {
     "cell_type": "markdown",
     "metadata": {},
     "source": [
      "Haremos otro m\u00e9todo basado en lo que sabemos de c\u00e1luclo II. Recordemos que si $f$ es una funci\u00f3n cont\u00ednua en el \u00edntervalo [a,b], entonces si $P_n$ es una partici\u00f3n uniforme del intervalo [a,b], (es decir, si $a_n$,$a_{n+1}\\in{P_n}$ son elementos consecutivos, entonces $a_{n+1}-a_{n}=\\frac{b-a}{n}$), entonces\n",
      "\\begin{align*}\n",
      "\\int_a^b f(x)\\,dx  = \\lim_{n\\to\\infty}\\sum_{i=1}^k f(a_i)\\frac{b-a}{n},\n",
      "\\end{align*}\n",
      "con $a_i\\in{P_n}$.\n",
      "Usando esto, aproximaremos las integrales de $\\int_a^1 f(x)\\,dx$, y luego aproximaremos $a$ a cero."
     ]
    },
    {
     "cell_type": "code",
     "collapsed": false,
     "input": [
      "def a(i,n,m):\n",
      "    return 1/(float(m)) + (float(i))*(((1 - (1/(float(m)))))/(float(n)))"
     ],
     "language": "python",
     "metadata": {},
     "outputs": [],
     "prompt_number": 32
    },
    {
     "cell_type": "markdown",
     "metadata": {},
     "source": [
      "El valor **$a(i,n,m)$** es el extremo derecho de cada uno de los intervalos de $P_n$, partici\u00f3n de [$\\frac{1}{m}$,1]."
     ]
    },
    {
     "cell_type": "code",
     "collapsed": false,
     "input": [
      "def s(m,n):\n",
      "    w = np.arange(0,n,1)\n",
      "    return np.sum([(h(a(i+1,n,m)))*((1 - ((1)/(float(m)))/(float(n)))) for i in w])"
     ],
     "language": "python",
     "metadata": {},
     "outputs": [],
     "prompt_number": 36
    },
    {
     "cell_type": "code",
     "collapsed": false,
     "input": [
      "x =[10, 100, 1000, 10000, 100000, 1000000] "
     ],
     "language": "python",
     "metadata": {},
     "outputs": [],
     "prompt_number": 37
    },
    {
     "cell_type": "code",
     "collapsed": false,
     "input": [
      "a_10 = [s(10,10), s(100,10), s(1000,10), s(10000,10), s(100000,10), s(1000000,10)]\n",
      "a_100 = [s(10,100), s(100,100), s(1000,100), s(10000,100), s(100000,100), s(1000000,100)]\n",
      "a_1000 = [s(10,1000), s(100,1000), s(1000,1000), s(10000,1000), s(100000,1000), s(1000000,1000)]\n",
      "a_10000 = [s(10,10000), s(100,10000), s(1000,10000), s(10000,10000), s(100000,10000), s(1000000,10000)]\n",
      "a_100000 = [s(10,100000), s(100,100000), s(1000,100000), s(10000,100000), s(100000,100000), s(1000000,100000)]\n",
      "a_1000000 = [s(10,1000000), s(100,1000000), s(1000,1000000), s(10000,1000000), s(100000,1000000), s(1000000,1000000)]"
     ],
     "language": "python",
     "metadata": {},
     "outputs": [],
     "prompt_number": 38
    },
    {
     "cell_type": "code",
     "collapsed": false,
     "input": [
      "A_10 = np.array([x,a_10])\n",
      "A_100 = np.array([x,a_100])\n",
      "A_1000 = np.array([x,a_1000])\n",
      "A_10000 = np.array([x,a_10000])\n",
      "A_100000 = np.array([x,a_100000])\n",
      "A_1000000 = np.array([x,a_1000000])"
     ],
     "language": "python",
     "metadata": {},
     "outputs": [],
     "prompt_number": 39
    },
    {
     "cell_type": "code",
     "collapsed": false,
     "input": [
      "A_10.transpose()"
     ],
     "language": "python",
     "metadata": {},
     "outputs": [
      {
       "metadata": {},
       "output_type": "pyout",
       "prompt_number": 40,
       "text": [
        "array([[  1.00000000e+01,  -7.79328356e-01],\n",
        "       [  1.00000000e+02,   4.34920615e+00],\n",
        "       [  1.00000000e+03,  -5.80684624e+00],\n",
        "       [  1.00000000e+04,  -4.06760996e+00],\n",
        "       [  1.00000000e+05,  -3.86656344e+00],\n",
        "       [  1.00000000e+06,  -3.84621130e+00]])"
       ]
      }
     ],
     "prompt_number": 40
    },
    {
     "cell_type": "code",
     "collapsed": false,
     "input": [
      "A_100.transpose()"
     ],
     "language": "python",
     "metadata": {},
     "outputs": [
      {
       "metadata": {},
       "output_type": "pyout",
       "prompt_number": 41,
       "text": [
        "array([[  1.00000000e+01,   3.84701305e+01],\n",
        "       [  1.00000000e+02,   2.27778696e+01],\n",
        "       [  1.00000000e+03,  -1.48136312e+01],\n",
        "       [  1.00000000e+04,  -4.96762840e+01],\n",
        "       [  1.00000000e+05,   6.67181233e+01],\n",
        "       [  1.00000000e+06,   1.50456672e+01]])"
       ]
      }
     ],
     "prompt_number": 41
    },
    {
     "cell_type": "code",
     "collapsed": false,
     "input": [
      "A_1000.transpose()"
     ],
     "language": "python",
     "metadata": {},
     "outputs": [
      {
       "metadata": {},
       "output_type": "pyout",
       "prompt_number": 42,
       "text": [
        "array([[  1.00000000e+01,   3.34365102e+02],\n",
        "       [  1.00000000e+02,  -3.72961905e+01],\n",
        "       [  1.00000000e+03,   3.83770592e+02],\n",
        "       [  1.00000000e+04,  -2.29468827e+01],\n",
        "       [  1.00000000e+05,   1.46115527e+03],\n",
        "       [  1.00000000e+06,   7.26975182e+02]])"
       ]
      }
     ],
     "prompt_number": 42
    },
    {
     "cell_type": "code",
     "collapsed": false,
     "input": [
      "A_10000.transpose()"
     ],
     "language": "python",
     "metadata": {},
     "outputs": [
      {
       "metadata": {},
       "output_type": "pyout",
       "prompt_number": 43,
       "text": [
        "array([[  1.00000000e+01,   3.31439508e+03],\n",
        "       [  1.00000000e+02,   3.16009630e+03],\n",
        "       [  1.00000000e+03,   4.18156546e+03],\n",
        "       [  1.00000000e+04,   5.23812188e+03],\n",
        "       [  1.00000000e+05,   1.01998117e+03],\n",
        "       [  1.00000000e+06,   1.44407372e+04]])"
       ]
      }
     ],
     "prompt_number": 43
    },
    {
     "cell_type": "code",
     "collapsed": false,
     "input": [
      "A_100000.transpose()"
     ],
     "language": "python",
     "metadata": {},
     "outputs": [
      {
       "metadata": {},
       "output_type": "pyout",
       "prompt_number": 44,
       "text": [
        "array([[  1.00000000e+01,   3.31165570e+04],\n",
        "       [  1.00000000e+02,   3.28465127e+04],\n",
        "       [  1.00000000e+03,   2.57555255e+04],\n",
        "       [  1.00000000e+04,   2.32858811e+04],\n",
        "       [  1.00000000e+05,   6.69863034e+04],\n",
        "       [  1.00000000e+06,  -1.88338593e+04]])"
       ]
      }
     ],
     "prompt_number": 44
    },
    {
     "cell_type": "code",
     "collapsed": false,
     "input": [
      "A_1000000.transpose()"
     ],
     "language": "python",
     "metadata": {},
     "outputs": [
      {
       "metadata": {},
       "output_type": "pyout",
       "prompt_number": 45,
       "text": [
        "array([[  1.00000000e+01,   3.31138363e+05],\n",
        "       [  1.00000000e+02,   3.28383356e+05],\n",
        "       [  1.00000000e+03,   3.19578881e+05],\n",
        "       [  1.00000000e+04,   2.63015516e+05],\n",
        "       [  1.00000000e+05,   1.97067819e+05],\n",
        "       [  1.00000000e+06,   1.18510710e+06]])"
       ]
      }
     ],
     "prompt_number": 45
    },
    {
     "cell_type": "markdown",
     "metadata": {},
     "source": [
      "A_n.transpose() es la matriz cuya entrada k, en la segunda columna es la suma\n",
      "\\begin{align*}\n",
      "\\sum_{i=1}^n f(a_i)\\frac{b-a}{n},\n",
      "\\end{align*}\n",
      "donde $n$ es el n\u00famero de elementos en nuestra partici\u00f3n de [$10^{-k}$,1]. Observa que entre m\u00e1s grande son los valores de $n$ y $m$, es decir entre m\u00e1s refiniada sea nuestra partici\u00f3n y entre cada vez m\u00e1s cerca este el l\u00edmite de integraci\u00f3n a $0$, este valor deber\u00eda aproxiamrse al l\u00edmite deseado.\n",
      "Vemos en esta \u00faltima matriz, que aunque nuestra partici\u00f3n sea muy refinada, no se ve que los valores de la segunda columna convergan a alg\u00fan numero, de hecho, cada vez salen valores m\u00e1s grandes y con diferentes signos. "
     ]
    },
    {
     "cell_type": "markdown",
     "metadata": {},
     "source": [
      "Intentaremos un \u00faltimo m\u00e9todo, es lo mismo que el anterior, pero ahora tomaremos particiones de todo el intervalo [0,1]."
     ]
    },
    {
     "cell_type": "code",
     "collapsed": false,
     "input": [
      "def a(i,n):\n",
      "    return (float(i))*((1)/(float(n)))"
     ],
     "language": "python",
     "metadata": {},
     "outputs": [],
     "prompt_number": 46
    },
    {
     "cell_type": "code",
     "collapsed": false,
     "input": [
      "def s_0(n):\n",
      "    w = np.arange(0,n,1)\n",
      "    return np.sum([(h(a(i+1,n)))*((1)/(float(n))) for i in w])"
     ],
     "language": "python",
     "metadata": {},
     "outputs": [],
     "prompt_number": 49
    },
    {
     "cell_type": "code",
     "collapsed": false,
     "input": [
      "s_0(100000)"
     ],
     "language": "python",
     "metadata": {},
     "outputs": [
      {
       "latex": [
        "$$1.59502173533$$"
       ],
       "metadata": {},
       "output_type": "pyout",
       "png": "[encoded data removed]",
       "prompt_number": 50,
       "text": [
        "1.59502173533"
       ]
      }
     ],
     "prompt_number": 50
    },
    {
     "cell_type": "code",
     "collapsed": false,
     "input": [
      "s_0(1000000)"
     ],
     "language": "python",
     "metadata": {},
     "outputs": [
      {
       "latex": [
        "$$0.144140077517$$"
       ],
       "metadata": {},
       "output_type": "pyout",
       "png": "[encoded data removed]",
       "prompt_number": 51,
       "text": [
        "0.144140077517"
       ]
      }
     ],
     "prompt_number": 51
    },
    {
     "cell_type": "code",
     "collapsed": false,
     "input": [
      "s_0(10000000)"
     ],
     "language": "python",
     "metadata": {},
     "outputs": [
      {
       "latex": [
        "$$1.00911194861$$"
       ],
       "metadata": {},
       "output_type": "pyout",
       "png": "[encoded data removed]",
       "prompt_number": 52,
       "text": [
        "1.00911194861"
       ]
      }
     ],
     "prompt_number": 52
    },
    {
     "cell_type": "code",
     "collapsed": false,
     "input": [
      "s_0(20000000)"
     ],
     "language": "python",
     "metadata": {},
     "outputs": [
      {
       "latex": [
        "$$1.48982710088$$"
       ],
       "metadata": {},
       "output_type": "pyout",
       "png": "[encoded data removed]",
       "prompt_number": 53,
       "text": [
        "1.48982710088"
       ]
      }
     ],
     "prompt_number": 53
    },
    {
     "cell_type": "markdown",
     "metadata": {},
     "source": [
      "Vemos que en este caso, entre m\u00e1s refinada es nuestra partici\u00f3n, el valor se aproxima cada vez m\u00e1s al valor que nos mostraba scipy, pero vemos que aunque pongamos muchos puntos en nuestro intervalo, nuestro valor oscila de manera irregular."
     ]
    },
    {
     "cell_type": "markdown",
     "metadata": {},
     "source": [
      "**Ejercicio 3.c**"
     ]
    },
    {
     "cell_type": "markdown",
     "metadata": {},
     "source": [
      "La \u00fanica forma que se me ocurre es la siguiente: si {$a_n$} converge a $a$, podemos decir lo siguiente: si existe $N$, tal que para toda $n$>N,\n",
      "\\begin{align*}\n",
      "\\|a-a_{n}|<e_{n},\n",
      "\\end{align*}\n",
      " y si e_{n} es una sucesi\u00f3n de n\u00fameros que son cero en los primeros diez d\u00edgitos, podemos decir que nuestra aproximaci\u00f3n es buena hasta diez d\u00edgitos. Sin conocer el n\u00famero exacto \"a\", no podr\u00eda pensar como, quizas analizando los d\u00edgitos de la diferencia.\n",
      "\\begin{align*}\n",
      "\\|a_{n+1}-a_{n}|,\n",
      "\\end{align*}."
     ]
    },
    {
     "cell_type": "code",
     "collapsed": false,
     "input": [
      "def err(n):\n",
      "    return np.abs(s_0(n+1)-s_0(n))"
     ],
     "language": "python",
     "metadata": {},
     "outputs": [],
     "prompt_number": 54
    },
    {
     "cell_type": "code",
     "collapsed": false,
     "input": [
      "err(1000)"
     ],
     "language": "python",
     "metadata": {},
     "outputs": [
      {
       "latex": [
        "$$1.25292706871$$"
       ],
       "metadata": {},
       "output_type": "pyout",
       "png": "[encoded data removed]",
       "prompt_number": 55,
       "text": [
        "1.25292706871"
       ]
      }
     ],
     "prompt_number": 55
    },
    {
     "cell_type": "code",
     "collapsed": false,
     "input": [
      "err(10000)"
     ],
     "language": "python",
     "metadata": {},
     "outputs": [
      {
       "latex": [
        "$$0.298311239868$$"
       ],
       "metadata": {},
       "output_type": "pyout",
       "png": "[encoded data removed]",
       "prompt_number": 56,
       "text": [
        "0.298311239868"
       ]
      }
     ],
     "prompt_number": 56
    },
    {
     "cell_type": "code",
     "collapsed": false,
     "input": [
      "err(100000)"
     ],
     "language": "python",
     "metadata": {},
     "outputs": [
      {
       "latex": [
        "$$0.463893042067$$"
       ],
       "metadata": {},
       "output_type": "pyout",
       "png": "[encoded data removed]",
       "prompt_number": 57,
       "text": [
        "0.463893042067"
       ]
      }
     ],
     "prompt_number": 57
    },
    {
     "cell_type": "code",
     "collapsed": false,
     "input": [
      "err(1000000)"
     ],
     "language": "python",
     "metadata": {},
     "outputs": [
      {
       "latex": [
        "$$0.589307152372$$"
       ],
       "metadata": {},
       "output_type": "pyout",
       "png": "[encoded data removed]",
       "prompt_number": 58,
       "text": [
        "0.589307152372"
       ]
      }
     ],
     "prompt_number": 58
    },
    {
     "cell_type": "code",
     "collapsed": false,
     "input": [
      "err(10000000)"
     ],
     "language": "python",
     "metadata": {},
     "outputs": [
      {
       "ename": "KeyboardInterrupt",
       "evalue": "",
       "output_type": "pyerr",
       "traceback": [
        "\u001b[1;31m---------------------------------------------------------------------------\u001b[0m\n\u001b[1;31mKeyboardInterrupt\u001b[0m                         Traceback (most recent call last)",
        "\u001b[1;32m<ipython-input-60-f269e9bdfc3d>\u001b[0m in \u001b[0;36m<module>\u001b[1;34m()\u001b[0m\n\u001b[1;32m----> 1\u001b[1;33m \u001b[0merr\u001b[0m\u001b[1;33m(\u001b[0m\u001b[1;36m10000000\u001b[0m\u001b[1;33m)\u001b[0m\u001b[1;33m\u001b[0m\u001b[0m\n\u001b[0m",
        "\u001b[1;32m<ipython-input-54-bfc32010cafe>\u001b[0m in \u001b[0;36merr\u001b[1;34m(n)\u001b[0m\n\u001b[0;32m      1\u001b[0m \u001b[1;32mdef\u001b[0m \u001b[0merr\u001b[0m\u001b[1;33m(\u001b[0m\u001b[0mn\u001b[0m\u001b[1;33m)\u001b[0m\u001b[1;33m:\u001b[0m\u001b[1;33m\u001b[0m\u001b[0m\n\u001b[1;32m----> 2\u001b[1;33m     \u001b[1;32mreturn\u001b[0m \u001b[0mnp\u001b[0m\u001b[1;33m.\u001b[0m\u001b[0mabs\u001b[0m\u001b[1;33m(\u001b[0m\u001b[0ms_0\u001b[0m\u001b[1;33m(\u001b[0m\u001b[0mn\u001b[0m\u001b[1;33m+\u001b[0m\u001b[1;36m1\u001b[0m\u001b[1;33m)\u001b[0m\u001b[1;33m-\u001b[0m\u001b[0ms_0\u001b[0m\u001b[1;33m(\u001b[0m\u001b[0mn\u001b[0m\u001b[1;33m)\u001b[0m\u001b[1;33m)\u001b[0m\u001b[1;33m\u001b[0m\u001b[0m\n\u001b[0m",
        "\u001b[1;32m<ipython-input-49-8390287cc901>\u001b[0m in \u001b[0;36ms_0\u001b[1;34m(n)\u001b[0m\n\u001b[0;32m      1\u001b[0m \u001b[1;32mdef\u001b[0m \u001b[0ms_0\u001b[0m\u001b[1;33m(\u001b[0m\u001b[0mn\u001b[0m\u001b[1;33m)\u001b[0m\u001b[1;33m:\u001b[0m\u001b[1;33m\u001b[0m\u001b[0m\n\u001b[0;32m      2\u001b[0m     \u001b[0mw\u001b[0m \u001b[1;33m=\u001b[0m \u001b[0mnp\u001b[0m\u001b[1;33m.\u001b[0m\u001b[0marange\u001b[0m\u001b[1;33m(\u001b[0m\u001b[1;36m0\u001b[0m\u001b[1;33m,\u001b[0m\u001b[0mn\u001b[0m\u001b[1;33m,\u001b[0m\u001b[1;36m1\u001b[0m\u001b[1;33m)\u001b[0m\u001b[1;33m\u001b[0m\u001b[0m\n\u001b[1;32m----> 3\u001b[1;33m     \u001b[1;32mreturn\u001b[0m \u001b[0mnp\u001b[0m\u001b[1;33m.\u001b[0m\u001b[0msum\u001b[0m\u001b[1;33m(\u001b[0m\u001b[1;33m[\u001b[0m\u001b[1;33m(\u001b[0m\u001b[0mh\u001b[0m\u001b[1;33m(\u001b[0m\u001b[0ma\u001b[0m\u001b[1;33m(\u001b[0m\u001b[0mi\u001b[0m\u001b[1;33m+\u001b[0m\u001b[1;36m1\u001b[0m\u001b[1;33m,\u001b[0m\u001b[0mn\u001b[0m\u001b[1;33m)\u001b[0m\u001b[1;33m)\u001b[0m\u001b[1;33m)\u001b[0m\u001b[1;33m*\u001b[0m\u001b[1;33m(\u001b[0m\u001b[1;33m(\u001b[0m\u001b[1;36m1\u001b[0m\u001b[1;33m)\u001b[0m\u001b[1;33m/\u001b[0m\u001b[1;33m(\u001b[0m\u001b[0mfloat\u001b[0m\u001b[1;33m(\u001b[0m\u001b[0mn\u001b[0m\u001b[1;33m)\u001b[0m\u001b[1;33m)\u001b[0m\u001b[1;33m)\u001b[0m \u001b[1;32mfor\u001b[0m \u001b[0mi\u001b[0m \u001b[1;32min\u001b[0m \u001b[0mw\u001b[0m\u001b[1;33m]\u001b[0m\u001b[1;33m)\u001b[0m\u001b[1;33m\u001b[0m\u001b[0m\n\u001b[0m",
        "\u001b[1;32m<ipython-input-13-b0cc464c7920>\u001b[0m in \u001b[0;36m<lambda>\u001b[1;34m(x)\u001b[0m\n\u001b[1;32m----> 1\u001b[1;33m \u001b[0mh\u001b[0m \u001b[1;33m=\u001b[0m \u001b[1;32mlambda\u001b[0m \u001b[0mx\u001b[0m\u001b[1;33m:\u001b[0m \u001b[1;33m(\u001b[0m\u001b[0mcos\u001b[0m\u001b[1;33m(\u001b[0m\u001b[1;33m(\u001b[0m\u001b[0mlog\u001b[0m\u001b[1;33m(\u001b[0m\u001b[0mx\u001b[0m\u001b[1;33m)\u001b[0m\u001b[1;33m)\u001b[0m\u001b[1;33m/\u001b[0m\u001b[1;33m(\u001b[0m\u001b[0mx\u001b[0m\u001b[1;33m)\u001b[0m\u001b[1;33m)\u001b[0m\u001b[1;33m)\u001b[0m\u001b[1;33m/\u001b[0m\u001b[1;33m(\u001b[0m\u001b[0mx\u001b[0m\u001b[1;33m)\u001b[0m\u001b[1;33m\u001b[0m\u001b[0m\n\u001b[0m",
        "\u001b[1;32mC:\\Python27\\lib\\site-packages\\numpy-1.6.2-py2.7-win32.egg\\numpy\\lib\\scimath.pyc\u001b[0m in \u001b[0;36mlog\u001b[1;34m(x)\u001b[0m\n\u001b[0;32m    252\u001b[0m \u001b[1;33m\u001b[0m\u001b[0m\n\u001b[0;32m    253\u001b[0m     \"\"\"\n\u001b[1;32m--> 254\u001b[1;33m     \u001b[0mx\u001b[0m \u001b[1;33m=\u001b[0m \u001b[0m_fix_real_lt_zero\u001b[0m\u001b[1;33m(\u001b[0m\u001b[0mx\u001b[0m\u001b[1;33m)\u001b[0m\u001b[1;33m\u001b[0m\u001b[0m\n\u001b[0m\u001b[0;32m    255\u001b[0m     \u001b[1;32mreturn\u001b[0m \u001b[0mnx\u001b[0m\u001b[1;33m.\u001b[0m\u001b[0mlog\u001b[0m\u001b[1;33m(\u001b[0m\u001b[0mx\u001b[0m\u001b[1;33m)\u001b[0m\u001b[1;33m\u001b[0m\u001b[0m\n\u001b[0;32m    256\u001b[0m \u001b[1;33m\u001b[0m\u001b[0m\n",
        "\u001b[1;32mC:\\Python27\\lib\\site-packages\\numpy-1.6.2-py2.7-win32.egg\\numpy\\lib\\scimath.pyc\u001b[0m in \u001b[0;36m_fix_real_lt_zero\u001b[1;34m(x)\u001b[0m\n\u001b[0;32m    111\u001b[0m     \"\"\"\n\u001b[0;32m    112\u001b[0m     \u001b[0mx\u001b[0m \u001b[1;33m=\u001b[0m \u001b[0masarray\u001b[0m\u001b[1;33m(\u001b[0m\u001b[0mx\u001b[0m\u001b[1;33m)\u001b[0m\u001b[1;33m\u001b[0m\u001b[0m\n\u001b[1;32m--> 113\u001b[1;33m     \u001b[1;32mif\u001b[0m \u001b[0many\u001b[0m\u001b[1;33m(\u001b[0m\u001b[0misreal\u001b[0m\u001b[1;33m(\u001b[0m\u001b[0mx\u001b[0m\u001b[1;33m)\u001b[0m \u001b[1;33m&\u001b[0m \u001b[1;33m(\u001b[0m\u001b[0mx\u001b[0m\u001b[1;33m<\u001b[0m\u001b[1;36m0\u001b[0m\u001b[1;33m)\u001b[0m\u001b[1;33m)\u001b[0m\u001b[1;33m:\u001b[0m\u001b[1;33m\u001b[0m\u001b[0m\n\u001b[0m\u001b[0;32m    114\u001b[0m         \u001b[0mx\u001b[0m \u001b[1;33m=\u001b[0m \u001b[0m_tocomplex\u001b[0m\u001b[1;33m(\u001b[0m\u001b[0mx\u001b[0m\u001b[1;33m)\u001b[0m\u001b[1;33m\u001b[0m\u001b[0m\n\u001b[0;32m    115\u001b[0m     \u001b[1;32mreturn\u001b[0m \u001b[0mx\u001b[0m\u001b[1;33m\u001b[0m\u001b[0m\n",
        "\u001b[1;32mC:\\Python27\\lib\\site-packages\\numpy-1.6.2-py2.7-win32.egg\\numpy\\lib\\type_check.pyc\u001b[0m in \u001b[0;36misreal\u001b[1;34m(x)\u001b[0m\n\u001b[0;32m    231\u001b[0m \u001b[1;33m\u001b[0m\u001b[0m\n\u001b[0;32m    232\u001b[0m     \"\"\"\n\u001b[1;32m--> 233\u001b[1;33m     \u001b[1;32mreturn\u001b[0m \u001b[0mimag\u001b[0m\u001b[1;33m(\u001b[0m\u001b[0mx\u001b[0m\u001b[1;33m)\u001b[0m \u001b[1;33m==\u001b[0m \u001b[1;36m0\u001b[0m\u001b[1;33m\u001b[0m\u001b[0m\n\u001b[0m\u001b[0;32m    234\u001b[0m \u001b[1;33m\u001b[0m\u001b[0m\n\u001b[0;32m    235\u001b[0m \u001b[1;32mdef\u001b[0m \u001b[0miscomplexobj\u001b[0m\u001b[1;33m(\u001b[0m\u001b[0mx\u001b[0m\u001b[1;33m)\u001b[0m\u001b[1;33m:\u001b[0m\u001b[1;33m\u001b[0m\u001b[0m\n",
        "\u001b[1;31mKeyboardInterrupt\u001b[0m: "
       ]
      }
     ],
     "prompt_number": 60
    },
    {
     "cell_type": "markdown",
     "metadata": {},
     "source": [
      "Aqu\u00ed cuesta mucho trabajo asegurar que nuestra aproximaci\u00f3n es buena, pues hasta con una partici\u00f3n de 10000000 elementos, esta difeencia ni siquiera es menor que 0.5."
     ]
    },
    {
     "cell_type": "markdown",
     "metadata": {},
     "source": [
      "**Ejercicio 4**"
     ]
    },
    {
     "cell_type": "code",
     "collapsed": false,
     "input": [
      "class Intervalo(object):\n",
      "\n",
      "      #Docstring\n",
      "      \"\"\"\n",
      "      Esta clase provee la aritm\u00c3\u00a9tica de intervalos\n",
      "      \"\"\"\n",
      "\n",
      "      def __init__(self, mini, maxi = None):\n",
      "            if maxi is None:\n",
      "                  maxi = mini\n",
      "            if maxi < mini:\n",
      "                  mini, maxi = maxi, mini\n",
      "            self.mini = mini\n",
      "            self.maxi = maxi\n",
      "      \n",
      "      def __repr__(self):\n",
      "            #return \"Intervalo({},{})\".format(self.mini, self.maxi)\n",
      "            return \"Intervalo(%s, %s)\" % (self.mini, self.maxi)       \n",
      "     \n",
      "      def __str__(self):\n",
      "            return \"[%s, %s]\" % (self.mini, self.maxi)\n",
      "         \n",
      "      def _repr_html_(self):\n",
      "            return \"[%s, %s]\" % (self.mini, self.maxi)\n",
      "\n",
      "      def __eq__(self, otro):\n",
      "            return self.mini == otro.mini and self.maxi == otro.maxi\n",
      "\n",
      "      def __le__(self, otro):\n",
      "            return self.mini <= otro.mini and self.maxi <= otro.maxi\n",
      "\n",
      "      def union(self, otro):\n",
      "            return Intervalo(min(self.mini, otro.mini), max(self.maxi, otro.maxi))\n",
      "\n",
      "      def rad(self):\n",
      "            return 0.5*(self.maxi - self.mini)\n",
      "\n",
      "      def mid(self):\n",
      "            return 0.5*(self.maxi + self.mini)\n",
      "         \n",
      "      def __add__(self, otro):\n",
      "            if not isinstance(otro, Intervalo):\n",
      "                  otro = Intervalo(otro)\n",
      "            return Intervalo(self.mini + otro.mini, self.maxi + otro.maxi)\n",
      "\n",
      "      def __radd__(self, otro):\n",
      "            return Intervalo.__add__(self, otro)\n",
      "\n",
      "      def __sub__(self, otro):\n",
      "            if not isinstance(otro, Intervalo):\n",
      "                  otro = Intervalo(otro)\n",
      "            return Intervalo(self.mini - otro.maxi, self.maxi - otro.mini)\n",
      "\n",
      "      def __rsub__(self, otro):\n",
      "            if not isinstance(otro, Intervalo):\n",
      "                  otro = Intervalo(otro)\n",
      "            return Intervalo(otro.mini - self.maxi, otro.maxi - self.mini)\n",
      "\n",
      "      def __mul__(self, otro):\n",
      "            if not isinstance(otro, Intervalo):\n",
      "                  otro = Intervalo(otro)\n",
      "            return Intervalo(min(self.mini*otro.mini, self.mini*otro.maxi,\n",
      "                                 self.maxi*otro.mini, self.maxi*otro.maxi),\n",
      "                             max(self.mini*otro.mini, self.mini*otro.maxi,\n",
      "                                 self.maxi*otro.mini, self.maxi*otro.maxi))\n",
      "\n",
      "      def __rmul__(self, otro):\n",
      "            return Intervalo.__mul__(self, otro)\n",
      "\n",
      "      def __div__(self, otro):\n",
      "            if not otro.mini <= 0 <= otro.maxi:\n",
      "                  return __mul__(self, Intervalo(1./otro.maxi, 1./otro.mini))\n",
      "            if self.mini <= 0 <= self.maxi and otro.mini <= 0 <= otro.maxi:\n",
      "                  return Intervalo(float(\"+inf\"), float(\"-inf\"))\n",
      "            if self.maxi < 0 and otro.mini < otro.maxi == 0:\n",
      "                  return Intervalo(self.maxi/float(otro.mini), float(\"+inf\"))\n",
      "            if self.maxi < 0 and otro.mini < 0 < otro.maxi:\n",
      "                  return Intervalo(self.maxi/float(otro.mini), self.maxi/float(otro.maxi))\n",
      "            if self.maxi < 0 and 0 == otro.mini < otro.maxi:\n",
      "                  return Intervalo(float(\"-inf\"), self.maxi/float(otro.maxi))\n",
      "            if 0 < self.mini and otro.mini < otro.maxi ==0:\n",
      "                  return Intervalo(float(\"-inf\"), self.mini/float(otro.mini))\n",
      "            if 0 < self.mini and otro.mini < 0 < otro.maxi:\n",
      "                  return Intervalo(self.mini/float(otro.maxi), self.mini/float(otro.mini))\n",
      "            if 0 < self.mini and 0 == otro.mini < otro.maxi:\n",
      "                  return Intervalo(self.mini/float(otro.maxi), float(\"+inf\"))\n",
      "    \n"
     ],
     "language": "python",
     "metadata": {},
     "outputs": [],
     "prompt_number": 59
    }
   ],
   "metadata": {}
  }
 ]
}