{
 "metadata": {
  "name": ""
 },
 "nbformat": 3,
 "nbformat_minor": 0,
 "worksheets": [
  {
   "cells": [
    {
     "cell_type": "code",
     "collapsed": false,
     "input": [
      "from intervalo import *"
     ],
     "language": "python",
     "metadata": {},
     "outputs": [],
     "prompt_number": 1
    },
    {
     "cell_type": "code",
     "collapsed": false,
     "input": [
      "def f(x):\n",
      "    return x**3-3*x**2+2*x"
     ],
     "language": "python",
     "metadata": {},
     "outputs": [],
     "prompt_number": 2
    },
    {
     "cell_type": "code",
     "collapsed": false,
     "input": [
      "a = Intervalo(-0.5, 3)"
     ],
     "language": "python",
     "metadata": {},
     "outputs": [],
     "prompt_number": 3
    },
    {
     "cell_type": "code",
     "collapsed": false,
     "input": [
      "def bisec(a, f, tol, l = None):\n",
      "    if l is None:\n",
      "        l = []\n",
      "    if 0 in f(a):\n",
      "        if a.width() <= tol:\n",
      "            if f(a.lo)*f(a.hi) < 0 o\n",
      "            l.append(a)\n",
      "        else:\n",
      "            k = chop(a)\n",
      "            l = (bisec(k[0], f, tol, l))\n",
      "            l = (bisec(k[1], f, tol, l))\n",
      "    return l"
     ],
     "language": "python",
     "metadata": {},
     "outputs": [],
     "prompt_number": 4
    },
    {
     "cell_type": "code",
     "collapsed": false,
     "input": [
      "d = bisec(a, f, 3.12/336)"
     ],
     "language": "python",
     "metadata": {},
     "outputs": [
      {
       "output_type": "stream",
       "stream": "stdout",
       "text": [
        "Advertencia: El intervalo contiene el cero\n",
        "Advertencia: El intervalo contiene el cero\n",
        "Advertencia: El intervalo contiene el cero\n",
        "Advertencia: El intervalo contiene el cero\n",
        "Advertencia: El intervalo contiene el cero\n",
        "Advertencia: El intervalo contiene el cero\n",
        "Advertencia: El intervalo contiene el cero\n",
        "Advertencia: El intervalo contiene el cero\n",
        "Advertencia: El intervalo contiene el cero\n",
        "Advertencia: El intervalo contiene el cero\n"
       ]
      }
     ],
     "prompt_number": 5
    },
    {
     "cell_type": "code",
     "collapsed": false,
     "input": [
      "print d"
     ],
     "language": "python",
     "metadata": {},
     "outputs": [
      {
       "output_type": "stream",
       "stream": "stdout",
       "text": [
        "[Intervalo [-0.0009765625,0.005859375], Intervalo [0.962890625,0.9697265625], Intervalo [0.9697265625,0.9765625], Intervalo [0.9765625,0.9833984375], Intervalo [0.9833984375,0.990234375], Intervalo [0.990234375,0.9970703125], Intervalo [0.9970703125,1.00390625], Intervalo [1.00390625,1.0107421875], Intervalo [1.0107421875,1.017578125], Intervalo [1.017578125,1.0244140625], Intervalo [1.0244140625,1.03125], Intervalo [1.03125,1.0380859375], Intervalo [1.9541015625,1.9609375], Intervalo [1.9609375,1.9677734375], Intervalo [1.9677734375,1.974609375], Intervalo [1.974609375,1.9814453125], Intervalo [1.9814453125,1.98828125], Intervalo [1.98828125,1.9951171875], Intervalo [1.9951171875,2.001953125], Intervalo [2.001953125,2.0087890625], Intervalo [2.0087890625,2.015625], Intervalo [2.015625,2.0224609375], Intervalo [2.0224609375,2.029296875], Intervalo [2.029296875,2.0361328125], Intervalo [2.0361328125,2.04296875]]\n"
       ]
      }
     ],
     "prompt_number": 6
    },
    {
     "cell_type": "code",
     "collapsed": false,
     "input": [
      "print d[1]\n",
      "print f(d[1].lo), f(d[1].hi)"
     ],
     "language": "python",
     "metadata": {},
     "outputs": [
      {
       "output_type": "stream",
       "stream": "stdout",
       "text": [
        "[0.962890625,0.9697265625]\n",
        "0.0370582714677 0.0302456924692\n"
       ]
      }
     ],
     "prompt_number": 18
    },
    {
     "cell_type": "markdown",
     "metadata": {},
     "source": [
      "Observo que el resultado da varios intervalos uqe son consecutivos por lo que construyo una funci\u00f3n que \"limpie\" esto"
     ]
    },
    {
     "cell_type": "code",
     "collapsed": false,
     "input": [
      "def clean_bisec(d):\n",
      "    l = []\n",
      "    i = 0\n",
      "    k = d[0]\n",
      "    while i+1 < len(d):\n",
      "        if k.hi == d[i+1].lo:\n",
      "            k = Intervalo(k.lo, d[i+1].hi)\n",
      "            i += 1\n",
      "        else:\n",
      "            l.append(k)\n",
      "            k = d[i+1]\n",
      "            i = i+1\n",
      "    l.append(k)\n",
      "    return l\n",
      "            "
     ],
     "language": "python",
     "metadata": {},
     "outputs": [],
     "prompt_number": 8
    },
    {
     "cell_type": "markdown",
     "metadata": {},
     "source": [
      "Realizo un ejemplo de que la funci\u00f3n previamente construida funciona"
     ]
    },
    {
     "cell_type": "code",
     "collapsed": false,
     "input": [
      "clean_bisec([Intervalo(0,1), Intervalo(1,2), Intervalo(5,6), Intervalo(6,7), Intervalo(7,8), Intervalo(11,15)])"
     ],
     "language": "python",
     "metadata": {},
     "outputs": [
      {
       "metadata": {},
       "output_type": "pyout",
       "prompt_number": 9,
       "text": [
        "[Intervalo [0,2], Intervalo [5,8], Intervalo [11,15]]"
       ]
      }
     ],
     "prompt_number": 9
    },
    {
     "cell_type": "markdown",
     "metadata": {},
     "source": [
      "Aplico la funci\u00f3n a la lista de intervalos \"d\" para obtener un resultado m\u00e1s limpio"
     ]
    },
    {
     "cell_type": "code",
     "collapsed": false,
     "input": [
      "clean_bisec(d)"
     ],
     "language": "python",
     "metadata": {},
     "outputs": [
      {
       "metadata": {},
       "output_type": "pyout",
       "prompt_number": 10,
       "text": [
        "[Intervalo [-0.0009765625,0.005859375],\n",
        " Intervalo [0.962890625,1.0380859375],\n",
        " Intervalo [1.9541015625,2.04296875]]"
       ]
      }
     ],
     "prompt_number": 10
    },
    {
     "cell_type": "code",
     "collapsed": false,
     "input": [
      "def Bisec(a, f, tol):\n",
      "    return clean_bisec(bisec(a, f, tol))"
     ],
     "language": "python",
     "metadata": {},
     "outputs": [],
     "prompt_number": 11
    },
    {
     "cell_type": "code",
     "collapsed": false,
     "input": [
      "3.12/336"
     ],
     "language": "python",
     "metadata": {},
     "outputs": [
      {
       "metadata": {},
       "output_type": "pyout",
       "prompt_number": 12,
       "text": [
        "0.009285714285714286"
       ]
      }
     ],
     "prompt_number": 12
    },
    {
     "cell_type": "code",
     "collapsed": false,
     "input": [
      "f2 = lambda x: x*(x-1)*(x-2)*(x-3)*(x-4)"
     ],
     "language": "python",
     "metadata": {},
     "outputs": [],
     "prompt_number": 13
    },
    {
     "cell_type": "code",
     "collapsed": false,
     "input": [
      "a = Intervalo(-1,5)"
     ],
     "language": "python",
     "metadata": {},
     "outputs": [],
     "prompt_number": 14
    },
    {
     "cell_type": "code",
     "collapsed": false,
     "input": [
      "g = Bisec(a, f2, 0.0009)\n",
      "print g"
     ],
     "language": "python",
     "metadata": {},
     "outputs": [
      {
       "output_type": "stream",
       "stream": "stdout",
       "text": [
        "[Intervalo [-0.000244140625,0.00048828125], Intervalo [0.99951171875,1.00024414062], Intervalo [1.99926757812,2.00073242188], Intervalo [2.99975585938,3.00048828125], Intervalo [3.99951171875,4.00024414062]]\n"
       ]
      }
     ],
     "prompt_number": 15
    },
    {
     "cell_type": "markdown",
     "metadata": {},
     "source": [
      "El resultado previo en realidad s\u00f3lo nos dice que fuera de los intervalos enlistados no se tienen ceros; por esta raz\u00f3n se hace una funci\u00f3n que analize los resultados para decirnos en cu\u00e1l caso nos encontramos"
     ]
    },
    {
     "cell_type": "code",
     "collapsed": false,
     "input": [
      "def casos_bisec(k, f):\n",
      "    for i in range(0, len(k)):\n",
      "        if f(k[i].lo) == 0:\n",
      "            y = True\n",
      "            print 'El punto %s es una ra\u00edz de la funci\u00f3n %s' %(k[i].lo)\n",
      "            \n",
      "        if f(k[i].hi) == 0:\n",
      "            y = True\n",
      "            print 'El punto %s es una ra\u00edz de la funci\u00f3n' %(k[i].lo)\n",
      "            \n",
      "        if f(k[i].lo)*f(k[i].hi) < 0:\n",
      "            print 'Hay alguna ra\u00edz de la funci\u00f3n en el interior del intervalo %s' %(k[i])\n",
      "        \n",
      "        else:\n",
      "            if y:\n",
      "                print 'No se puede asegurar si hay alguna ra\u00edz de la funci\u00f3n en el interior del intervalo %s' %(k[i])\n",
      "            else:\n",
      "                print 'No se puede asegurar si hay alguna ra\u00edz de la funci\u00f3n en el intervalo %s' %(k[i])"
     ],
     "language": "python",
     "metadata": {},
     "outputs": [],
     "prompt_number": 54
    },
    {
     "cell_type": "code",
     "collapsed": false,
     "input": [
      "casos_bisec(g, f2)"
     ],
     "language": "python",
     "metadata": {},
     "outputs": [
      {
       "output_type": "stream",
       "stream": "stdout",
       "text": [
        "Hay alguna ra\u00edz de la funci\u00f3n en el interior del intervalo [-0.000244140625,0.00048828125]\n",
        "Hay alguna ra\u00edz de la funci\u00f3n en el interior del intervalo [0.99951171875,1.00024414062]\n",
        "Hay alguna ra\u00edz de la funci\u00f3n en el interior del intervalo [1.99926757812,2.00073242188]\n",
        "Hay alguna ra\u00edz de la funci\u00f3n en el interior del intervalo [2.99975585938,3.00048828125]\n",
        "Hay alguna ra\u00edz de la funci\u00f3n en el interior del intervalo [3.99951171875,4.00024414062]\n"
       ]
      }
     ],
     "prompt_number": 55
    },
    {
     "cell_type": "code",
     "collapsed": false,
     "input": [
      "def cheq_bisec(a, f, tol):\n",
      "    casos_bisec(Bisec(a, f, tol), f)"
     ],
     "language": "python",
     "metadata": {},
     "outputs": [],
     "prompt_number": 56
    },
    {
     "cell_type": "code",
     "collapsed": false,
     "input": [
      "j = lambda x: math.sin(3*x+4*math.cos(2*x))"
     ],
     "language": "python",
     "metadata": {},
     "outputs": [],
     "prompt_number": 57
    },
    {
     "cell_type": "code",
     "collapsed": false,
     "input": [
      "x = math.linspace(0,7,411)"
     ],
     "language": "python",
     "metadata": {},
     "outputs": [],
     "prompt_number": 58
    },
    {
     "cell_type": "code",
     "collapsed": false,
     "input": [
      "from matplotlib import pyplot as plt\n",
      "%matplotlib inline\n",
      "plt.plot(x, j(x))"
     ],
     "language": "python",
     "metadata": {},
     "outputs": [
      {
       "metadata": {},
       "output_type": "pyout",
       "prompt_number": 59,
       "text": [
        "[<matplotlib.lines.Line2D at 0x4b85f90>]"
       ]
      },
      {
       "metadata": {},
       "output_type": "display_data",
       "png": "[encoded data removed]",
       "text": [
        "<matplotlib.figure.Figure at 0x4848cf0>"
       ]
      }
     ],
     "prompt_number": 59
    },
    {
     "cell_type": "code",
     "collapsed": false,
     "input": [
      "a = Intervalo(0,7)\n",
      "tol = 0.013\n",
      "cheq_bisec(a, j, tol)"
     ],
     "language": "python",
     "metadata": {},
     "outputs": [
      {
       "output_type": "stream",
       "stream": "stdout",
       "text": [
        "Hay alguna ra\u00edz de la funci\u00f3n en el interior del intervalo [0.615234375,0.62890625]\n",
        "Hay alguna ra\u00edz de la funci\u00f3n en el interior del intervalo [1.96875,1.9755859375]\n",
        "Hay alguna ra\u00edz de la funci\u00f3n en el interior del intervalo [2.283203125,2.2900390625]\n",
        "Hay alguna ra\u00edz de la funci\u00f3n en el interior del intervalo [2.5703125,2.5771484375]\n",
        "Hay alguna ra\u00edz de la funci\u00f3n en el interior del intervalo [2.9462890625,2.953125]\n",
        "Hay alguna ra\u00edz de la funci\u00f3n en el interior del intervalo [3.759765625,3.7734375]\n",
        "Hay alguna ra\u00edz de la funci\u00f3n en el interior del intervalo [5.11328125,5.1201171875]\n",
        "Hay alguna ra\u00edz de la funci\u00f3n en el interior del intervalo [5.4208984375,5.427734375]\n",
        "Hay alguna ra\u00edz de la funci\u00f3n en el interior del intervalo [5.71484375,5.7216796875]\n",
        "Hay alguna ra\u00edz de la funci\u00f3n en el interior del intervalo [6.0908203125,6.09765625]\n",
        "Hay alguna ra\u00edz de la funci\u00f3n en el interior del intervalo [6.8974609375,6.91796875]\n"
       ]
      }
     ],
     "prompt_number": 60
    },
    {
     "cell_type": "markdown",
     "metadata": {},
     "source": [
      "Que corresponde con lo que se ve en la gr\u00e1fica"
     ]
    },
    {
     "cell_type": "markdown",
     "metadata": {},
     "source": [
      "Ahora hago uso de la clase \"difauto\" para investigar acerca de la unicidad de la ra\u00edces en un intervalo"
     ]
    },
    {
     "cell_type": "code",
     "collapsed": false,
     "input": [
      "from difauto import *"
     ],
     "language": "python",
     "metadata": {},
     "outputs": [],
     "prompt_number": 16
    },
    {
     "cell_type": "code",
     "collapsed": false,
     "input": [
      "def unic_bisec(k, f):\n",
      "    for i in k:\n",
      "        if 0 in f(DifAuto(i, 1)).deriv:\n",
      "            print 'No se puede asegurar si la funci\u00f3n tiene una \u00fanica ra\u00edz en el interior del intervalo %s' %(i)\n",
      "        else:\n",
      "            print 'La funci\u00f3n tiene una \u00fanica ra\u00edz en el intervalo %s' %(i)"
     ],
     "language": "python",
     "metadata": {},
     "outputs": [],
     "prompt_number": 61
    },
    {
     "cell_type": "markdown",
     "metadata": {},
     "source": [
      "Verificamos que los intervalos anteriormente obtenidos tienen ra\u00edces \u00fanicas dentro, como se pudo apreciar en la figura."
     ]
    },
    {
     "cell_type": "code",
     "collapsed": false,
     "input": [
      "k = Bisec(a, j, tol)\n",
      "unic_bisec(k, j)"
     ],
     "language": "python",
     "metadata": {},
     "outputs": [
      {
       "output_type": "stream",
       "stream": "stdout",
       "text": [
        "La funci\u00f3n tiene una \u00fanica ra\u00edz en el intervalo [0.615234375,0.62890625]\n",
        "La funci\u00f3n tiene una \u00fanica ra\u00edz en el intervalo [1.96875,1.9755859375]\n",
        "La funci\u00f3n tiene una \u00fanica ra\u00edz en el intervalo [2.283203125,2.2900390625]\n",
        "La funci\u00f3n tiene una \u00fanica ra\u00edz en el intervalo [2.5703125,2.5771484375]\n",
        "La funci\u00f3n tiene una \u00fanica ra\u00edz en el intervalo [2.9462890625,2.953125]\n",
        "La funci\u00f3n tiene una \u00fanica ra\u00edz en el intervalo [3.759765625,3.7734375]\n",
        "La funci\u00f3n tiene una \u00fanica ra\u00edz en el intervalo [5.11328125,5.1201171875]\n",
        "La funci\u00f3n tiene una \u00fanica ra\u00edz en el intervalo [5.4208984375,5.427734375]\n",
        "La funci\u00f3n tiene una \u00fanica ra\u00edz en el intervalo [5.71484375,5.7216796875]\n",
        "La funci\u00f3n tiene una \u00fanica ra\u00edz en el intervalo [6.0908203125,6.09765625]\n",
        "La funci\u00f3n tiene una \u00fanica ra\u00edz en el intervalo [6.8974609375,6.91796875]\n"
       ]
      }
     ],
     "prompt_number": 62
    }
   ],
   "metadata": {}
  }
 ]
}