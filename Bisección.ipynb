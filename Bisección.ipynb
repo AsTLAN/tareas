{
 "metadata": {
  "name": ""
 },
 "nbformat": 3,
 "nbformat_minor": 0,
 "worksheets": [
  {
   "cells": [
    {
     "cell_type": "code",
     "collapsed": false,
     "input": [
      "from intervalo import *"
     ],
     "language": "python",
     "metadata": {},
     "outputs": [],
     "prompt_number": 187
    },
    {
     "cell_type": "code",
     "collapsed": false,
     "input": [
      "def f(x):\n",
      "    return x**3-3*x**2+2*x"
     ],
     "language": "python",
     "metadata": {},
     "outputs": [],
     "prompt_number": 188
    },
    {
     "cell_type": "code",
     "collapsed": false,
     "input": [
      "a = Intervalo(-0.5, 3)"
     ],
     "language": "python",
     "metadata": {},
     "outputs": [],
     "prompt_number": 189
    },
    {
     "cell_type": "code",
     "collapsed": false,
     "input": [
      "def bisec(a, f, tol, l = []):\n",
      "    if 0 in f(a):\n",
      "        if a.width() <= tol:\n",
      "            l.append(a)\n",
      "        else:\n",
      "            k = chop(a)\n",
      "            l = (bisec(k[0], f, tol, l))\n",
      "            l = (bisec(k[1], f, tol, l))\n",
      "    return l"
     ],
     "language": "python",
     "metadata": {},
     "outputs": [],
     "prompt_number": 190
    },
    {
     "cell_type": "code",
     "collapsed": false,
     "input": [
      "d = bisec(a, f, 3.12/336)"
     ],
     "language": "python",
     "metadata": {},
     "outputs": [
      {
       "output_type": "stream",
       "stream": "stdout",
       "text": [
        "Advertencia: El intervalo contiene el cero\n",
        "Advertencia: El intervalo contiene el cero\n",
        "Advertencia: El intervalo contiene el cero\n",
        "Advertencia: El intervalo contiene el cero\n",
        "Advertencia: El intervalo contiene el cero\n",
        "Advertencia: El intervalo contiene el cero\n",
        "Advertencia: El intervalo contiene el cero\n",
        "Advertencia: El intervalo contiene el cero\n",
        "Advertencia: El intervalo contiene el cero\n",
        "Advertencia: El intervalo contiene el cero\n"
       ]
      }
     ],
     "prompt_number": 191
    },
    {
     "cell_type": "code",
     "collapsed": false,
     "input": [
      "print d"
     ],
     "language": "python",
     "metadata": {},
     "outputs": [
      {
       "output_type": "stream",
       "stream": "stdout",
       "text": [
        "[Intervalo [-0.0009765625,0.005859375], Intervalo [0.962890625,0.9697265625], Intervalo [0.9697265625,0.9765625], Intervalo [0.9765625,0.9833984375], Intervalo [0.9833984375,0.990234375], Intervalo [0.990234375,0.9970703125], Intervalo [0.9970703125,1.00390625], Intervalo [1.00390625,1.0107421875], Intervalo [1.0107421875,1.017578125], Intervalo [1.017578125,1.0244140625], Intervalo [1.0244140625,1.03125], Intervalo [1.03125,1.0380859375], Intervalo [1.9541015625,1.9609375], Intervalo [1.9609375,1.9677734375], Intervalo [1.9677734375,1.974609375], Intervalo [1.974609375,1.9814453125], Intervalo [1.9814453125,1.98828125], Intervalo [1.98828125,1.9951171875], Intervalo [1.9951171875,2.001953125], Intervalo [2.001953125,2.0087890625], Intervalo [2.0087890625,2.015625], Intervalo [2.015625,2.0224609375], Intervalo [2.0224609375,2.029296875], Intervalo [2.029296875,2.0361328125], Intervalo [2.0361328125,2.04296875]]\n"
       ]
      }
     ],
     "prompt_number": 192
    },
    {
     "cell_type": "code",
     "collapsed": false,
     "input": [
      "def clean_bisec(d):\n",
      "    l = []\n",
      "    i = 0\n",
      "    k = d[0]\n",
      "    while i+1 < len(d):\n",
      "        if k.hi == d[i+1].lo:\n",
      "            k = Intervalo(k.lo, d[i+1].hi)\n",
      "            i += 1\n",
      "        else:\n",
      "            l.append(k)\n",
      "            k = d[i+1]\n",
      "            i = i+1\n",
      "    l.append(k)\n",
      "    return l\n",
      "            "
     ],
     "language": "python",
     "metadata": {},
     "outputs": [],
     "prompt_number": 193
    },
    {
     "cell_type": "code",
     "collapsed": false,
     "input": [
      "clean_bisec([Intervalo(0,1), Intervalo(1,2), Intervalo(5,6), Intervalo(6,7), Intervalo(7,8), Intervalo(11,15)])"
     ],
     "language": "python",
     "metadata": {},
     "outputs": [
      {
       "metadata": {},
       "output_type": "pyout",
       "prompt_number": 194,
       "text": [
        "[Intervalo [0,2], Intervalo [5,8], Intervalo [11,15]]"
       ]
      }
     ],
     "prompt_number": 194
    },
    {
     "cell_type": "code",
     "collapsed": false,
     "input": [
      "print clean_bisec(d)"
     ],
     "language": "python",
     "metadata": {},
     "outputs": [
      {
       "output_type": "stream",
       "stream": "stdout",
       "text": [
        "[Intervalo [-0.0009765625,0.005859375], Intervalo [0.962890625,1.0380859375], Intervalo [1.9541015625,2.04296875]]\n"
       ]
      }
     ],
     "prompt_number": 195
    },
    {
     "cell_type": "code",
     "collapsed": false,
     "input": [
      "def Bisec(a, f, tol):\n",
      "    return clean_bisec(bisec(a, f, tol))"
     ],
     "language": "python",
     "metadata": {},
     "outputs": [],
     "prompt_number": 196
    },
    {
     "cell_type": "code",
     "collapsed": false,
     "input": [
      "3.12/336"
     ],
     "language": "python",
     "metadata": {},
     "outputs": [
      {
       "metadata": {},
       "output_type": "pyout",
       "prompt_number": 197,
       "text": [
        "0.009285714285714286"
       ]
      }
     ],
     "prompt_number": 197
    },
    {
     "cell_type": "code",
     "collapsed": false,
     "input": [
      "g = Bisec(a, f, 0.0009)\n",
      "print g"
     ],
     "language": "python",
     "metadata": {},
     "outputs": [
      {
       "output_type": "stream",
       "stream": "stdout",
       "text": [
        "Advertencia: El intervalo contiene el cero\n",
        "Advertencia: El intervalo contiene el cero\n",
        "Advertencia: El intervalo contiene el cero\n",
        "Advertencia: El intervalo contiene el cero\n",
        "Advertencia: El intervalo contiene el cero\n",
        "Advertencia: El intervalo contiene el cero\n",
        "Advertencia: El intervalo contiene el cero\n",
        "Advertencia: El intervalo contiene el cero\n",
        "Advertencia: El intervalo contiene el cero\n",
        "Advertencia: El intervalo contiene el cero\n",
        "Advertencia: El intervalo contiene el cero\n",
        "Advertencia: El intervalo contiene el cero\n",
        "Advertencia: El intervalo contiene el cero\n",
        "[Intervalo [-0.0009765625,0.005859375], Intervalo [0.962890625,1.0380859375], Intervalo [1.9541015625,2.04296875], Intervalo [-0.0001220703125,0.000732421875], Intervalo [0.995361328125,1.00476074219], Intervalo [1.99426269531,2.00537109375]]\n"
       ]
      }
     ],
     "prompt_number": 198
    },
    {
     "cell_type": "code",
     "collapsed": false,
     "input": [],
     "language": "python",
     "metadata": {},
     "outputs": []
    }
   ],
   "metadata": {}
  }
 ]
}