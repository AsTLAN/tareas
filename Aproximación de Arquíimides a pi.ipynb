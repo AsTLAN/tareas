{
 "metadata": {
  "name": ""
 },
 "nbformat": 3,
 "nbformat_minor": 0,
 "worksheets": [
  {
   "cells": [
    {
     "cell_type": "markdown",
     "metadata": {},
     "source": [
      "Primero implmentamos una funci\u00f3n para dibujar los pol\u00edgonos con numero de lados $n=3\\cdot 2^j$."
     ]
    },
    {
     "cell_type": "code",
     "collapsed": false,
     "input": [
      "import numpy as np\n",
      "%matplotlib inline\n",
      "from matplotlib import pyplot as plt\n",
      "theta=np.arange(0,2*np.pi,2*np.pi/360)\n",
      "x=np.cos(theta)\n",
      "y=np.sin(theta)\n",
      "plt.figure()\n",
      "plt.axis('scaled')\n",
      "plt.plot(x,y)\n",
      "plt.xlim(-2.,2.)\n",
      "plt.ylim(-2.,2.)\n",
      "phi=(np.pi/180)*(360/3.)\n",
      "y=np.sin(phi*np.arange(3+1))\n",
      "x=np.cos(phi*np.arange(3+1))\n",
      "plt.plot(x,y)\n",
      "r=np.cos(np.pi/3)**(-1)\n",
      "x_2=[]\n",
      "y_2=[]\n",
      "for i in np.arange(3):\n",
      "    x_2.append(np.cos(((2*i)*np.pi)/3))\n",
      "    x_2.append(r*np.cos(((2*i+1)*np.pi)/3))\n",
      "    y_2.append(np.sin(((2*i)*np.pi)/3))\n",
      "    y_2.append(r*np.sin(((2*i+1)*np.pi)/3))\n",
      "x_2.append(x_2[0])\n",
      "y_2.append(y_2[0])\n",
      "plt.plot(x_2,y_2)\n",
      "r=np.cos(np.pi/6)**(-1)\n",
      "def nuevo_polyg_int(x,y,n):\n",
      "    z=[]\n",
      "    w=[]\n",
      "    for i in np.arange(3*2**n):\n",
      "        z.append(x[i])\n",
      "        w.append(y[i])\n",
      "        z.append(np.cos(((2*i+1)*np.pi)/(3*2**n)))\n",
      "        w.append(np.sin(((2*i+1)*np.pi)/(3*2**n)))\n",
      "    z.append(z[0])\n",
      "    w.append(w[0])\n",
      "    plt.plot(z,w,)\n",
      "    return z,w\n",
      "x,y = nuevo_polyg_int(x,y,0)\n",
      "nuevo_polyg_int(x,y,1)\n",
      "plt.show()"
     ],
     "language": "python",
     "metadata": {},
     "outputs": [
      {
       "metadata": {},
       "output_type": "display_data",
       "png": "[encoded data removed]",
       "text": [
        "<matplotlib.figure.Figure at 0x485af30>"
       ]
      }
     ],
     "prompt_number": 2
    },
    {
     "cell_type": "markdown",
     "metadata": {},
     "source": [
      "Definimos la funci\u00f3n del paso iterativo y venmos que el n\u00famero se acerca a $\\pi$"
     ]
    },
    {
     "cell_type": "code",
     "collapsed": false,
     "input": [
      "def iteracion(b,h,n):\n",
      "    n = n+1\n",
      "    b = ((1-h)**2+(b*0.5)**2)**.5\n",
      "    h = (1-(b*0.5)**2)**.5\n",
      "    A = 3*2**n*.5*b*h\n",
      "    return b, h, A\n",
      "b, h, A = iteracion(3**.5, .5, 0)\n",
      "print A"
     ],
     "language": "python",
     "metadata": {},
     "outputs": [
      {
       "output_type": "stream",
       "stream": "stdout",
       "text": [
        "2.59807621135\n"
       ]
      }
     ],
     "prompt_number": 3
    },
    {
     "cell_type": "code",
     "collapsed": false,
     "input": [
      "b, h, A = iteracion(b, h, 1)\n",
      "print A"
     ],
     "language": "python",
     "metadata": {},
     "outputs": [
      {
       "output_type": "stream",
       "stream": "stdout",
       "text": [
        "3.0\n"
       ]
      }
     ],
     "prompt_number": 4
    },
    {
     "cell_type": "code",
     "collapsed": false,
     "input": [
      "b, h, A = iteracion(b, h, 2)\n",
      "print A"
     ],
     "language": "python",
     "metadata": {},
     "outputs": [
      {
       "output_type": "stream",
       "stream": "stdout",
       "text": [
        "3.10582854123\n"
       ]
      }
     ],
     "prompt_number": 5
    },
    {
     "cell_type": "markdown",
     "metadata": {},
     "source": [
      "Definimos la funci\u00f3n m\u00e1s general que da los primeros $n$ estimados del \u00e1rea."
     ]
    },
    {
     "cell_type": "code",
     "collapsed": false,
     "input": [
      "def n_area(n):\n",
      "    a = np.zeros(n + 1)\n",
      "    d = np.zeros(n + 1)\n",
      "    i = 0\n",
      "    d[i] = i\n",
      "    b, h, A = iteracion(3**.5, .5, 0)\n",
      "    a[i] = A\n",
      "    while i < n :\n",
      "        i = i + 1\n",
      "        d[i] = i\n",
      "        b, h, A = iteracion(b, h, i)\n",
      "        a[i] = A\n",
      "    return a, d\n",
      "a, d = n_area(100)"
     ],
     "language": "python",
     "metadata": {},
     "outputs": [],
     "prompt_number": 48
    },
    {
     "cell_type": "markdown",
     "metadata": {},
     "source": [
      "Visualizamos la informaci\u00f3n obtenida de diversas formas."
     ]
    },
    {
     "cell_type": "code",
     "collapsed": false,
     "input": [
      "a,d"
     ],
     "language": "python",
     "metadata": {},
     "outputs": [
      {
       "metadata": {},
       "output_type": "pyout",
       "prompt_number": 49,
       "text": [
        "(array([ 2.59807621,  3.        ,  3.10582854,  3.13262861,  3.1393502 ,\n",
        "        3.14103195,  3.14145247,  3.14155761,  3.14158389,  3.14159046,\n",
        "        3.14159211,  3.14159252,  3.14159262,  3.14159265,  3.14159265,\n",
        "        3.14159265,  3.14159265,  3.14159265,  3.14159265,  3.14159265,\n",
        "        3.14159265,  3.14159265,  3.14159265,  3.14159265,  3.14159265,\n",
        "        3.14159265,  3.14159265,  3.14159265,  3.14159265,  3.14159265,\n",
        "        3.14159265,  3.14159265,  3.14159265,  3.14159265,  3.14159265,\n",
        "        3.14159265,  3.14159265,  3.14159265,  3.14159265,  3.14159265,\n",
        "        3.14159265,  3.14159265,  3.14159265,  3.14159265,  3.14159265,\n",
        "        3.14159265,  3.14159265,  3.14159265,  3.14159265,  3.14159265,\n",
        "        3.14159265,  3.14159265,  3.14159265,  3.14159265,  3.14159265,\n",
        "        3.14159265,  3.14159265,  3.14159265,  3.14159265,  3.14159265,\n",
        "        3.14159265,  3.14159265,  3.14159265,  3.14159265,  3.14159265,\n",
        "        3.14159265,  3.14159265,  3.14159265,  3.14159265,  3.14159265,\n",
        "        3.14159265,  3.14159265,  3.14159265,  3.14159265,  3.14159265,\n",
        "        3.14159265,  3.14159265,  3.14159265,  3.14159265,  3.14159265,\n",
        "        3.14159265,  3.14159265,  3.14159265,  3.14159265,  3.14159265,\n",
        "        3.14159265,  3.14159265,  3.14159265,  3.14159265,  3.14159265,\n",
        "        3.14159265,  3.14159265,  3.14159265,  3.14159265,  3.14159265,\n",
        "        3.14159265,  3.14159265,  3.14159265,  3.14159265,  3.14159265,\n",
        "        3.14159265]),\n",
        " array([   0.,    1.,    2.,    3.,    4.,    5.,    6.,    7.,    8.,\n",
        "          9.,   10.,   11.,   12.,   13.,   14.,   15.,   16.,   17.,\n",
        "         18.,   19.,   20.,   21.,   22.,   23.,   24.,   25.,   26.,\n",
        "         27.,   28.,   29.,   30.,   31.,   32.,   33.,   34.,   35.,\n",
        "         36.,   37.,   38.,   39.,   40.,   41.,   42.,   43.,   44.,\n",
        "         45.,   46.,   47.,   48.,   49.,   50.,   51.,   52.,   53.,\n",
        "         54.,   55.,   56.,   57.,   58.,   59.,   60.,   61.,   62.,\n",
        "         63.,   64.,   65.,   66.,   67.,   68.,   69.,   70.,   71.,\n",
        "         72.,   73.,   74.,   75.,   76.,   77.,   78.,   79.,   80.,\n",
        "         81.,   82.,   83.,   84.,   85.,   86.,   87.,   88.,   89.,\n",
        "         90.,   91.,   92.,   93.,   94.,   95.,   96.,   97.,   98.,\n",
        "         99.,  100.]))"
       ]
      }
     ],
     "prompt_number": 49
    },
    {
     "cell_type": "code",
     "collapsed": false,
     "input": [
      "plt.figure()\n",
      "a = np.pi - a\n",
      "plt.plot(d,a,'o')\n",
      "plt.show()"
     ],
     "language": "python",
     "metadata": {},
     "outputs": [
      {
       "metadata": {},
       "output_type": "display_data",
       "png": "[encoded data removed]",
       "text": [
        "<matplotlib.figure.Figure at 0x502cd70>"
       ]
      }
     ],
     "prompt_number": 50
    },
    {
     "cell_type": "code",
     "collapsed": false,
     "input": [
      "plt.figure()\n",
      "a = np.pi - a\n",
      "plt.loglog(d,a,'o')\n",
      "plt.show()"
     ],
     "language": "python",
     "metadata": {},
     "outputs": [
      {
       "metadata": {},
       "output_type": "display_data",
       "png": "[encoded data removed]",
       "text": [
        "<matplotlib.figure.Figure at 0x4ddf7d0>"
       ]
      }
     ],
     "prompt_number": 51
    },
    {
     "cell_type": "markdown",
     "metadata": {},
     "source": [
      "Con este trabajo se podr\u00eda tratar de implementar un aplicaci\u00f3n como las que se tiene con SAGE."
     ]
    }
   ],
   "metadata": {}
  }
 ]
}