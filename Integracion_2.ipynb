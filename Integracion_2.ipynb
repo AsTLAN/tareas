{
 "metadata": {
  "name": "Integracion_2"
 },
 "nbformat": 3,
 "nbformat_minor": 0,
 "worksheets": [
  {
   "cells": [
    {
     "cell_type": "code",
     "collapsed": false,
     "input": [
      "from intervalo import *"
     ],
     "language": "python",
     "metadata": {},
     "outputs": [],
     "prompt_number": 1
    },
    {
     "cell_type": "code",
     "collapsed": false,
     "input": [
      "from taylor import *"
     ],
     "language": "python",
     "metadata": {},
     "outputs": [],
     "prompt_number": 2
    },
    {
     "cell_type": "code",
     "collapsed": false,
     "input": [
      "import numpy as np\n",
      "def suma_parcial(x, f, grad):\n",
      "    k = grad/2\n",
      "    \n",
      "    r = x.radio()\n",
      "    cmid = x.middle()\n",
      "    flit = f(Taylor([cmid,1], grad + 2))\n",
      "    fbig = f(Taylor([x, 1], grad))\n",
      "    error = dist( (fbig.coef[grad] - flit.coef[grad]) )\n",
      "    return 2 * np.sum([ flit.coef[2*i] * (r**(2*i+1)) * (1.0/(2*i+1)) for i in range(k + 1) ]) + 2 * Intervalo(-1,1) * error * (r**(grad+1)) * (1.0/(grad+1))\n",
      "    "
     ],
     "language": "python",
     "metadata": {},
     "outputs": [],
     "prompt_number": 11
    },
    {
     "cell_type": "code",
     "collapsed": false,
     "input": [
      "def Integracion(a, b, f, part, grad):\n",
      "    x = Intervalo(a, b)\n",
      "    \n",
      "    return np.sum([ suma_parcial(c, f, grad) for c in chop_parts(x, part)])"
     ],
     "language": "python",
     "metadata": {},
     "outputs": [],
     "prompt_number": 12
    },
    {
     "cell_type": "markdown",
     "metadata": {},
     "source": [
      "Integramos algunas funciones sencillas."
     ]
    },
    {
     "cell_type": "code",
     "collapsed": false,
     "input": [
      "def f(x):\n",
      "    return x\n",
      "def g(x):\n",
      "    return x*x\n",
      "def h(x):\n",
      "    return -3*x\n",
      "def l(x):\n",
      "    return np.sin( 2 * np.pi * x )"
     ],
     "language": "python",
     "metadata": {},
     "outputs": [],
     "prompt_number": 13
    },
    {
     "cell_type": "code",
     "collapsed": false,
     "input": [
      "Integracion(0, 1, f, 10, 3)"
     ],
     "language": "python",
     "metadata": {},
     "outputs": [
      {
       "html": [
        "[0.5, 0.5]"
       ],
       "latex": [
        "$[0.5, 0.5]$"
       ],
       "output_type": "pyout",
       "prompt_number": 14,
       "text": [
        "Intervalo [0.5,0.5]"
       ]
      }
     ],
     "prompt_number": 14
    },
    {
     "cell_type": "code",
     "collapsed": false,
     "input": [
      "Integracion(0, 1, g, 10, 3)"
     ],
     "language": "python",
     "metadata": {},
     "outputs": [
      {
       "html": [
        "[0.333333333333, 0.333333333333]"
       ],
       "latex": [
        "$[0.333333333333, 0.333333333333]$"
       ],
       "output_type": "pyout",
       "prompt_number": 15,
       "text": [
        "Intervalo [0.333333333333,0.333333333333]"
       ]
      }
     ],
     "prompt_number": 15
    },
    {
     "cell_type": "code",
     "collapsed": false,
     "input": [
      "Integracion(0, 1, h, 10, 3)"
     ],
     "language": "python",
     "metadata": {},
     "outputs": [
      {
       "html": [
        "[-1.5, -1.5]"
       ],
       "latex": [
        "$[-1.5, -1.5]$"
       ],
       "output_type": "pyout",
       "prompt_number": 16,
       "text": [
        "Intervalo [-1.5,-1.5]"
       ]
      }
     ],
     "prompt_number": 16
    },
    {
     "cell_type": "code",
     "collapsed": false,
     "input": [
      "Integracion(0, 1, l, 50, 6)"
     ],
     "language": "python",
     "metadata": {},
     "outputs": [
      {
       "html": [
        "[-5.0270399822e-13, 5.0274866735e-13]"
       ],
       "latex": [
        "$[-5.0270399822e-13, 5.0274866735e-13]$"
       ],
       "output_type": "pyout",
       "prompt_number": 17,
       "text": [
        "Intervalo [-5.0270399822e-13,5.0274866735e-13]"
       ]
      }
     ],
     "prompt_number": 17
    },
    {
     "cell_type": "code",
     "collapsed": false,
     "input": [
      "def Tuck(x):\n",
      "    return np.sin( np.cos( np.exp(x) ) )"
     ],
     "language": "python",
     "metadata": {},
     "outputs": [],
     "prompt_number": 18
    },
    {
     "cell_type": "code",
     "collapsed": false,
     "input": [
      "Integracion(-2, 2, Tuck, 9, 6)"
     ],
     "language": "python",
     "metadata": {},
     "outputs": [
      {
       "html": [
        "[0.863251784699, 1.81128961987]"
       ],
       "latex": [
        "$[0.863251784699, 1.81128961987]$"
       ],
       "output_type": "pyout",
       "prompt_number": 19,
       "text": [
        "Intervalo [0.863251784699,1.81128961987]"
       ]
      }
     ],
     "prompt_number": 19
    },
    {
     "cell_type": "code",
     "collapsed": false,
     "input": [
      "Integracion(-2, 2, Tuck, 12, 6)"
     ],
     "language": "python",
     "metadata": {},
     "outputs": [
      {
       "html": [
        "[1.28416304745, 1.39316025451]"
       ],
       "latex": [
        "$[1.28416304745, 1.39316025451]$"
       ],
       "output_type": "pyout",
       "prompt_number": 20,
       "text": [
        "Intervalo [1.28416304745,1.39316025451]"
       ]
      }
     ],
     "prompt_number": 20
    },
    {
     "cell_type": "code",
     "collapsed": false,
     "input": [
      "Integracion(-2, 2, Tuck, 21, 6)"
     ],
     "language": "python",
     "metadata": {},
     "outputs": [
      {
       "html": [
        "[1.33783795371, 1.33950680632]"
       ],
       "latex": [
        "$[1.33783795371, 1.33950680632]$"
       ],
       "output_type": "pyout",
       "prompt_number": 21,
       "text": [
        "Intervalo [1.33783795371,1.33950680632]"
       ]
      }
     ],
     "prompt_number": 21
    },
    {
     "cell_type": "code",
     "collapsed": false,
     "input": [
      "Integracion(-2, 2, Tuck, 75, 6)"
     ],
     "language": "python",
     "metadata": {},
     "outputs": [
      {
       "html": [
        "[1.33866863494, 1.33866878008]"
       ],
       "latex": [
        "$[1.33866863494, 1.33866878008]$"
       ],
       "output_type": "pyout",
       "prompt_number": 22,
       "text": [
        "Intervalo [1.33866863494,1.33866878008]"
       ]
      }
     ],
     "prompt_number": 22
    },
    {
     "cell_type": "markdown",
     "metadata": {},
     "source": [
      "Que son resulatdos casi id\u00e9nticos a los del Libro."
     ]
    },
    {
     "cell_type": "markdown",
     "metadata": {},
     "source": [
      "Ahora, realizamos el c\u00f3digo para la funci\u00f3n de la integral con tolerancias."
     ]
    },
    {
     "cell_type": "code",
     "collapsed": false,
     "input": [
      "def Integracion_2(a, b, f, grad, Tol):\n",
      "    \n",
      "    x = Intervalo(a, b)\n",
      "    \n",
      "    if suma_parcial(x, f, grad).width() <= Tol:\n",
      "        return suma_parcial(x, f, grad)\n",
      "    \n",
      "    elif suma_parcial(x, f, grad).width() > Tol:\n",
      "        \n",
      "        m = x.middle()\n",
      "        \n",
      "        return Integrando_2(a, m, f, grad, float(Tol)/2) + Integrando_2(m, b, f, grad, float(Tol)/2)"
     ],
     "language": "python",
     "metadata": {},
     "outputs": [],
     "prompt_number": 27
    },
    {
     "cell_type": "code",
     "collapsed": false,
     "input": [
      "Integracion_2(0, 1, f, 3, .01)"
     ],
     "language": "python",
     "metadata": {},
     "outputs": [
      {
       "html": [
        "[0.5, 0.5]"
       ],
       "latex": [
        "$[0.5, 0.5]$"
       ],
       "output_type": "pyout",
       "prompt_number": 28,
       "text": [
        "Intervalo [0.5,0.5]"
       ]
      }
     ],
     "prompt_number": 28
    },
    {
     "cell_type": "code",
     "collapsed": false,
     "input": [
      "Integracion_2(0, 1, l, 5, .00000001)"
     ],
     "language": "python",
     "metadata": {},
     "outputs": [
      {
       "html": [
        "[-8.30567670196e-10, 8.30567614685e-10]"
       ],
       "latex": [
        "$[-8.30567670196e-10, 8.30567614685e-10]$"
       ],
       "output_type": "pyout",
       "prompt_number": 34,
       "text": [
        "Intervalo [-8.30567670196e-10,8.30567614685e-10]"
       ]
      }
     ],
     "prompt_number": 34
    },
    {
     "cell_type": "code",
     "collapsed": false,
     "input": [
      "Integracion_2(-2, 2, Tuck, 6, .000001)"
     ],
     "language": "python",
     "metadata": {},
     "outputs": [
      {
       "html": [
        "[1.33866861912, 1.3386687958]"
       ],
       "latex": [
        "$[1.33866861912, 1.3386687958]$"
       ],
       "output_type": "pyout",
       "prompt_number": 32,
       "text": [
        "Intervalo [1.33866861912,1.3386687958]"
       ]
      }
     ],
     "prompt_number": 32
    },
    {
     "cell_type": "markdown",
     "metadata": {},
     "source": [
      "Podemos obsrevar que ambos m\u00e9todos de cierta forma son efectivos, ya que el resultado de la l\u00ednea 22 es igual al resultado de la l\u00ednea 32 al menos en 6 cifras, que es tolerancia que le dimos."
     ]
    },
    {
     "cell_type": "code",
     "collapsed": false,
     "input": [],
     "language": "python",
     "metadata": {},
     "outputs": []
    }
   ],
   "metadata": {}
  }
 ]
}