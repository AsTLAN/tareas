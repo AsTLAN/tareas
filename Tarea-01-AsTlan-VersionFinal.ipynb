{
 "metadata": {
  "name": ""
 },
 "nbformat": 3,
 "nbformat_minor": 0,
 "worksheets": [
  {
   "cells": [
    {
     "cell_type": "heading",
     "level": 1,
     "metadata": {},
     "source": [
      "Tarea 1: Ejercicios de calentamiento con Python"
     ]
    },
    {
     "cell_type": "markdown",
     "metadata": {},
     "source": [
      "**REGLAS:**\n",
      "\n",
      "- Usa Python para llevar a cabo las tareas. [O julia...]\n",
      "\n",
      "- S\u00ed se permite el trabajo colaborativo, y de hecho se fomenta, pero se exige el uso de las neuronas de todos los que colaboren. Se vale entregar una sola tarea por grupo de 2 o (si es necesario) 3 personas.\n",
      "\n",
      "- La tarea se entrega como un *notebook* de IPython, y debe incluir notas, comentario y **TODO** lo est\u00e9ticamente necesario, que lo haga entendible para una tercer persona no involucrada en el curso. \n",
      "\n",
      "- Se recomienda usar una versi\u00f3n nueva de este mismo notebook, reemplazando *[Respuesta aqu\u00ed] por tu discusi\u00f3n, c\u00f3digo, y resultados (en los tipos de celda que convengan, y con el n\u00famero de ellos que haga falta).\n",
      "\n",
      "- Cambia el nombre del notebook para reflejar el nombre que escojan para su grupo de trabajo, e.g. \"Tarea-01-profes\"\n",
      "\n",
      "\n"
     ]
    },
    {
     "cell_type": "markdown",
     "metadata": {},
     "source": [
      "**1.** Implementa (con Python) el llamado \"m\u00e9todo Babil\u00f3nico\" para calcular la ra\u00edz cuadrada de un \n",
      "n\u00famero dado, $y$. Este m\u00e9todo consiste en la iteraci\u00f3n \n",
      "$ x_{n+1} = \\frac{1}{2} ( x_n + \\frac{y}{x_n}). $\n",
      "\n",
      "a. \u00bfCu\u00e1ndo se deber\u00eda terminar la iteracion?\n",
      "\n",
      "b. \u00bfCu\u00e1l es la convergencia del m\u00e9todo?\n",
      "\n",
      "c. Calcula, usando este m\u00e9todo, la ra\u00edz cuadrada de los n\u00fameros $0$ hasta $10$, en pasos de $0.1$.\n",
      "\n",
      "d. \u00bfQu\u00e9 ser\u00eda bueno \"poder hacer\" --y que a\u00fan no hemos aprendido-- con este c\u00f3digo para poderlo correr muchas veces sin tener que incluirlo expl\u00edcitamente?"
     ]
    },
    {
     "cell_type": "markdown",
     "metadata": {},
     "source": [
      "**1.** Empezamos definiendo una funci\u00f3n que realice el paso iterativo, tomando como argumentos el valor $y$ al que se le sacar\u00e1 ra\u00edz cuadrada y el valor $x$ que se da como suposici\u00f3n inicial para $\\sqrt{y}$"
     ]
    },
    {
     "cell_type": "code",
     "collapsed": false,
     "input": [
      "def iteracion(x,y):\n",
      "    x=0.5*(x+(float(y)/x))\n",
      "    return x\n",
      "iteracion(1,2.5)"
     ],
     "language": "python",
     "metadata": {},
     "outputs": [
      {
       "output_type": "pyout",
       "prompt_number": 29,
       "text": [
        "1.75"
       ]
      }
     ],
     "prompt_number": 29
    },
    {
     "cell_type": "markdown",
     "metadata": {},
     "source": [
      "Definimos una nueva funci\u00f3n que de la iteraci\u00f3n n\u00famero \"n\" del proceso babil\u00f3nico"
     ]
    },
    {
     "cell_type": "code",
     "collapsed": false,
     "input": [
      "def babilon(x,y,n):\n",
      "    for i in xrange(n):\n",
      "        x=iteracion(x,y)\n",
      "    return x"
     ],
     "language": "python",
     "metadata": {},
     "outputs": [],
     "prompt_number": 30
    },
    {
     "cell_type": "markdown",
     "metadata": {},
     "source": [
      "Observamos a froma de comprobaci\u00f3n lo siguiente"
     ]
    },
    {
     "cell_type": "code",
     "collapsed": false,
     "input": [
      "raizesperada2=babilon(1,2,110)\n",
      "print raizesperada2\n"
     ],
     "language": "python",
     "metadata": {},
     "outputs": [
      {
       "output_type": "stream",
       "stream": "stdout",
       "text": [
        "1.41421356237\n"
       ]
      }
     ],
     "prompt_number": 31
    },
    {
     "cell_type": "code",
     "collapsed": false,
     "input": [
      "1.41421356237**2"
     ],
     "language": "python",
     "metadata": {},
     "outputs": [
      {
       "output_type": "pyout",
       "prompt_number": 32,
       "text": [
        "1.9999999999912461"
       ]
      }
     ],
     "prompt_number": 32
    },
    {
     "cell_type": "markdown",
     "metadata": {},
     "source": [
      "**1.b.** Presentamos la demostraci\u00f3n de la convergencia y dejamos **1.a.** pendiente"
     ]
    },
    {
     "cell_type": "markdown",
     "metadata": {},
     "source": [
      "Probaremos que $x_{n}\\rightarrow\\sqrt{y},$\n",
      "\n",
      "Caso 1. Si $y=a^{2}$ donde $a\\in\\mathbb{Z},$ entonces tomando a $x_{0}=a,$\n",
      "vemos que la prueba es obvia.\n",
      "\n",
      "Caso 2. Si $y$ no es el cuadrado de un n\u00famero entero.\n",
      "\n",
      "Entonces, en este caso, tomamos un entero $a$ tal que $a^{2}<y.$\n",
      "Primero demostraremos las siguientes desigualdades, las cuales las denotarmos como \"(1)\":\n",
      "\n",
      "\\begin{equation}\n",
      "\\frac{y}{x_{n}}<\\frac{y}{x_{n+1}}<\\sqrt{y}<x_{n+1}<x_{n},\n",
      "\\end{equation}\n",
      "\n",
      "\n",
      "Demostraci\u00f3n de (1).\n",
      "\n",
      "Como\n",
      "\\begin{equation}\n",
      "x_{n+1}=\\frac{1}{2}(x_{n}+\\frac{y}{x_{n}}),\n",
      "\\end{equation}\n",
      "obtenemos,\n",
      "\\begin{equation}\n",
      "x_{n+1}-\\frac{y}{x_{n+1}}=\\frac{(x_{n}-\\frac{y}{x_{n}})^{2}}{4x_{n+1}}\\text{\n",
      "}\\geq0\\text{  }\\forall n\\geq0,\n",
      "\\end{equation}\n",
      "si tuvieramos que\n",
      "\\begin{equation}\n",
      "x_{n+1}-\\frac{y}{x_{n+1}}=0,\n",
      "\\end{equation}\n",
      "por esta \u00faltima igualdad, tendr\u00edamos que\n",
      "\\begin{equation}\n",
      "x_{n}-\\frac{y}{x_{n}}=0\n",
      "\\end{equation}\n",
      "as\u00ed pues, aplicando esto mismo $n$ veces (de manera descendiente),\n",
      "tendr\u00edamos que\n",
      "\\begin{equation}\n",
      "x_{0}-\\frac{y}{x_{0}}=0,\n",
      "\\end{equation}\n",
      "una contradicci\u00f3n a que $a^{2}<y.$ Por lo tanto $x_{n+1}-\\frac{y}{x_{n+1}%\n",
      "}>0$ $\\forall n\\geq0,$ y as\u00ed entonces\n",
      "\\begin{equation}\n",
      "x_{n}>\\frac{y}{x_{n}}\\text{  }\\forall n\\geq1.\n",
      "\\end{equation}\n",
      "De esto, observamos que $x_{n}>\\sqrt{y},$ y no s\u00f3lo eso, vemos que $\\frac{\\sqrt{y}}{x_{n}}<1,$ y por lo tanto\n",
      "\\begin{equation}\n",
      "\\frac{y}{x_{n}}=\\frac{\\sqrt{y}\\sqrt{y}}{x_{n}}<1\\sqrt{y}.\n",
      "\\end{equation}\n",
      "Por lo que hemos demostrado que\n",
      "\\begin{equation}\n",
      "\\frac{y}{x_{n}}<\\sqrt{y}<x_{n}\\text{  }\\forall n\\geq1.\n",
      "\\end{equation}\n",
      "\n",
      "\n",
      "Como\n",
      "\\begin{equation}\n",
      "\\frac{y}{x_{n}}<x_{n},\n",
      "\\end{equation}\n",
      "se tiene entonces\n",
      "\\begin{equation}\n",
      "\\frac{y}{x_{n}}+x_{n}<2x_{n},\n",
      "\\end{equation}\n",
      "y por lo tanto\n",
      "\\begin{equation}\n",
      "x_{n+1}<x_{n}.\n",
      "\\end{equation}\n",
      "De esto \u00faltimo, tenemos que\n",
      "\\begin{equation}\n",
      "\\frac{1}{x_{n}}<\\frac{1}{x_{n+1}},\n",
      "\\end{equation}\n",
      "y por lo tanto\n",
      "\\begin{equation}\n",
      "\\frac{y}{x_{n}}<\\frac{y}{x_{n+1}},\n",
      "\\end{equation}\n",
      "por lo que hemos terminado la demostraci\u00f3n de (1).\n",
      "\n",
      "Observa que por (1),\n",
      "\\begin{align}\n",
      "x_{n}-\\sqrt{y}  & <x_{n}-\\frac{y}{x_{n}}<x_{n}-\\frac{y}{x_{n-1}}\\\\\n",
      "& =\\frac{1}{2}(x_{n-1}-\\frac{y}{x_{n-1}}),\n",
      "\\end{align}\n",
      "as\u00ed entonces, repitiendo este paso \"n\" veces, tenemos que,\n",
      "\\begin{equation}\n",
      "x_{n}-\\sqrt{y}<\\frac{1}{2^{n}}(a-\\frac{y}{a}),\n",
      "\\end{equation}\n",
      "y por lo tanto, cuando $n\\rightarrow\\infty,$ $x_{n}\\rightarrow\\sqrt{y}.$\n",
      "\n",
      "Nota: La prueba es an\u00e1loga si tomamos un entero $a$, tal que $a^{2}>y.$\n",
      "\n",
      "Se sigue de la prueba que la convergencia se da de manera proporcional a $\\frac{1}{2^n}$ a la iteraci\u00f3n $n$ donde la constante de proporcionalidad depende de la condici\u00f3n inicial.\n"
     ]
    },
    {
     "cell_type": "markdown",
     "metadata": {},
     "source": [
      "**1.a.** Se sigue de la prueba anterior que dado un error $e$ tomando $n>\\frac{\\log{\\frac{|a-\\frac{y}{a}|\n",
      "}{e}}}{\\log{2}}$ entonces $|x_n-\\sqrt{y}|<e$"
     ]
    },
    {
     "cell_type": "markdown",
     "metadata": {},
     "source": [
      "**1.c** Procedemos a generalizar el algoritmo"
     ]
    },
    {
     "cell_type": "code",
     "collapsed": false,
     "input": [
      "import numpy as np\n",
      "def iteracion(x,y):\n",
      "    x=0.5*(x+(y/x))\n",
      "    return x\n",
      "def babilon(x,y,n):\n",
      "    x=float(x)\n",
      "    if type(y)== np.ndarray and type(x)!= np.ndarray:\n",
      "        x=np.zeros(y.shape)+x    \n",
      "    for i in xrange(n):\n",
      "        x=iteracion(x,y)\n",
      "    return x"
     ],
     "language": "python",
     "metadata": {},
     "outputs": [],
     "prompt_number": 1
    },
    {
     "cell_type": "code",
     "collapsed": false,
     "input": [
      "array = np.arange(0.,10.1,0.1)\n",
      "babilarray=babilon(1,array,100)\n",
      "print babilarray"
     ],
     "language": "python",
     "metadata": {},
     "outputs": [
      {
       "output_type": "stream",
       "stream": "stdout",
       "text": [
        "[  7.88860905e-31   3.16227766e-01   4.47213595e-01   5.47722558e-01\n",
        "   6.32455532e-01   7.07106781e-01   7.74596669e-01   8.36660027e-01\n",
        "   8.94427191e-01   9.48683298e-01   1.00000000e+00   1.04880885e+00\n",
        "   1.09544512e+00   1.14017543e+00   1.18321596e+00   1.22474487e+00\n",
        "   1.26491106e+00   1.30384048e+00   1.34164079e+00   1.37840488e+00\n",
        "   1.41421356e+00   1.44913767e+00   1.48323970e+00   1.51657509e+00\n",
        "   1.54919334e+00   1.58113883e+00   1.61245155e+00   1.64316767e+00\n",
        "   1.67332005e+00   1.70293864e+00   1.73205081e+00   1.76068169e+00\n",
        "   1.78885438e+00   1.81659021e+00   1.84390889e+00   1.87082869e+00\n",
        "   1.89736660e+00   1.92353841e+00   1.94935887e+00   1.97484177e+00\n",
        "   2.00000000e+00   2.02484567e+00   2.04939015e+00   2.07364414e+00\n",
        "   2.09761770e+00   2.12132034e+00   2.14476106e+00   2.16794834e+00\n",
        "   2.19089023e+00   2.21359436e+00   2.23606798e+00   2.25831796e+00\n",
        "   2.28035085e+00   2.30217289e+00   2.32379001e+00   2.34520788e+00\n",
        "   2.36643191e+00   2.38746728e+00   2.40831892e+00   2.42899156e+00\n",
        "   2.44948974e+00   2.46981781e+00   2.48997992e+00   2.50998008e+00\n",
        "   2.52982213e+00   2.54950976e+00   2.56904652e+00   2.58843582e+00\n",
        "   2.60768096e+00   2.62678511e+00   2.64575131e+00   2.66458252e+00\n",
        "   2.68328157e+00   2.70185122e+00   2.72029410e+00   2.73861279e+00\n",
        "   2.75680975e+00   2.77488739e+00   2.79284801e+00   2.81069386e+00\n",
        "   2.82842712e+00   2.84604989e+00   2.86356421e+00   2.88097206e+00\n",
        "   2.89827535e+00   2.91547595e+00   2.93257566e+00   2.94957624e+00\n",
        "   2.96647939e+00   2.98328678e+00   3.00000000e+00   3.01662063e+00\n",
        "   3.03315018e+00   3.04959014e+00   3.06594194e+00   3.08220700e+00\n",
        "   3.09838668e+00   3.11448230e+00   3.13049517e+00   3.14642654e+00\n",
        "   3.16227766e+00]\n"
       ]
      }
     ],
     "prompt_number": 2
    },
    {
     "cell_type": "markdown",
     "metadata": {},
     "source": [
      "Y se verifica para los valores 1 y 9 "
     ]
    },
    {
     "cell_type": "code",
     "collapsed": false,
     "input": [
      "print array[10]\n",
      "print babilarray[10]               "
     ],
     "language": "python",
     "metadata": {},
     "outputs": [
      {
       "output_type": "stream",
       "stream": "stdout",
       "text": [
        "1.0\n",
        "1.0\n"
       ]
      }
     ],
     "prompt_number": 3
    },
    {
     "cell_type": "code",
     "collapsed": false,
     "input": [
      "print array[90]\n",
      "print babilarray[90]"
     ],
     "language": "python",
     "metadata": {},
     "outputs": [
      {
       "output_type": "stream",
       "stream": "stdout",
       "text": [
        "9.0\n",
        "3.0\n"
       ]
      }
     ],
     "prompt_number": 4
    },
    {
     "cell_type": "code",
     "collapsed": false,
     "input": [
      "def vectory(y):\n",
      "    raiz=y**(0.5)\n",
      "    return raiz"
     ],
     "language": "python",
     "metadata": {},
     "outputs": [],
     "prompt_number": 5
    },
    {
     "cell_type": "code",
     "collapsed": false,
     "input": [
      "vectory(array)"
     ],
     "language": "python",
     "metadata": {},
     "outputs": [
      {
       "metadata": {},
       "output_type": "pyout",
       "prompt_number": 6,
       "text": [
        "array([ 0.        ,  0.31622777,  0.4472136 ,  0.54772256,  0.63245553,\n",
        "        0.70710678,  0.77459667,  0.83666003,  0.89442719,  0.9486833 ,\n",
        "        1.        ,  1.04880885,  1.09544512,  1.14017543,  1.18321596,\n",
        "        1.22474487,  1.26491106,  1.30384048,  1.34164079,  1.37840488,\n",
        "        1.41421356,  1.44913767,  1.4832397 ,  1.51657509,  1.54919334,\n",
        "        1.58113883,  1.61245155,  1.64316767,  1.67332005,  1.70293864,\n",
        "        1.73205081,  1.76068169,  1.78885438,  1.81659021,  1.84390889,\n",
        "        1.87082869,  1.8973666 ,  1.92353841,  1.94935887,  1.97484177,\n",
        "        2.        ,  2.02484567,  2.04939015,  2.07364414,  2.0976177 ,\n",
        "        2.12132034,  2.14476106,  2.16794834,  2.19089023,  2.21359436,\n",
        "        2.23606798,  2.25831796,  2.28035085,  2.30217289,  2.32379001,\n",
        "        2.34520788,  2.36643191,  2.38746728,  2.40831892,  2.42899156,\n",
        "        2.44948974,  2.46981781,  2.48997992,  2.50998008,  2.52982213,\n",
        "        2.54950976,  2.56904652,  2.58843582,  2.60768096,  2.62678511,\n",
        "        2.64575131,  2.66458252,  2.68328157,  2.70185122,  2.7202941 ,\n",
        "        2.73861279,  2.75680975,  2.77488739,  2.79284801,  2.81069386,\n",
        "        2.82842712,  2.84604989,  2.86356421,  2.88097206,  2.89827535,\n",
        "        2.91547595,  2.93257566,  2.94957624,  2.96647939,  2.98328678,\n",
        "        3.        ,  3.01662063,  3.03315018,  3.04959014,  3.06594194,\n",
        "        3.082207  ,  3.09838668,  3.1144823 ,  3.13049517,  3.14642654,\n",
        "        3.16227766])"
       ]
      }
     ],
     "prompt_number": 6
    },
    {
     "cell_type": "markdown",
     "metadata": {},
     "source": [
      "**1.d.** Ser\u00eda bueno poder saber guardar el c\u00f3digo y mandarlo llamar sin tener que escribirlo de forma expl\u00edcita en la pantalla, como una funci\u00f3n de numpy o el mismo numpy."
     ]
    },
    {
     "cell_type": "markdown",
     "metadata": {},
     "source": [
      "*Continuaci\u00f3n de la discuci\u00f3n de la convergencia (ejercicio 1.b).* Veamos que el error tiende a cero cuando $n\\rightarrow\\infty$ para distintos valores de \"$y$\"."
     ]
    },
    {
     "cell_type": "code",
     "collapsed": false,
     "input": [
      "def error(x,y,n):   \n",
      "    a=np.abs(vectory(y)-babilon(x,y,n))\n",
      "    return a"
     ],
     "language": "python",
     "metadata": {},
     "outputs": [],
     "prompt_number": 7
    },
    {
     "cell_type": "code",
     "collapsed": false,
     "input": [
      "print error(1,array,1)"
     ],
     "language": "python",
     "metadata": {},
     "outputs": [
      {
       "output_type": "stream",
       "stream": "stdout",
       "text": [
        "[  5.00000000e-01   2.33772234e-01   1.52786405e-01   1.02277442e-01\n",
        "   6.75444680e-02   4.28932188e-02   2.54033308e-02   1.33399735e-02\n",
        "   5.57280900e-03   1.31670195e-03   0.00000000e+00   1.19115183e-03\n",
        "   4.55488499e-03   9.82457490e-03   1.67840434e-02   2.52551286e-02\n",
        "   3.50889359e-02   4.61595190e-02   5.83592135e-02   7.15951248e-02\n",
        "   8.57864376e-02   1.00862325e-01   1.16760303e-01   1.33424911e-01\n",
        "   1.50806662e-01   1.68861170e-01   1.87548450e-01   2.06832327e-01\n",
        "   2.26679947e-01   2.47061363e-01   2.67949192e-01   2.89318314e-01\n",
        "   3.11145618e-01   3.33409788e-01   3.56091109e-01   3.79171307e-01\n",
        "   4.02633404e-01   4.26461594e-01   4.50641131e-01   4.75158234e-01\n",
        "   5.00000000e-01   5.25154327e-01   5.50609847e-01   5.76355865e-01\n",
        "   6.02382304e-01   6.28679656e-01   6.55238941e-01   6.82051661e-01\n",
        "   7.09109770e-01   7.36405638e-01   7.63932023e-01   7.91682042e-01\n",
        "   8.19649150e-01   8.47827113e-01   8.76209992e-01   9.04792120e-01\n",
        "   9.33568087e-01   9.62532723e-01   9.91681084e-01   1.02100844e+00\n",
        "   1.05051026e+00   1.08018219e+00   1.11002008e+00   1.14001992e+00\n",
        "   1.17017787e+00   1.20049024e+00   1.23095348e+00   1.26156418e+00\n",
        "   1.29231904e+00   1.32321489e+00   1.35424869e+00   1.38541748e+00\n",
        "   1.41671843e+00   1.44814878e+00   1.47970590e+00   1.51138721e+00\n",
        "   1.54319025e+00   1.57511261e+00   1.60715199e+00   1.63930614e+00\n",
        "   1.67157288e+00   1.70395011e+00   1.73643579e+00   1.76902794e+00\n",
        "   1.80172465e+00   1.83452405e+00   1.86742434e+00   1.90042376e+00\n",
        "   1.93352061e+00   1.96671322e+00   2.00000000e+00   2.03337937e+00\n",
        "   2.06684982e+00   2.10040986e+00   2.13405806e+00   2.16779300e+00\n",
        "   2.20161332e+00   2.23551770e+00   2.26950483e+00   2.30357346e+00\n",
        "   2.33772234e+00]\n"
       ]
      }
     ],
     "prompt_number": 8
    },
    {
     "cell_type": "code",
     "collapsed": false,
     "input": [
      "print error(1,array,2)"
     ],
     "language": "python",
     "metadata": {},
     "outputs": [
      {
       "output_type": "stream",
       "stream": "stdout",
       "text": [
        "[  2.50000000e-01   4.96813249e-02   1.94530712e-02   8.04667326e-03\n",
        "   3.25875368e-03   1.22655215e-03   4.03330759e-04   1.04679348e-04\n",
        "   1.72534445e-05   9.12475802e-07   0.00000000e+00   6.75639372e-07\n",
        "   9.43044421e-06   4.19662052e-05   1.17376713e-04   2.55128608e-04\n",
        "   4.73551317e-04   7.89148589e-04   1.21635636e-03   1.76753858e-03\n",
        "   2.45310429e-03   3.28168022e-03   4.26030258e-03   5.39460816e-03\n",
        "   6.68901446e-03   8.14688420e-03   9.77067256e-03   1.15620572e-02\n",
        "   1.35220522e-02   1.56511070e-02   1.79491924e-02   2.04158748e-02\n",
        "   2.30503799e-02   2.58516480e-02   2.88183813e-02   3.19490844e-02\n",
        "   3.52420996e-02   3.86956364e-02   4.23077977e-02   4.60766015e-02\n",
        "   5.00000000e-02   5.40758955e-02   5.83021545e-02   6.26766194e-02\n",
        "   6.71971185e-02   7.18614746e-02   7.66675125e-02   8.16130646e-02\n",
        "   8.66959769e-02   9.19141125e-02   9.72653558e-02   1.02747616e-01\n",
        "   1.08358827e-01   1.14096955e-01   1.19959992e-01   1.25945966e-01\n",
        "   1.32052935e-01   1.38278991e-01   1.44622261e-01   1.51080903e-01\n",
        "   1.57653114e-01   1.64337123e-01   1.71131192e-01   1.78033619e-01\n",
        "   1.85042737e-01   1.92156910e-01   1.99374537e-01   2.06694049e-01\n",
        "   2.14113910e-01   2.21632614e-01   2.29248689e-01   2.36960691e-01\n",
        "   2.44767207e-01   2.52666855e-01   2.60658279e-01   2.68740154e-01\n",
        "   2.76911180e-01   2.85170086e-01   2.93515628e-01   3.01946585e-01\n",
        "   3.10461764e-01   3.19059996e-01   3.27740135e-01   3.36501060e-01\n",
        "   3.45341672e-01   3.54260895e-01   3.63257674e-01   3.72330976e-01\n",
        "   3.81479789e-01   3.90703121e-01   4.00000000e-01   4.09369473e-01\n",
        "   4.18810607e-01   4.28322485e-01   4.37904210e-01   4.47554903e-01\n",
        "   4.57273700e-01   4.67059756e-01   4.76912239e-01   4.86830336e-01\n",
        "   4.96813249e-01]\n"
       ]
      }
     ],
     "prompt_number": 9
    },
    {
     "cell_type": "code",
     "collapsed": false,
     "input": [
      "print error(1,array,3)"
     ],
     "language": "python",
     "metadata": {},
     "outputs": [
      {
       "output_type": "stream",
       "stream": "stdout",
       "text": [
        "[  1.25000000e-01   3.37274217e-03   4.05452119e-04   5.82516511e-05\n",
        "   8.35239650e-06   1.06195071e-06   1.04952065e-07   6.54769849e-09\n",
        "   1.66405778e-10   4.38871162e-13   0.00000000e+00   2.17603713e-13\n",
        "   4.05917522e-11   7.72292230e-10   5.82139159e-09   2.65675948e-08\n",
        "   8.86097584e-08   2.38671375e-07   5.50886144e-07   1.13181245e-06\n",
        "   2.12390141e-06   3.70740896e-06   6.10090020e-06   9.56057051e-06\n",
        "   1.43786303e-05   2.08809913e-05   2.94244651e-05   4.03936560e-05\n",
        "   5.41976914e-05   7.12669068e-05   9.20495740e-05   1.17008735e-04\n",
        "   1.46619189e-04   1.81364666e-04   2.21735196e-04   2.68224699e-04\n",
        "   3.21328778e-04   3.81542732e-04   4.49359769e-04   5.25269413e-04\n",
        "   6.09756098e-04   7.03297930e-04   8.06365618e-04   9.19421536e-04\n",
        "   1.04291894e-03   1.17730128e-03   1.32300168e-03   1.48044243e-03\n",
        "   1.65003467e-03   1.83217806e-03   2.02726060e-03   2.23565848e-03\n",
        "   2.45773598e-03   2.69384545e-03   2.94432731e-03   3.20951009e-03\n",
        "   3.48971052e-03   3.78523364e-03   4.09637294e-03   4.42341053e-03\n",
        "   4.76661730e-03   5.12625312e-03   5.50256706e-03   5.89579761e-03\n",
        "   6.30617289e-03   6.73391088e-03   7.17921971e-03   7.64229783e-03\n",
        "   8.12333433e-03   8.62250914e-03   9.13999328e-03   9.67594914e-03\n",
        "   1.02305307e-02   1.08038838e-02   1.13961462e-02   1.20074483e-02\n",
        "   1.26379129e-02   1.32876553e-02   1.39567844e-02   1.46454018e-02\n",
        "   1.53536029e-02   1.60814766e-02   1.68291057e-02   1.75965671e-02\n",
        "   1.83839321e-02   1.91912664e-02   2.00186302e-02   2.08660788e-02\n",
        "   2.17336624e-02   2.26214265e-02   2.35294118e-02   2.44576547e-02\n",
        "   2.54061873e-02   2.63750374e-02   2.73642291e-02   2.83737823e-02\n",
        "   2.94037134e-02   3.04540351e-02   3.15247570e-02   3.26158849e-02\n",
        "   3.37274217e-02]\n"
       ]
      }
     ],
     "prompt_number": 10
    },
    {
     "cell_type": "code",
     "collapsed": false,
     "input": [
      "print error(1,array,4)"
     ],
     "language": "python",
     "metadata": {},
     "outputs": [
      {
       "output_type": "stream",
       "stream": "stdout",
       "text": [
        "[  6.25000000e-02   1.77962636e-05   1.83628715e-07   3.09727433e-09\n",
        "   5.51513279e-11   7.97362176e-13   7.10542736e-15   0.00000000e+00\n",
        "   1.11022302e-16   0.00000000e+00   0.00000000e+00   0.00000000e+00\n",
        "   2.22044605e-16   0.00000000e+00   2.22044605e-16   4.44089210e-16\n",
        "   3.10862447e-15   2.17603713e-14   1.13020704e-13   4.64517314e-13\n",
        "   1.59472435e-12   4.74220663e-12   1.25470745e-11   3.01350056e-11\n",
        "   6.67261801e-11   1.37878375e-10   2.68467915e-10   4.96482411e-10\n",
        "   8.77684592e-10   1.49117496e-09   2.44585019e-09   3.88773680e-09\n",
        "   6.00815397e-09   9.05263553e-09   1.33305353e-08   1.92252172e-08\n",
        "   2.72047322e-08   3.78328777e-08   5.17805288e-08   6.98371367e-08\n",
        "   9.29222947e-08   1.22097265e-07   1.58576386e-07   2.03738265e-07\n",
        "   2.59136685e-07   3.26511154e-07   4.07797039e-07   5.05135227e-07\n",
        "   6.20881279e-07   7.57614024e-07   9.18143574e-07   1.10551875e-06\n",
        "   1.32303387e-06   1.57423491e-06   1.86292504e-06   2.19316955e-06\n",
        "   2.56930005e-06   2.99591817e-06   3.47789854e-06   4.02039129e-06\n",
        "   4.62882379e-06   5.30890202e-06   6.06661126e-06   6.90821630e-06\n",
        "   7.84026117e-06   8.86956834e-06   1.00032375e-05   1.12486438e-05\n",
        "   1.26134361e-05   1.41055341e-05   1.57331257e-05   1.75046640e-05\n",
        "   1.94288636e-05   2.15146969e-05   2.37713901e-05   2.62084191e-05\n",
        "   2.88355046e-05   3.16626076e-05   3.46999248e-05   3.79578829e-05\n",
        "   4.14471340e-05   4.51785496e-05   4.91632160e-05   5.34124278e-05\n",
        "   5.79376829e-05   6.27506764e-05   6.78632951e-05   7.32876114e-05\n",
        "   7.90358774e-05   8.51205193e-05   9.15541314e-05   9.83494698e-05\n",
        "   1.05519447e-04   1.13077125e-04   1.21035712e-04   1.29408554e-04\n",
        "   1.38209127e-04   1.47451038e-04   1.57148014e-04   1.67313896e-04\n",
        "   1.77962636e-04]\n"
       ]
      }
     ],
     "prompt_number": 11
    },
    {
     "cell_type": "markdown",
     "metadata": {},
     "source": [
      "Como podemos observar, conforme $n$ crece, cada entrada de nuestro arreglo se acerca m\u00e1s al valor 0, lo cual nos dice que nuestra aproxmaci\u00f3n a la raiz en los 100 valores de la lista \"array\" es bastante buena. "
     ]
    },
    {
     "cell_type": "code",
     "collapsed": false,
     "input": [
      "%matplotlib inline\n",
      "from matplotlib import pyplot as plt\n",
      "plt.xlim(0,1)\n",
      "plt.ylim(0,.5)\n",
      "for i in xrange(1,6):\n",
      "    plt.plot(array,error(1,array,i))\n",
      "plt.show()"
     ],
     "language": "python",
     "metadata": {},
     "outputs": [
      {
       "metadata": {},
       "output_type": "display_data",
       "png": "[encoded data removed]",
       "text": [
        "<matplotlib.figure.Figure at 0x46ee6b0>"
       ]
      }
     ],
     "prompt_number": 14
    },
    {
     "cell_type": "markdown",
     "metadata": {},
     "source": [
      "Cada una de las gr\u00e1ficas representan el error en cada iteraci\u00f3n (azul primera iteraci\u00f3n, morado quinta iteraci\u00f3n), comparado en 100 valores de \"$y$\". Podemos apreciar que, conforme el valor de la itaraci\u00f3n aumenta, la gr\u00e1fica se asemeja m\u00e1s a la constante cero, que era lo esperado."
     ]
    },
    {
     "cell_type": "markdown",
     "metadata": {},
     "source": [
      "Otra forma de ver la convergencia de nuestro m\u00e9todo babil\u00f3nico es observando que la sucesi\u00f3n $|x_{n+1}-x_{n}|$ converge a 0 conforme $n\\rightarrow\\infty$."
     ]
    },
    {
     "cell_type": "code",
     "collapsed": false,
     "input": [
      "def error1(x,y,n):   \n",
      "    a=np.abs(babilon(x,y,n+1)-babilon(x,y,n))\n",
      "    return a"
     ],
     "language": "python",
     "metadata": {},
     "outputs": [],
     "prompt_number": 15
    },
    {
     "cell_type": "code",
     "collapsed": false,
     "input": [
      "print error1(1,array,1)"
     ],
     "language": "python",
     "metadata": {},
     "outputs": [
      {
       "output_type": "stream",
       "stream": "stdout",
       "text": [
        "[  2.50000000e-01   1.84090909e-01   1.33333333e-01   9.42307692e-02\n",
        "   6.42857143e-02   4.16666667e-02   2.50000000e-02   1.32352941e-02\n",
        "   5.55555556e-03   1.31578947e-03   0.00000000e+00   1.19047619e-03\n",
        "   4.54545455e-03   9.78260870e-03   1.66666667e-02   2.50000000e-02\n",
        "   3.46153846e-02   4.53703704e-02   5.71428571e-02   6.98275862e-02\n",
        "   8.33333333e-02   9.75806452e-02   1.12500000e-01   1.28030303e-01\n",
        "   1.44117647e-01   1.60714286e-01   1.77777778e-01   1.95270270e-01\n",
        "   2.13157895e-01   2.31410256e-01   2.50000000e-01   2.68902439e-01\n",
        "   2.88095238e-01   3.07558140e-01   3.27272727e-01   3.47222222e-01\n",
        "   3.67391304e-01   3.87765957e-01   4.08333333e-01   4.29081633e-01\n",
        "   4.50000000e-01   4.71078431e-01   4.92307692e-01   5.13679245e-01\n",
        "   5.35185185e-01   5.56818182e-01   5.78571429e-01   6.00438596e-01\n",
        "   6.22413793e-01   6.44491525e-01   6.66666667e-01   6.88934426e-01\n",
        "   7.11290323e-01   7.33730159e-01   7.56250000e-01   7.78846154e-01\n",
        "   8.01515152e-01   8.24253731e-01   8.47058824e-01   8.69927536e-01\n",
        "   8.92857143e-01   9.15845070e-01   9.38888889e-01   9.61986301e-01\n",
        "   9.85135135e-01   1.00833333e+00   1.03157895e+00   1.05487013e+00\n",
        "   1.07820513e+00   1.10158228e+00   1.12500000e+00   1.14845679e+00\n",
        "   1.17195122e+00   1.19548193e+00   1.21904762e+00   1.24264706e+00\n",
        "   1.26627907e+00   1.28994253e+00   1.31363636e+00   1.33735955e+00\n",
        "   1.36111111e+00   1.38489011e+00   1.40869565e+00   1.43252688e+00\n",
        "   1.45638298e+00   1.48026316e+00   1.50416667e+00   1.52809278e+00\n",
        "   1.55204082e+00   1.57601010e+00   1.60000000e+00   1.62400990e+00\n",
        "   1.64803922e+00   1.67208738e+00   1.69615385e+00   1.72023810e+00\n",
        "   1.74433962e+00   1.76845794e+00   1.79259259e+00   1.81674312e+00\n",
        "   1.84090909e+00]\n"
       ]
      }
     ],
     "prompt_number": 16
    },
    {
     "cell_type": "code",
     "collapsed": false,
     "input": [
      "print error1(1,array,3)"
     ],
     "language": "python",
     "metadata": {},
     "outputs": [
      {
       "output_type": "stream",
       "stream": "stdout",
       "text": [
        "[  6.25000000e-02   3.35494591e-03   4.05268490e-04   5.82485538e-05\n",
        "   8.35234135e-06   1.06194991e-06   1.04952058e-07   6.54769849e-09\n",
        "   1.66405667e-10   4.38871162e-13   0.00000000e+00   2.17603713e-13\n",
        "   4.05919742e-11   7.72292230e-10   5.82139137e-09   2.65675943e-08\n",
        "   8.86097553e-08   2.38671354e-07   5.50886031e-07   1.13181199e-06\n",
        "   2.12389982e-06   3.70740422e-06   6.10088765e-06   9.56054037e-06\n",
        "   1.43785636e-05   2.08808534e-05   2.94241966e-05   4.03931595e-05\n",
        "   5.41968137e-05   7.12654156e-05   9.20471281e-05   1.17004847e-04\n",
        "   1.46613181e-04   1.81355613e-04   2.21721866e-04   2.68205474e-04\n",
        "   3.21301573e-04   3.81504899e-04   4.49307989e-04   5.25199576e-04\n",
        "   6.09663175e-04   7.03175833e-04   8.06207041e-04   9.19217797e-04\n",
        "   1.04265980e-03   1.17697477e-03   1.32259388e-03   1.47993730e-03\n",
        "   1.64941379e-03   1.83142044e-03   2.02634245e-03   2.23455296e-03\n",
        "   2.45641295e-03   2.69227122e-03   2.94246439e-03   3.20731692e-03\n",
        "   3.48714122e-03   3.78223772e-03   4.09289504e-03   4.41939014e-03\n",
        "   4.76198847e-03   5.12094422e-03   5.49650045e-03   5.88888940e-03\n",
        "   6.29833263e-03   6.72504132e-03   7.16921647e-03   7.63104919e-03\n",
        "   8.11072090e-03   8.60840361e-03   9.12426016e-03   9.65844448e-03\n",
        "   1.02111018e-02   1.07823691e-02   1.13723748e-02   1.19812399e-02\n",
        "   1.26090774e-02   1.32559927e-02   1.39220845e-02   1.46074439e-02\n",
        "   1.53121558e-02   1.60362980e-02   1.67799425e-02   1.75431547e-02\n",
        "   1.83259945e-02   1.91285157e-02   1.99507669e-02   2.07927912e-02\n",
        "   2.16546265e-02   2.25363059e-02   2.34378576e-02   2.43593052e-02\n",
        "   2.53006678e-02   2.62619603e-02   2.72431934e-02   2.82443737e-02\n",
        "   2.92655042e-02   3.03065841e-02   3.13676090e-02   3.24485710e-02\n",
        "   3.35494591e-02]\n"
       ]
      }
     ],
     "prompt_number": 17
    },
    {
     "cell_type": "code",
     "collapsed": false,
     "input": [
      "print error1(1,array,4)"
     ],
     "language": "python",
     "metadata": {},
     "outputs": [
      {
       "output_type": "stream",
       "stream": "stdout",
       "text": [
        "[  3.12500000e-02   1.77957628e-05   1.83628677e-07   3.09727433e-09\n",
        "   5.51513279e-11   7.97473199e-13   7.10542736e-15   0.00000000e+00\n",
        "   0.00000000e+00   0.00000000e+00   0.00000000e+00   0.00000000e+00\n",
        "   0.00000000e+00   0.00000000e+00   0.00000000e+00   4.44089210e-16\n",
        "   3.10862447e-15   2.17603713e-14   1.13020704e-13   4.64517314e-13\n",
        "   1.59494640e-12   4.74220663e-12   1.25470745e-11   3.01350056e-11\n",
        "   6.67261801e-11   1.37878597e-10   2.68468137e-10   4.96482411e-10\n",
        "   8.77684592e-10   1.49117496e-09   2.44585019e-09   3.88773680e-09\n",
        "   6.00815375e-09   9.05263575e-09   1.33305353e-08   1.92252170e-08\n",
        "   2.72047318e-08   3.78328775e-08   5.17805281e-08   6.98371356e-08\n",
        "   9.29222925e-08   1.22097261e-07   1.58576380e-07   2.03738255e-07\n",
        "   2.59136669e-07   3.26511128e-07   4.07797000e-07   5.05135168e-07\n",
        "   6.20881191e-07   7.57613894e-07   9.18143385e-07   1.10551848e-06\n",
        "   1.32303348e-06   1.57423437e-06   1.86292430e-06   2.19316853e-06\n",
        "   2.56929866e-06   2.99591629e-06   3.47789603e-06   4.02038796e-06\n",
        "   4.62881941e-06   5.30889631e-06   6.06660387e-06   6.90820680e-06\n",
        "   7.84024903e-06   8.86955291e-06   1.00032180e-05   1.12486194e-05\n",
        "   1.26134056e-05   1.41054962e-05   1.57330789e-05   1.75046065e-05\n",
        "   1.94287932e-05   2.15146112e-05   2.37712862e-05   2.62082937e-05\n",
        "   2.88353538e-05   3.16624270e-05   3.46997092e-05   3.79576266e-05\n",
        "   4.14468303e-05   4.51781911e-05   4.91627940e-05   5.34119327e-05\n",
        "   5.79371038e-05   6.27500011e-05   6.78625099e-05   7.32867009e-05\n",
        "   7.90348245e-05   8.51193050e-05   9.15527344e-05   9.83478666e-05\n",
        "   1.05517611e-04   1.13075029e-04   1.21033323e-04   1.29405837e-04\n",
        "   1.38206045e-04   1.47447548e-04   1.57144070e-04   1.67309447e-04\n",
        "   1.77957628e-04]\n"
       ]
      }
     ],
     "prompt_number": 18
    },
    {
     "cell_type": "code",
     "collapsed": false,
     "input": [
      "print error1(1,array,5)"
     ],
     "language": "python",
     "metadata": {},
     "outputs": [
      {
       "output_type": "stream",
       "stream": "stdout",
       "text": [
        "[  1.56250000e-02   5.00729513e-10   3.76365605e-14   1.11022302e-16\n",
        "   0.00000000e+00   0.00000000e+00   0.00000000e+00   0.00000000e+00\n",
        "   0.00000000e+00   0.00000000e+00   0.00000000e+00   0.00000000e+00\n",
        "   0.00000000e+00   0.00000000e+00   0.00000000e+00   0.00000000e+00\n",
        "   0.00000000e+00   0.00000000e+00   0.00000000e+00   0.00000000e+00\n",
        "   0.00000000e+00   0.00000000e+00   0.00000000e+00   0.00000000e+00\n",
        "   0.00000000e+00   0.00000000e+00   0.00000000e+00   0.00000000e+00\n",
        "   0.00000000e+00   0.00000000e+00   0.00000000e+00   0.00000000e+00\n",
        "   0.00000000e+00   0.00000000e+00   0.00000000e+00   2.22044605e-16\n",
        "   4.44089210e-16   2.22044605e-16   6.66133815e-16   1.33226763e-15\n",
        "   2.22044605e-15   3.55271368e-15   6.21724894e-15   9.76996262e-15\n",
        "   1.59872116e-14   2.48689958e-14   3.90798505e-14   5.90638649e-14\n",
        "   8.83737528e-14   1.29674049e-13   1.88293825e-13   2.70450329e-13\n",
        "   3.83693077e-13   5.38236122e-13   7.46958051e-13   1.02540199e-12\n",
        "   1.39444012e-12   1.87982963e-12   2.51132448e-12   3.32711636e-12\n",
        "   4.37383463e-12   5.70565817e-12   7.39053263e-12   9.50706180e-12\n",
        "   1.21489485e-11   1.54285473e-11   1.94746441e-11   2.44417819e-11\n",
        "   3.05058201e-11   3.78723719e-11   4.67785810e-11   5.74971182e-11\n",
        "   7.03388459e-11   8.56594795e-11   1.03862696e-10   1.25405464e-10\n",
        "   1.50803814e-10   1.80639503e-10   2.15563567e-10   2.56303423e-10\n",
        "   3.03674419e-10   3.58579832e-10   4.22023305e-10   4.95116392e-10\n",
        "   5.79087001e-10   6.75286493e-10   7.85200349e-10   9.10459708e-10\n",
        "   1.05284803e-09   1.21431398e-09   1.39698386e-09   1.60316826e-09\n",
        "   1.83537985e-09   2.09634088e-09   2.38899922e-09   2.71653899e-09\n",
        "   3.08239656e-09   3.49027207e-09   3.94414590e-09   4.44829285e-09\n",
        "   5.00729591e-09]\n"
       ]
      }
     ],
     "prompt_number": 19
    },
    {
     "cell_type": "code",
     "collapsed": false,
     "input": [
      "plt.xlim(0,1)\n",
      "plt.ylim(0,.500)\n",
      "for i in xrange(1,6):\n",
      "    plt.plot(array,error1(1,array,i))\n",
      "plt.show()"
     ],
     "language": "python",
     "metadata": {},
     "outputs": [
      {
       "metadata": {},
       "output_type": "display_data",
       "png": "[encoded data removed]",
       "text": [
        "<matplotlib.figure.Figure at 0x46f6f90>"
       ]
      }
     ],
     "prompt_number": 20
    },
    {
     "cell_type": "markdown",
     "metadata": {},
     "source": [
      "Observa que tenemos resultados similares a los primeros errores calculados. As\u00ed pues, podemos concluir que nuestra construcci\u00f3n del m\u00e9todo babil\u00f3nico es acertada."
     ]
    },
    {
     "cell_type": "markdown",
     "metadata": {},
     "source": [
      "**2.** Considera la f\u00f3rmula de recursi\u00f3n $ x_{n+1} = x_n^2 $. \n",
      "\n",
      "a. \u00bfCu\u00e1l es el valor del iterado $x_{75}$ cuando el valor inicial es $x_0=1-10^{-20}$, calculado num\u00e9ricamente? \n",
      "\n",
      "b. Compara el resultado num\u00e9rico obtenido con el que uno esperar\u00eda al elevar al cuadrado un n\u00famero ligeramente menor que 1 un \n",
      "mont\u00f3n de veces... \u00bfCu\u00e1l resultado es el correcto? \n",
      "\n",
      "c. \u00bfQu\u00e9 necesitar\u00edas para verificar esto num\u00e9ricamente?\n",
      "\n",
      "d. Suele ser una buena idea hacer el c\u00f3digo m\u00e1s general posible, para no repetir esfuerzos despu\u00e9s. \u00bfC\u00f3mo podr\u00edas escribir c\u00f3digo para la iteraci\u00f3n general $x_{n+1} = f(x_n)$, donde $f$ es una funci\u00f3n dada (una funci\u00f3n implementada con `def` en Python)?\n",
      "\n"
     ]
    },
    {
     "cell_type": "markdown",
     "metadata": {},
     "source": [
      "**2.** Primero definimos la funci\u00f3n para el paso iterativo:"
     ]
    },
    {
     "cell_type": "code",
     "collapsed": false,
     "input": [
      " def iteracion(x):\n",
      "    x=x**2\n",
      "    return x             "
     ],
     "language": "python",
     "metadata": {},
     "outputs": [],
     "prompt_number": 21
    },
    {
     "cell_type": "markdown",
     "metadata": {},
     "source": [
      "Y se procede a definir la funci\u00f3n para la iteraci\u00f3n $n$-\u00e9sima con valor inicial $x$:"
     ]
    },
    {
     "cell_type": "code",
     "collapsed": false,
     "input": [
      "def n_iteracion(x,n):\n",
      "    for i in xrange(n):\n",
      "        x=iteracion(x)\n",
      "    return x\n",
      "    "
     ],
     "language": "python",
     "metadata": {},
     "outputs": [],
     "prompt_number": 22
    },
    {
     "cell_type": "markdown",
     "metadata": {},
     "source": [
      "Como ejemplo y verificaci\u00f3n de que est\u00e1 bien el c\u00f3digo notamos lo siguiente"
     ]
    },
    {
     "cell_type": "code",
     "collapsed": false,
     "input": [
      "p=(((3**2)**2)**2)**2\n",
      "d=n_iteracion(3,4)\n",
      "d==p"
     ],
     "language": "python",
     "metadata": {},
     "outputs": [
      {
       "metadata": {},
       "output_type": "pyout",
       "prompt_number": 23,
       "text": [
        "True"
       ]
      }
     ],
     "prompt_number": 23
    },
    {
     "cell_type": "markdown",
     "metadata": {},
     "source": [
      "**2.a.** Implementamos el c\u00f3digo para obtener la iteraci\u00f3n 75 con condici\u00f3n inicial $1-10^{-20}$"
     ]
    },
    {
     "cell_type": "code",
     "collapsed": false,
     "input": [
      "x=1-10**-20\n",
      "n_iteracion(x,75)"
     ],
     "language": "python",
     "metadata": {},
     "outputs": [
      {
       "metadata": {},
       "output_type": "pyout",
       "prompt_number": 24,
       "text": [
        "1.0"
       ]
      }
     ],
     "prompt_number": 24
    },
    {
     "cell_type": "markdown",
     "metadata": {},
     "source": [
      "**2.b.** El resultado correcto es un n\u00famero muy cercano a cero, pues se sabe que $\\lim_{n \\to \\infty }x^{2^n}=0$ para $0\\leq x <1$; siendo este el caso que nos concierne en **2.a.**"
     ]
    },
    {
     "cell_type": "markdown",
     "metadata": {},
     "source": [
      "**2.c.** Para verificar esto tendr\u00edamos que tener acceso a un mayor n\u00famero de decimales en la computadora para hacer nuestras cuentas. Esto se sigue de las siguientes observaciones"
     ]
    },
    {
     "cell_type": "code",
     "collapsed": false,
     "input": [
      "print 10**(-20)"
     ],
     "language": "python",
     "metadata": {},
     "outputs": [
      {
       "output_type": "stream",
       "stream": "stdout",
       "text": [
        "1e-20\n"
       ]
      }
     ],
     "prompt_number": 25
    },
    {
     "cell_type": "code",
     "collapsed": false,
     "input": [
      "print 1 - 10**(-20)"
     ],
     "language": "python",
     "metadata": {},
     "outputs": [
      {
       "output_type": "stream",
       "stream": "stdout",
       "text": [
        "1.0\n"
       ]
      }
     ],
     "prompt_number": 26
    },
    {
     "cell_type": "markdown",
     "metadata": {},
     "source": [
      "**2.d.** Asumiendo que se ha definido una funci\u00f3n $f(x)$ previamente"
     ]
    },
    {
     "cell_type": "code",
     "collapsed": false,
     "input": [
      "def iteracion(x):\n",
      "    x=f(x)\n",
      "    return x\n",
      "\n",
      "def n_iteracio(x,n):\n",
      "    for i in xrange(n):\n",
      "        x=iteracion(x)\n",
      "    return x"
     ],
     "language": "python",
     "metadata": {},
     "outputs": [],
     "prompt_number": 27
    },
    {
     "cell_type": "markdown",
     "metadata": {},
     "source": [
      "**3.** *\"Hace muchos muchos a\u00f1os, en un reino muy lejano...\"*, se le ocurri\u00f3 a Arqu\u00edmedes un m\u00e9todo para determinar el valor num\u00e9rico de $\\pi$. El m\u00e9todo consiste en considerar dos pol\u00edgonos regulares de $n$ lados, uno inscrito y otro circunscrito al c\u00edrculo, y ver c\u00f3mo el \u00e1rea de estos acota por abajo y arriba el \u00e1rea del c\u00edrculo. \n",
      "\n",
      "a. Da las cotas (inferior y superior) al \u00e1rea del c\u00edrculo de radio 1, *al menos* cuando $n=4$, $5$ y $6$ (o sea, las cotas que se obtienen usando los siguientes pol\u00edgonos regulares:  el cuadrado, el pent\u00e1gono y el hex\u00e1gono). \n",
      "\n",
      "[Arqu\u00edmedes seguramente hizo esto de manera emp\u00edrica, construyendo los pol\u00edgonos; para este ejercicio se \n",
      "vale utilizar lo que sabes de geometr\u00eda y trigonometr\u00eda.]\n",
      "\n",
      "b. \u00bfSe te ocurre c\u00f3mo obtener las cotas para $\\pi$ usando un pol\u00edgono regular de $n$ lados?\n",
      "\n",
      "(\u00c9ste es el **Ejercicio 1.1** del Moore-Kearfortt (2009); la soluci\u00f3n que ellos dan para $n=4$ me parece que est\u00e1 mal en la cota inferior.)"
     ]
    },
    {
     "cell_type": "markdown",
     "metadata": {},
     "source": [
      "**3.b.** Hagamos una idea de la prueba para calcular el \u00e1rea de  pol\u00edgono regular que esta inscrito en el c\u00edrculo de radio uno. Primero, observamos que el pol\u00edgono inscrito al c\u00edrculo se divide en $n$ tri\u00e1ngulos rect\u00e1ngulos, cuya base mide uno y uno de sus \u00e1ngulos mide $a=\\frac{360^{\\circ}}{n}$ (un ejemplo de estos es el tri\u00e1ngulo que se forma con lineas verde, roja y amarilla en la figura de abajo). Con esta informaci\u00f3n, podemos calcular la distancia de su altura, la cual va a ser $\\sin{a}$, y en consecuencia podemos caular su \u00e1rea que resulta ser $\\frac{\\sin{a}}{2}$ . Por lo tanto, sumando las areas de estos $n$ tri\u00e1ngulos, tenemos que el area del pol\u00edgono es $\\frac{n\\sin{a}}{2}$."
     ]
    },
    {
     "cell_type": "code",
     "collapsed": false,
     "input": [
      "%matplotlib inline\n",
      "from matplotlib import pyplot as plt\n",
      "theta=np.arange(0,2*np.pi,2*np.pi/360)\n",
      "x=np.cos(theta)\n",
      "y=np.sin(theta)\n",
      "plt.figure()\n",
      "plt.axis('scaled')\n",
      "plt.plot(x,y)\n",
      "plt.xlim(-1.3,1.3)\n",
      "plt.ylim(-1.3,1.3)\n",
      "phi=(np.pi/180)*(360/5.)\n",
      "y=np.sin(phi*np.arange(0,6))\n",
      "x=np.cos(phi*np.arange(0,6))\n",
      "plt.plot(x,y,'r')\n",
      "x=0,x[1]\n",
      "y=0,y[1]\n",
      "plt.plot(x,y,'g')\n",
      "x=0,1,1,0\n",
      "y=0,0,np.tan(np.pi/5),0\n",
      "plt.plot(x,y,'y')\n",
      "r=np.cos(np.pi/5)**(-1)\n",
      "x=[]\n",
      "y=[]\n",
      "for i in xrange(0,5):\n",
      "    x.append(r*np.cos(((2*i+1)*np.pi)/5))\n",
      "    x.append(np.cos(((2*i+2)*np.pi)/5))\n",
      "    y.append(r*np.sin(((2*i+1)*np.pi)/5))\n",
      "    y.append(np.sin(((2*i+2)*np.pi)/5))\n",
      "plt.plot(x,y,'m')\n",
      "plt.annotate(\"b\",\n",
      "            xy=(0.20, 0.), xycoords='data',\n",
      "            xytext=(0.21, 0.19), textcoords='data',\n",
      "            arrowprops=dict(arrowstyle=\"-\",\n",
      "                            connectionstyle=\"angle3\"),\n",
      "            )\n",
      "plt.annotate(\"a\",\n",
      "            xy=(0.07, 0.), xycoords='data',\n",
      "            xytext=(0.09, 0.3), textcoords='data',\n",
      "            arrowprops=dict(arrowstyle=\"-\",\n",
      "                            connectionstyle=\"angle3\"),label='a'\n",
      "            )\n",
      "\n",
      "plt.show()"
     ],
     "language": "python",
     "metadata": {},
     "outputs": [
      {
       "metadata": {},
       "output_type": "display_data",
       "png": "[encoded data removed]",
       "text": [
        "<matplotlib.figure.Figure at 0x46eeb90>"
       ]
      }
     ],
     "prompt_number": 28
    },
    {
     "cell_type": "markdown",
     "metadata": {},
     "source": [
      "Para calcular el area del pol\u00edgono circunscrito, vemos que este pol\u00edgono est\u00e1 compuesto de $n$ tri\u00e1ngulos isoceles de altura uno, y uno de sus \u00e1ngulos mide $a=\\frac{360^{\\circ}}{n}$. Tomando una mitad de estos tri\u00e1ngulos is\u00f3celes (tri\u00e1ngulo amarillo de la figura de arriba) terminamos con un \u00e1ngulo $b=\\frac{180^{\\circ}}{n}$, como en la imagen superior, y vemos que la altura de este subtri\u00e1ngulo mide $\\tan{b}$, por lo que el area de uno de los tri\u00e1ngulos is\u00f3celes es $2\\frac{\\tan{b}}{2}=\\tan{b}$. Por lo tanto, sumando las areas de estos $n$ tri\u00e1ngulos, tenemos que el area del pol\u00edgono circunscrito es $n\\tan{b}$."
     ]
    },
    {
     "cell_type": "markdown",
     "metadata": {},
     "source": [
      "**3.1** Calculamos el \u00e1rea de los pol\u00edgonos inscritos con $n=4,5,6$, para encontrar las cotas por abajo."
     ]
    },
    {
     "cell_type": "code",
     "collapsed": false,
     "input": [
      "grad=np.pi/180\n",
      "def cotad(n):\n",
      "    return (0.5)*n*np.sin((360*grad)/n)"
     ],
     "language": "python",
     "metadata": {},
     "outputs": [],
     "prompt_number": 29
    },
    {
     "cell_type": "code",
     "collapsed": false,
     "input": [
      "for n in xrange(4,7):\n",
      "    print 'el \u00e1rea del pol\u00edgono inscrito de %d lados es %f'%(n,cotad(n))"
     ],
     "language": "python",
     "metadata": {},
     "outputs": [
      {
       "output_type": "stream",
       "stream": "stdout",
       "text": [
        "el \u00e1rea del pol\u00edgono inscrito de 4 lados es 2.000000\n",
        "el \u00e1rea del pol\u00edgono inscrito de 5 lados es 2.377641\n",
        "el \u00e1rea del pol\u00edgono inscrito de 6 lados es 2.598076\n"
       ]
      }
     ],
     "prompt_number": 30
    },
    {
     "cell_type": "markdown",
     "metadata": {},
     "source": [
      "Por \u00faltimo, calculamos el \u00e1rea de los pol\u00edgonos circunscritos con $n=4,5,6$, para encontrar las cotas por arriba."
     ]
    },
    {
     "cell_type": "code",
     "collapsed": false,
     "input": [
      "def cotau(n):\n",
      "    return n*np.tan((360*grad)/(2*n))"
     ],
     "language": "python",
     "metadata": {},
     "outputs": [],
     "prompt_number": 31
    },
    {
     "cell_type": "code",
     "collapsed": false,
     "input": [
      "for n in xrange(4,7):\n",
      "    print 'el \u00e1rea del pol\u00edgono circunscrito de %d lados es %f'%(n,cotau(n))"
     ],
     "language": "python",
     "metadata": {},
     "outputs": [
      {
       "output_type": "stream",
       "stream": "stdout",
       "text": [
        "el \u00e1rea del pol\u00edgono circunscrito de 4 lados es 4.000000\n",
        "el \u00e1rea del pol\u00edgono circunscrito de 5 lados es 3.632713\n",
        "el \u00e1rea del pol\u00edgono circunscrito de 6 lados es 3.464102\n"
       ]
      }
     ],
     "prompt_number": 32
    }
   ],
   "metadata": {}
  }
 ]
}