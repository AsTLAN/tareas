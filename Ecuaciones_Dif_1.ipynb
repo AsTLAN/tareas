{
 "metadata": {
  "name": "Ecuaciones_Dif_1"
 },
 "nbformat": 3,
 "nbformat_minor": 0,
 "worksheets": [
  {
   "cells": [
    {
     "cell_type": "code",
     "collapsed": false,
     "input": [
      "from taylor import *"
     ],
     "language": "python",
     "metadata": {},
     "outputs": [],
     "prompt_number": 1
    },
    {
     "cell_type": "code",
     "collapsed": false,
     "input": [
      "import numpy as np\n",
      "def evaluacion(t, a):\n",
      "    \n",
      "    return np.sum( [a.coef[i] * t**i for i in range(0, a.orden + 1)] )"
     ],
     "language": "python",
     "metadata": {},
     "outputs": [],
     "prompt_number": 2
    },
    {
     "cell_type": "code",
     "collapsed": false,
     "input": [
      "def f(x):\n",
      "    return np.exp(x)"
     ],
     "language": "python",
     "metadata": {},
     "outputs": [],
     "prompt_number": 3
    },
    {
     "cell_type": "code",
     "collapsed": false,
     "input": [
      "evaluacion(1, f(Taylor([0,1], 15)) )"
     ],
     "language": "python",
     "metadata": {},
     "outputs": [
      {
       "output_type": "pyout",
       "prompt_number": 4,
       "text": [
        "2.7182818284589949"
       ]
      }
     ],
     "prompt_number": 4
    },
    {
     "cell_type": "code",
     "collapsed": false,
     "input": [
      "np.exp(1)"
     ],
     "language": "python",
     "metadata": {},
     "outputs": [
      {
       "output_type": "pyout",
       "prompt_number": 5,
       "text": [
        "2.7182818284590451"
       ]
      }
     ],
     "prompt_number": 5
    },
    {
     "cell_type": "markdown",
     "metadata": {},
     "source": [
      "El siguiente c\u00f3digo resulve la siguiente ecuaci\u00f3n en series de Taylor a un orden dado:\n",
      "$x'(t) = f(x(t))$ con la condici\u00f3n inicial $x(0) = x_{0}$ "
     ]
    },
    {
     "cell_type": "code",
     "collapsed": false,
     "input": [
      "def solucion_1(x0, f, orden):\n",
      "    def x(n):\n",
      "        if n == 0:\n",
      "            return x0\n",
      "        \n",
      "        else:\n",
      "            a = Taylor([ x(i) for i in range(0, n)], orden)\n",
      "            \n",
      "            return f(a).coef[n-1] * (1.0/(n))\n",
      "    return Taylor( [ x(i) for i in range(0, orden + 1)] ,orden)\n",
      "                    "
     ],
     "language": "python",
     "metadata": {},
     "outputs": [],
     "prompt_number": 6
    },
    {
     "cell_type": "code",
     "collapsed": false,
     "input": [
      "def f(x):\n",
      "    return -1 * x"
     ],
     "language": "python",
     "metadata": {},
     "outputs": [],
     "prompt_number": 7
    },
    {
     "cell_type": "markdown",
     "metadata": {},
     "source": [
      "Vemos que claramente su soluci\u00f3n es la funci\u00f3n $e^{-x}$"
     ]
    },
    {
     "cell_type": "code",
     "collapsed": false,
     "input": [
      "def g(x):\n",
      "    return np.exp(-1 * x)"
     ],
     "language": "python",
     "metadata": {},
     "outputs": [],
     "prompt_number": 8
    },
    {
     "cell_type": "code",
     "collapsed": false,
     "input": [
      "solucion_1(1, f, 10)"
     ],
     "language": "python",
     "metadata": {},
     "outputs": [
      {
       "output_type": "pyout",
       "prompt_number": 9,
       "text": [
        "Taylor [1, -1.0, 0.5, -0.16666666666666666, 0.041666666666666664, -0.0083333333333333332, 0.0013888888888888887, -0.00019841269841269839, 2.4801587301587298e-05, -2.7557319223985884e-06, 2.7557319223985883e-07]"
       ]
      }
     ],
     "prompt_number": 9
    },
    {
     "cell_type": "code",
     "collapsed": false,
     "input": [
      "g(Taylor([0,1] ,10))"
     ],
     "language": "python",
     "metadata": {},
     "outputs": [
      {
       "output_type": "pyout",
       "prompt_number": 10,
       "text": [
        "Taylor [1.0, -1.0, 0.5, -0.16666666666666666, 0.041666666666666664, -0.0083333333333333332, 0.0013888888888888887, -0.00019841269841269839, 2.4801587301587298e-05, -2.7557319223985884e-06, 2.7557319223985883e-07]"
       ]
      }
     ],
     "prompt_number": 10
    },
    {
     "cell_type": "markdown",
     "metadata": {},
     "source": [
      "S\u00f3lo para ver que tan buena es la soluci\u00f3n..."
     ]
    },
    {
     "cell_type": "code",
     "collapsed": false,
     "input": [
      "def error(x0, f, orden, t):\n",
      "    a = solucion_1(x0, f, orden)\n",
      "    \n",
      "    return [evaluacion(t, a), abs( evaluacion(t, a) - np.exp(t) )]"
     ],
     "language": "python",
     "metadata": {},
     "outputs": [],
     "prompt_number": 23
    },
    {
     "cell_type": "code",
     "collapsed": false,
     "input": [
      "l = [10 ** (-1 * i) for i in range(5, 11)]"
     ],
     "language": "python",
     "metadata": {},
     "outputs": [],
     "prompt_number": 24
    },
    {
     "cell_type": "code",
     "collapsed": false,
     "input": [
      "[error(1, f, 10, i) for i in l]"
     ],
     "language": "python",
     "metadata": {},
     "outputs": [
      {
       "output_type": "pyout",
       "prompt_number": 25,
       "text": [
        "[[0.99999000004999983, 2.0000000000242046e-05],\n",
        " [0.99999900000050002, 1.999999999946489e-06],\n",
        " [0.99999990000000505, 1.9999999989472883e-07],\n",
        " [0.99999998999999995, 1.9999999989472883e-08],\n",
        " [0.99999999900000003, 2.0000000544584395e-09],\n",
        " [0.99999999989999999, 2.000000165480742e-10]]"
       ]
      }
     ],
     "prompt_number": 25
    },
    {
     "cell_type": "code",
     "collapsed": false,
     "input": [],
     "language": "python",
     "metadata": {},
     "outputs": []
    }
   ],
   "metadata": {}
  }
 ]
}